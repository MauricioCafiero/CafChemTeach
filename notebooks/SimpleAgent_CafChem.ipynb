{
 "cells": [
  {
   "cell_type": "markdown",
   "metadata": {
    "id": "iCUXzJSHfTj2"
   },
   "source": [
    "#CafChem tools for using a simple AI Agent to perform some tool-using tasks using HuggingFace models\n",
    "\n",
    "[![Open In Colab](https://colab.research.google.com/assets/colab-badge.svg)](https://colab.research.google.com/github/MauricioCafiero/CafChemTeach/blob/main/notebooks/SimpleAgent_CafChem.ipynb)\n",
    "\n",
    "## This notebook allows you to:\n",
    "- Load a model from HuggingFace\n",
    "- Create a simple Agent using Langchain.\n",
    "- compare against using the unadorned model.\n",
    "\n",
    "## Requirements:\n",
    "- This notebook will install several langchain and langgraph libraries and rdkit.\n",
    "- Runs well on an L4 GPU (using a 7.67 GB model). Will run on the v2-8 TPU runtime, with only slightly slower inference imes. Cannot run on CPU. (Colab runtimes)"
   ]
  },
  {
   "cell_type": "markdown",
   "metadata": {
    "id": "z6B5NJ1NsiRI"
   },
   "source": [
    "### Install langchain libraries"
   ]
  },
  {
   "cell_type": "code",
   "execution_count": 2,
   "metadata": {
    "colab": {
     "base_uri": "https://localhost:8080/"
    },
    "id": "sfb7YSMjqxjt",
    "outputId": "c54d2ad3-7590-4f1e-c5ac-7c58282b8a9b"
   },
   "outputs": [
    {
     "name": "stdout",
     "output_type": "stream",
     "text": [
      "\u001b[?25l   \u001b[90m━━━━━━━━━━━━━━━━━━━━━━━━━━━━━━━━━━━━━━━━\u001b[0m \u001b[32m0.0/2.5 MB\u001b[0m \u001b[31m?\u001b[0m eta \u001b[36m-:--:--\u001b[0m\r",
      "\u001b[2K   \u001b[91m━━━━━━━━━━━━━━━━━━━━━━━━━━━━━━━━━━━━━━━\u001b[0m\u001b[91m╸\u001b[0m \u001b[32m2.5/2.5 MB\u001b[0m \u001b[31m89.8 MB/s\u001b[0m eta \u001b[36m0:00:01\u001b[0m\r",
      "\u001b[2K   \u001b[90m━━━━━━━━━━━━━━━━━━━━━━━━━━━━━━━━━━━━━━━━\u001b[0m \u001b[32m2.5/2.5 MB\u001b[0m \u001b[31m54.6 MB/s\u001b[0m eta \u001b[36m0:00:00\u001b[0m\n",
      "\u001b[?25h\u001b[?25l   \u001b[90m━━━━━━━━━━━━━━━━━━━━━━━━━━━━━━━━━━━━━━━━\u001b[0m \u001b[32m0.0/444.0 kB\u001b[0m \u001b[31m?\u001b[0m eta \u001b[36m-:--:--\u001b[0m\r",
      "\u001b[2K   \u001b[90m━━━━━━━━━━━━━━━━━━━━━━━━━━━━━━━━━━━━━━━━\u001b[0m \u001b[32m444.0/444.0 kB\u001b[0m \u001b[31m37.1 MB/s\u001b[0m eta \u001b[36m0:00:00\u001b[0m\n",
      "\u001b[?25h\u001b[?25l   \u001b[90m━━━━━━━━━━━━━━━━━━━━━━━━━━━━━━━━━━━━━━━━\u001b[0m \u001b[32m0.0/64.7 kB\u001b[0m \u001b[31m?\u001b[0m eta \u001b[36m-:--:--\u001b[0m\r",
      "\u001b[2K   \u001b[90m━━━━━━━━━━━━━━━━━━━━━━━━━━━━━━━━━━━━━━━━\u001b[0m \u001b[32m64.7/64.7 kB\u001b[0m \u001b[31m6.2 MB/s\u001b[0m eta \u001b[36m0:00:00\u001b[0m\n",
      "\u001b[?25h\u001b[?25l   \u001b[90m━━━━━━━━━━━━━━━━━━━━━━━━━━━━━━━━━━━━━━━━\u001b[0m \u001b[32m0.0/50.9 kB\u001b[0m \u001b[31m?\u001b[0m eta \u001b[36m-:--:--\u001b[0m\r",
      "\u001b[2K   \u001b[90m━━━━━━━━━━━━━━━━━━━━━━━━━━━━━━━━━━━━━━━━\u001b[0m \u001b[32m50.9/50.9 kB\u001b[0m \u001b[31m5.2 MB/s\u001b[0m eta \u001b[36m0:00:00\u001b[0m\n",
      "\u001b[?25h\u001b[31mERROR: pip's dependency resolver does not currently take into account all the packages that are installed. This behaviour is the source of the following dependency conflicts.\n",
      "google-colab 1.0.0 requires requests==2.32.4, but you have requests 2.32.5 which is incompatible.\u001b[0m\u001b[31m\n",
      "\u001b[2K     \u001b[90m━━━━━━━━━━━━━━━━━━━━━━━━━━━━━━━━━━━━━━━━\u001b[0m \u001b[32m43.7/43.7 kB\u001b[0m \u001b[31m2.6 MB/s\u001b[0m eta \u001b[36m0:00:00\u001b[0m\n",
      "\u001b[2K   \u001b[90m━━━━━━━━━━━━━━━━━━━━━━━━━━━━━━━━━━━━━━━━\u001b[0m \u001b[32m153.3/153.3 kB\u001b[0m \u001b[31m8.3 MB/s\u001b[0m eta \u001b[36m0:00:00\u001b[0m\n",
      "\u001b[2K   \u001b[90m━━━━━━━━━━━━━━━━━━━━━━━━━━━━━━━━━━━━━━━━\u001b[0m \u001b[32m43.9/43.9 kB\u001b[0m \u001b[31m4.1 MB/s\u001b[0m eta \u001b[36m0:00:00\u001b[0m\n",
      "\u001b[2K   \u001b[90m━━━━━━━━━━━━━━━━━━━━━━━━━━━━━━━━━━━━━━━━\u001b[0m \u001b[32m54.0/54.0 kB\u001b[0m \u001b[31m5.5 MB/s\u001b[0m eta \u001b[36m0:00:00\u001b[0m\n",
      "\u001b[2K   \u001b[90m━━━━━━━━━━━━━━━━━━━━━━━━━━━━━━━━━━━━━━━━\u001b[0m \u001b[32m216.7/216.7 kB\u001b[0m \u001b[31m20.8 MB/s\u001b[0m eta \u001b[36m0:00:00\u001b[0m\n",
      "\u001b[?25hCollecting duckduckgo-search\n",
      "  Downloading duckduckgo_search-8.1.1-py3-none-any.whl.metadata (16 kB)\n",
      "Requirement already satisfied: click>=8.1.8 in /usr/local/lib/python3.12/dist-packages (from duckduckgo-search) (8.2.1)\n",
      "Collecting primp>=0.15.0 (from duckduckgo-search)\n",
      "  Downloading primp-0.15.0-cp38-abi3-manylinux_2_17_x86_64.manylinux2014_x86_64.whl.metadata (13 kB)\n",
      "Requirement already satisfied: lxml>=5.3.0 in /usr/local/lib/python3.12/dist-packages (from duckduckgo-search) (5.4.0)\n",
      "Downloading duckduckgo_search-8.1.1-py3-none-any.whl (18 kB)\n",
      "Downloading primp-0.15.0-cp38-abi3-manylinux_2_17_x86_64.manylinux2014_x86_64.whl (3.3 MB)\n",
      "\u001b[2K   \u001b[90m━━━━━━━━━━━━━━━━━━━━━━━━━━━━━━━━━━━━━━━━\u001b[0m \u001b[32m3.3/3.3 MB\u001b[0m \u001b[31m55.9 MB/s\u001b[0m eta \u001b[36m0:00:00\u001b[0m\n",
      "\u001b[?25hInstalling collected packages: primp, duckduckgo-search\n",
      "Successfully installed duckduckgo-search-8.1.1 primp-0.15.0\n",
      "\u001b[2K   \u001b[90m━━━━━━━━━━━━━━━━━━━━━━━━━━━━━━━━━━━━━━━━\u001b[0m \u001b[32m5.3/5.3 MB\u001b[0m \u001b[31m74.0 MB/s\u001b[0m eta \u001b[36m0:00:00\u001b[0m\n",
      "\u001b[?25h"
     ]
    }
   ],
   "source": [
    "!pip install --upgrade --quiet  langchain-huggingface\n",
    "!pip install langchain_core --quiet\n",
    "!pip -q install langchain_community\n",
    "!pip install -q langgraph\n",
    "!pip install duckduckgo-search\n",
    "!pip install -U ddgs -q"
   ]
  },
  {
   "cell_type": "markdown",
   "metadata": {
    "id": "twSTviaVt8af"
   },
   "source": [
    "### import libraries"
   ]
  },
  {
   "cell_type": "code",
   "execution_count": 3,
   "metadata": {
    "id": "TqlbI0lqt-Pb"
   },
   "outputs": [],
   "source": [
    "import torch\n",
    "from typing import Annotated, TypedDict\n",
    "from langchain_community.tools import DuckDuckGoSearchRun\n",
    "from langchain_core.tools import tool\n",
    "from langgraph.prebuilt import ToolNode, tools_condition\n",
    "from langgraph.graph import StateGraph, START, END\n",
    "from langgraph.graph.message import add_messages\n",
    "from langchain_core.messages import SystemMessage, trim_messages, AIMessage, HumanMessage, ToolCall\n",
    "\n",
    "from langchain_huggingface.llms import HuggingFacePipeline\n",
    "from langchain_huggingface import ChatHuggingFace\n",
    "from langchain_core.prompts import PromptTemplate, ChatPromptTemplate\n",
    "from langchain_core.runnables import chain\n",
    "from uuid import uuid4\n",
    "\n",
    "device = \"cuda\" if torch.cuda.is_available() else \"cpu\""
   ]
  },
  {
   "cell_type": "markdown",
   "metadata": {
    "id": "RwW7w-FqSJ79"
   },
   "source": [
    "### set up LLM"
   ]
  },
  {
   "cell_type": "code",
   "execution_count": 4,
   "metadata": {
    "colab": {
     "base_uri": "https://localhost:8080/",
     "height": 66,
     "referenced_widgets": [
      "a34e384383354d6e85c966274fefea24",
      "ca7e86d941534e6988114cece6a595dc",
      "f089982b66e44e009d8d3c5b79c77c6e",
      "17341e8b491f48e8a3fa11b6807194a5",
      "b941b3eec9a0448fa45ada8c4eee719d",
      "01a4850d72a14826a8b6df7dc5ca7a29",
      "ae1dfcea8264444a8db140abcb91f992",
      "35a306e1b14e4f36b70163e5e4edd097",
      "5423d450c1c4412babc33dc03edb44d0",
      "98dbb4bdae4348c4b1be8683634ef633",
      "ed05e87b515d4d8eb0027932f6f44b5d"
     ]
    },
    "id": "U-j8jWN7r0Uv",
    "outputId": "533f88ff-a41a-417b-a270-3d05633dd848"
   },
   "outputs": [
    {
     "data": {
      "application/vnd.jupyter.widget-view+json": {
       "model_id": "a34e384383354d6e85c966274fefea24",
       "version_major": 2,
       "version_minor": 0
      },
      "text/plain": [
       "Loading checkpoint shards:   0%|          | 0/2 [00:00<?, ?it/s]"
      ]
     },
     "metadata": {},
     "output_type": "display_data"
    },
    {
     "name": "stderr",
     "output_type": "stream",
     "text": [
      "Device set to use cuda:0\n"
     ]
    }
   ],
   "source": [
    "hf = HuggingFacePipeline.from_model_id(\n",
    "    model_id=\"microsoft/Phi-4-mini-instruct\",\n",
    "    task=\"text-generation\",\n",
    "    pipeline_kwargs = {\"max_new_tokens\": 200, \"temperature\": 0.5})"
   ]
  },
  {
   "cell_type": "markdown",
   "metadata": {
    "id": "nnUbaQr2dsnk"
   },
   "source": [
    "## Define functions for Agent"
   ]
  },
  {
   "cell_type": "code",
   "execution_count": 7,
   "metadata": {
    "id": "7vdFbJLvNOb3"
   },
   "outputs": [],
   "source": [
    "search = DuckDuckGoSearchRun()\n",
    "\n",
    "@tool\n",
    "def calculator(query: str) -> str:\n",
    "  '''\n",
    "  A simple calculator tool. Input should be a mathematical expression.\n",
    "  '''\n",
    "  return eval(query)\n",
    "\n",
    "tools = [calculator, search]\n",
    "chat_model = ChatHuggingFace(llm=hf).bind_tools(tools)"
   ]
  },
  {
   "cell_type": "code",
   "execution_count": 8,
   "metadata": {
    "id": "117yJIKeuo-G"
   },
   "outputs": [],
   "source": [
    "class State(TypedDict):\n",
    "  '''\n",
    "    Defines the state for the Agent\n",
    "  '''\n",
    "  messages: Annotated[list, add_messages]\n",
    "\n",
    "def first_node(state: State) -> State:\n",
    "  '''\n",
    "    The first node of the agent. This node receives the input and asks the LLM\n",
    "    to determine which is the best tool to use to answer the INITIAL PROMPT.\n",
    "\n",
    "      Input: the initial prompt from the user.\n",
    "      Output: the best tool to use to answer the INITIAL PROMPT and a TOOL PROMPT.\n",
    "  '''\n",
    "\n",
    "  initial_prompt = state[\"messages\"][-1].content\n",
    "\n",
    "  prompt = f'For the INITIAL PROMPT given below, determine if one of the tools descibed below \\\n",
    "will be useful in answering the prompt. If so, compose a TOOL PROMPT to feed to that tool. Your \\\n",
    "repsonse should take the form: # tool choice # TOOL PROMPT #. \\n \\\n",
    "If the tools cannot be used to answer the INITIAL PROMPT, answer the question on your own. \\n\\\n",
    "INITIAL PROMPT: {initial_prompt}.\\n \\\n",
    "Tools: \\n \\\n",
    "search_tool: this tool can search the web for up-to-date, relevant information \\n \\\n",
    "calculator_tool: this tool can perform simple maths.'\n",
    "\n",
    "  res = chat_model.invoke(prompt)\n",
    "  #print(res)\n",
    "\n",
    "  raw_out = str(res).split('<|assistant|>')[1].split('#')\n",
    "  tool = raw_out[1].strip()\n",
    "  tool_prompt = raw_out[2].strip()\n",
    "  answer = f\"tool: {tool}, prompt: {tool_prompt}\"\n",
    "  #print(answer)\n",
    "\n",
    "  return {\"messages\": answer}\n",
    "\n",
    "\n",
    "def router_node(state: State) -> State:\n",
    "  '''\n",
    "    Receives the tool choice and prompt from the first node and calls the tools.\n",
    "\n",
    "      Input: the tool choice and prompt from the first node.\n",
    "      Output: the answer from the tool.\n",
    "  '''\n",
    "  raw_input = state[\"messages\"][-1].content\n",
    "\n",
    "  query_prompt = raw_input.split(',')[1].split(':')[1].strip()\n",
    "  tool_choice = raw_input.split(',')[0].split(':')[1].strip()\n",
    "\n",
    "  search_tool_call = None\n",
    "  calc_tool_call = None\n",
    "\n",
    "  if 'search' in tool_choice:\n",
    "    search_tool_call  = ToolCall(\n",
    "      name='duckduckgo_search', args={'query': query_prompt}, id=uuid4().hex)\n",
    "  elif 'calculator' in tool_choice:\n",
    "    calc_tool_call  = ToolCall(\n",
    "      name='calculator', args={'query': query_prompt}, id=uuid4().hex)\n",
    "  else:\n",
    "    raise ValueError(\"invalid tool chosen\")\n",
    "\n",
    "  tool_list = []\n",
    "  if search_tool_call is not None:\n",
    "    tool_list.append(search_tool_call)\n",
    "  if calc_tool_call is not None:\n",
    "    tool_list.append(calc_tool_call)\n",
    "\n",
    "  return {\"messages\": AIMessage(content=\"\", tool_calls=tool_list)}\n",
    "\n",
    "def context_node(state: State) -> State:\n",
    "  '''\n",
    "    Receives the tool information and feeds it to the model to generate an answer.\n",
    "\n",
    "      Input: the tool information.\n",
    "      Output: The prompt for the LLM with tool-provided context.\n",
    "  '''\n",
    "  context = state[\"messages\"][-1].content\n",
    "  state[\"messages\"].pop()\n",
    "\n",
    "  original_query = state[\"messages\"][0].content\n",
    "\n",
    "  prompt = f\"Use this CONTEXT to answer the ORIGINAL QUESTION: \\\n",
    "CONTEXT: {context} \\\n",
    "ORIGINAL QUESTION: {original_query}\"\n",
    "\n",
    "  return {\"messages\": HumanMessage(prompt)}\n",
    "\n",
    "def model_node(state: State) -> State:\n",
    "  '''\n",
    "    Receives the prompt for the LLM and generates an answer.\n",
    "\n",
    "      Input: The prompt for the LLM with tool-provided context.\n",
    "      Output: The answer from the LLM.\n",
    "  '''\n",
    "  res = chat_model.invoke(state[\"messages\"])\n",
    "  return {\"messages\": res}\n",
    "\n",
    "def pretty_print(answer):\n",
    "  final = str(answer['messages'][-1]).split('<|assistant|>')[-1].split('#')[0].strip(\"n\").strip('\\\\').strip('n').strip('\\\\')\n",
    "  for i in range(0,len(final),100):\n",
    "    print(final[i:i+100])\n",
    "\n",
    "def print_short(answer):\n",
    "  for i in range(0,len(answer),100):\n",
    "    print(answer[i:i+100])"
   ]
  },
  {
   "cell_type": "markdown",
   "metadata": {
    "id": "qlyyGef5ead8"
   },
   "source": [
    "### Build the graph"
   ]
  },
  {
   "cell_type": "code",
   "execution_count": 9,
   "metadata": {
    "id": "ng-ATXlET3xx"
   },
   "outputs": [],
   "source": [
    "builder = StateGraph(State)\n",
    "builder.add_node(\"first_node\", first_node)\n",
    "builder.add_node(\"router_node\", router_node)\n",
    "builder.add_node(\"tools_node\", ToolNode(tools))\n",
    "builder.add_node(\"context_node\", context_node)\n",
    "builder.add_node(\"model_node\", model_node)\n",
    "\n",
    "builder.add_edge(START, \"first_node\")\n",
    "builder.add_edge(\"first_node\", \"router_node\")\n",
    "builder.add_edge(\"router_node\", \"tools_node\")\n",
    "builder.add_edge(\"tools_node\", \"context_node\")\n",
    "builder.add_edge(\"context_node\", \"model_node\")\n",
    "builder.add_edge(\"model_node\", END)\n",
    "\n",
    "graph = builder.compile()"
   ]
  },
  {
   "cell_type": "markdown",
   "metadata": {
    "id": "6byhjCEvec4L"
   },
   "source": [
    "## Using the Agent"
   ]
  },
  {
   "cell_type": "code",
   "execution_count": 10,
   "metadata": {
    "id": "ttKJrSWOvAfg"
   },
   "outputs": [],
   "source": [
    "input = {\n",
    "    \"messages\": [\n",
    "        HumanMessage('When did the movie \"Transformers One\" come out?')\n",
    "    ]\n",
    "}"
   ]
  },
  {
   "cell_type": "code",
   "execution_count": 12,
   "metadata": {
    "colab": {
     "base_uri": "https://localhost:8080/",
     "height": 35
    },
    "id": "vqfyoSP91MA6",
    "outputId": "d6f4c425-13f3-44b8-d25f-a8217a15cc3d"
   },
   "outputs": [
    {
     "data": {
      "application/vnd.google.colaboratory.intrinsic+json": {
       "type": "string"
      },
      "text/plain": [
       "'The movie \"Transformers One\" premiered on September 20, 2024.'"
      ]
     },
     "execution_count": 12,
     "metadata": {},
     "output_type": "execute_result"
    }
   ],
   "source": [
    "answer = graph.invoke(input)\n",
    "\n",
    "str(answer[\"messages\"]).split(\"<|assistant|>\")[-1].split(\"\\'\")[0]"
   ]
  },
  {
   "cell_type": "markdown",
   "metadata": {
    "id": "p1vSAudMem0h"
   },
   "source": [
    "### View Agent Image"
   ]
  },
  {
   "cell_type": "code",
   "execution_count": 103,
   "metadata": {
    "colab": {
     "base_uri": "https://localhost:8080/",
     "height": 647
    },
    "id": "vULJhZVveo6B",
    "outputId": "e39bc971-108d-48b3-f5e3-743dde8c7f2c"
   },
   "outputs": [
    {
     "data": {
      "image/jpeg": "[encoded data removed]",
      "image/png": "[encoded data removed]",
      "text/plain": [
       "<PIL.PngImagePlugin.PngImageFile image mode=RGB size=142x630>"
      ]
     },
     "execution_count": 103,
     "metadata": {},
     "output_type": "execute_result"
    }
   ],
   "source": [
    "from PIL import Image\n",
    "import io\n",
    "\n",
    "img = graph.get_graph().draw_mermaid_png()\n",
    "image = Image.open(io.BytesIO(img))\n",
    "image"
   ]
  },
  {
   "cell_type": "code",
   "execution_count": null,
   "metadata": {
    "id": "jyziix_QepdS"
   },
   "outputs": [],
   "source": []
  },
  {
   "cell_type": "markdown",
   "metadata": {
    "id": "ng4t0pbAf1Fh"
   },
   "source": [
    "## Model without tools:"
   ]
  },
  {
   "cell_type": "code",
   "execution_count": 15,
   "metadata": {
    "colab": {
     "base_uri": "https://localhost:8080/",
     "height": 52
    },
    "id": "tl8OYdfVf3F9",
    "outputId": "ae31eee6-9431-42b2-e204-88ab82eba087"
   },
   "outputs": [
    {
     "data": {
      "application/vnd.google.colaboratory.intrinsic+json": {
       "type": "string"
      },
      "text/plain": [
       "'\"Transformers One\" is a 2014 animated film produced by Hasbro and released by Paramount Pictures. It is the first film in the Transformers franchise after a hiatus since the 2007 film \"Transformers: Revenge of Cybertron.\" The movie was released on June 13, 2014, in the United States.'"
      ]
     },
     "execution_count": 15,
     "metadata": {},
     "output_type": "execute_result"
    }
   ],
   "source": [
    "answer = chat_model.invoke('When did the movie \"Transformers One\" come out?')\n",
    "str(answer).split(\"<|assistant|>\")[-1].split(\"\\'\")[0]"
   ]
  },
  {
   "cell_type": "code",
   "execution_count": null,
   "metadata": {
    "id": "sxxnI2EVgJHR"
   },
   "outputs": [],
   "source": []
  }
 ],
 "metadata": {
  "accelerator": "GPU",
  "colab": {
   "collapsed_sections": [
    "z6B5NJ1NsiRI",
    "Jxis2wVItY2c",
    "5eTmFYZrRtrc",
    "QzBcbrBYRmsU"
   ],
   "gpuType": "L4",
   "machine_shape": "hm",
   "provenance": []
  },
  "kernelspec": {
   "display_name": "Python 3",
   "language": "python",
   "name": "python3"
  },
  "language_info": {
   "codemirror_mode": {
    "name": "ipython",
    "version": 3
   },
   "file_extension": ".py",
   "mimetype": "text/x-python",
   "name": "python",
   "nbconvert_exporter": "python",
   "pygments_lexer": "ipython3",
   "version": "3.8.8"
  }
 },
 "nbformat": 4,
 "nbformat_minor": 1
}
