{
 "cells": [
  {
   "cell_type": "markdown",
   "metadata": {
    "id": "WcY0jVsJkQOk"
   },
   "source": [
    "#CafChem Teaching - LLMs and token sampling.\n",
    "\n",
    "[![Open In Colab](https://colab.research.google.com/assets/colab-badge.svg)](https://colab.research.google.com/github/MauricioCafiero/CafChemTeach/blob/main/notebooks/LLM_Sampling_CafChem.ipynb)\n",
    "\n",
    "## This notebook allows you to:\n",
    "- Load models and tokenizers from Huggingface\n",
    "- use greedy or temperature-based sampling for token selection\n",
    "- use a pipeline for model use\n",
    "\n",
    "## Requirements:\n",
    "- GPU; Colab free tier, or will also run on Kaggle free tier (turn on accelerator GPU).\n",
    "- Huggingface token in secrets; may need repo access."
   ]
  },
  {
   "cell_type": "markdown",
   "metadata": {
    "id": "-dp2qjbvmAej"
   },
   "source": [
    "##Import libraries"
   ]
  },
  {
   "cell_type": "code",
   "execution_count": null,
   "metadata": {
    "id": "m37BI27QylpK"
   },
   "outputs": [],
   "source": [
    "import torch\n",
    "from transformers import AutoTokenizer, AutoModelForCausalLM\n",
    "from transformers import pipeline\n",
    "import pandas as pd\n",
    "import numpy as np\n",
    "import random"
   ]
  },
  {
   "cell_type": "markdown",
   "metadata": {
    "id": "8SLQUJObmF4E"
   },
   "source": [
    "## Define functions"
   ]
  },
  {
   "cell_type": "code",
   "execution_count": null,
   "metadata": {
    "id": "BkrPWbnYyBC2"
   },
   "outputs": [],
   "source": [
    "def setup_decoder(model_name: str):\n",
    "  '''\n",
    "    Setup the decoder model. Pulls model and tokenizer from HuggingFace, sets up device.\n",
    "\n",
    "      Args:\n",
    "        model_name: model to pull from HuggingFace.\n",
    "      Returns:\n",
    "        tokenizer, model, device\n",
    "  '''\n",
    "  device = \"cuda\" if torch.cuda.is_available() else \"cpu\"\n",
    "  tokenizer = AutoTokenizer.from_pretrained(model_name)\n",
    "  model = AutoModelForCausalLM.from_pretrained(model_name).to(device)\n",
    "\n",
    "  print(f\"model setup complete: {model_name}\")\n",
    "  return tokenizer, model, device\n",
    "\n",
    "def decoder_inference(model, tokenizer, device, input_txt: str, n_steps: int,\n",
    "                      TEMP = 0.0):\n",
    "  '''\n",
    "    Takes input_txt and performs autoregressive inference. Captures the chosen token and\n",
    "    probability at each step.\n",
    "\n",
    "      Args:\n",
    "        model: model to pull from HuggingFace.\n",
    "        tokenizer: tokenier associated with the model\n",
    "        device: cpu or cuda\n",
    "        input_txt: prompt to decoder\n",
    "        n_steps: how many tokens to use\n",
    "        TEMP: temperature for inference\n",
    "        use_ramp: Boolean, use temperature ramp?\n",
    "      Returns:\n",
    "        iterations: a list containing the input at each step, the chosen token\n",
    "                    and probability\n",
    "  '''\n",
    "  input_ids = tokenizer(input_txt, return_tensors=\"pt\")[\"input_ids\"].to(device)\n",
    "\n",
    "  iterations = []\n",
    "\n",
    "  with torch.no_grad():\n",
    "      for c in range(n_steps):\n",
    "          iteration = dict()\n",
    "\n",
    "          iteration[\"Input\"] = tokenizer.decode(input_ids[0])\n",
    "          output = model(input_ids=input_ids)\n",
    "\n",
    "          # Select logits of the first batch and the last token and apply softmax\n",
    "          next_token_logits = output.logits[0, -1, :]\n",
    "          next_token_probs = torch.softmax(next_token_logits, dim=-1)\n",
    "\n",
    "          if TEMP < 0.015:\n",
    "            token_id = torch.argmax(next_token_probs,axis=-1)\n",
    "          else:\n",
    "            scaled_probs = next_token_probs**(1/TEMP)\n",
    "            scaled_probs = scaled_probs / scaled_probs.sum()\n",
    "\n",
    "            token_id = np.random.choice(scaled_probs.shape[-1], p=scaled_probs.cpu().numpy())\n",
    "            token_id = torch.tensor(token_id).to(device)\n",
    "\n",
    "          token_prob = next_token_probs[token_id].cpu().numpy()\n",
    "          token_choice = (f\"{tokenizer.decode(token_id)} ({100 * token_prob:.2f}%)\")\n",
    "\n",
    "          iteration[f\"Choice\"] = token_choice\n",
    "\n",
    "          # Append predicted next token to input\n",
    "          input_ids = torch.cat([input_ids, token_id.unsqueeze(0).unsqueeze(0)], dim=-1)\n",
    "\n",
    "          iterations.append(iteration)\n",
    "  return iterations"
   ]
  },
  {
   "cell_type": "markdown",
   "metadata": {
    "id": "Xgrw3V2bmRme"
   },
   "source": [
    "## Set up model"
   ]
  },
  {
   "cell_type": "code",
   "execution_count": null,
   "metadata": {
    "colab": {
     "base_uri": "https://localhost:8080/",
     "height": 290,
     "referenced_widgets": [
      "f9207de8a8234e9fa230c45303cbee1a",
      "99e7a6b955384385aa6af9e5ae387bb9",
      "369e94ad154d436da4b45f393cb0fcb2",
      "157d7d84e2b14a008af8cd634d72e0f9",
      "875537ab2d2d42ba8bf5aa273b9bd9bf",
      "b9db07f62398491fb15e0fd08696a337",
      "5fd000fbfa8d4c90a87d816e60bbb4a5",
      "2df87402f7f14694a855b64d6724c056",
      "0eb5f04f73f74e69aeb6d79d38755e39",
      "eaacd6bf316d4813a8c83edb3108872f",
      "effd8f8295fb4dc198ab8298ecaf7c80",
      "74a8577369074d389b39dd7c92ec138b",
      "95bb4707e89b4a93aa28f1b4f83e6b32",
      "599f8ef1c5df4164a93c33bcdd135e39",
      "475a1793accc49f292da1384cdf96cda",
      "ccf269cf9bb347ccbdb64548eeff4367",
      "5504718fb6db4c259d0938a7f0e1a423",
      "4d6d6bccfe2a4585a87069f5ec8dd854",
      "0111e113d22541c8ac55cf11b541b4bc",
      "4bfafd68f1c44bad8e498b851847ee81",
      "e0b84445adc842b59355cf5f63153012",
      "a67f6314449846fb938f72fce8493d91",
      "e9b000a7c7a843edb79b24090e59efcd",
      "0b19437495fb46e58147a8e0fd00cb40",
      "e072320292b2432eb2cf5fa7b562a212",
      "2d199d152c0c466894f1e165275b2138",
      "4838684fffa840789dcf4500879b02b8",
      "225da715053c4024a14623acb38c7732",
      "5f3e3239c36c4a4aa5913fbbef601fad",
      "d71e0e8a280e406fa1d6cd1b41ebb9fd",
      "c98cceb75af842e2a437d006b04db1b0",
      "fa2f5e9cb8ca4e24a6df1f1c183fdd53",
      "46a6ad74f8da48dd8c3e0565380c9e42",
      "3936089e6a594c66974c7d08304db446",
      "66f04528466342bdb09feeef9398cf7f",
      "0def56c49bf94bc98de93c3c4cc8c15c",
      "9578239a648044ad9911d81eb3824e6c",
      "a7189906e689490c8e6b42e84f3dbd63",
      "51b53376cab04388b5169133e30c0e63",
      "d0fc71ac43e948c895152f5b85179ae2",
      "cb86ed47990440c5be66672b3c29c8ac",
      "826f4031e63e4e8eb2b71cdb5ac44cdd",
      "0a9626b211fb46d1b139f8a01fb89738",
      "d37297b0da1f4bc3ab96e1dfbdb83c10",
      "708252d50eb24c42a20b4a272876cdd3",
      "8824d365fa0b4403a640878a3ead7a00",
      "b2e24fef942b4e9087b1869b5b39a2bb",
      "a67e96560cfa4fb8a098e2931d6e1001",
      "dfc94283f46c49929a2ad2997d49a16d",
      "f5c5688dd58e4e05b20f8b84a25b611f",
      "9e399836bba7472f858154210c73ad91",
      "c1ac9fb27ec548eab38e9af6d8d28e20",
      "2f8a84de19b346e297136acd87b074ac",
      "def09e89cc4844e88c2f6af3d0a05456",
      "169ee2ed2ae44dc1b733ed716c9863ef",
      "bf4cf6469bcb4e749b2cfa2780b81695",
      "2619f65d619f4c8198365a53e8eda7ad",
      "f764d7d06e094fd994d4bce1c9f534a2",
      "c0ed7174885e40169a5a2cd002ff9ae9",
      "ce8831641b5243e696a69460cf83c6f5",
      "28218f12441549cc91ad99a4157be602",
      "b8ff2fbd76ec4e269dfd1a2a7b9221ac",
      "431702cd971b4243ad1f0c4abf83cfa5",
      "f1895df1aaa94233bb433d26556d2bb1",
      "906deded32184ca69cc802b92967685a",
      "b8dd5f1c212c405da96294ba7f13bfed",
      "3d057ee5067c4f3db410297814e2772b",
      "844ad7a04a85442d98e0a1b5f8571719",
      "798d741a1a674c79a3b5b437da566a0e",
      "62e1cc1179264f7bafa4d5e49a535269",
      "c5d7ad0b22424408a9097e8ba487d100",
      "a8c4d9f9aa05416ea4a6b9687a9950b4",
      "a052e084f24f474ba1caf0db59dc5acf",
      "a6a1f033b4474beb89110610389f60cb",
      "9be623e6e23a47a3aae8f7a291e422cc",
      "9deb5a354683457d924c7c2df96918d2",
      "849e612644074e67b541895379b7aae2",
      "bfa3b87b3f784a20a322e9dc9e562bc2",
      "f2d2acd5ce8b44c89953d7e40414ea80",
      "761219b8f1344a10b862791fc8ea1218",
      "80fceb48a76749148c071f39f43fc749",
      "76a66fb0a00f4870b2daff56f1001161",
      "41667bea494e4f4e8a025f974894de19",
      "4f5ac144b4a8444cba3e872b9459d493",
      "43933579cf294a619d03bacad9cc4997",
      "1fd7b4be6279493fa703acc5d20dcb1a",
      "c6ec5ef55c7e4532974dde14ccd35f11",
      "062ecb534d3e4b7b9c78747a4789a4fb"
     ]
    },
    "id": "AB7PIvjryZHs",
    "outputId": "692100dd-aea4-4fcd-c2aa-86e365cef9cd"
   },
   "outputs": [
    {
     "data": {
      "application/vnd.jupyter.widget-view+json": {
       "model_id": "f9207de8a8234e9fa230c45303cbee1a",
       "version_major": 2,
       "version_minor": 0
      },
      "text/plain": [
       "tokenizer_config.json: 0.00B [00:00, ?B/s]"
      ]
     },
     "metadata": {},
     "output_type": "display_data"
    },
    {
     "data": {
      "application/vnd.jupyter.widget-view+json": {
       "model_id": "74a8577369074d389b39dd7c92ec138b",
       "version_major": 2,
       "version_minor": 0
      },
      "text/plain": [
       "vocab.json: 0.00B [00:00, ?B/s]"
      ]
     },
     "metadata": {},
     "output_type": "display_data"
    },
    {
     "data": {
      "application/vnd.jupyter.widget-view+json": {
       "model_id": "e9b000a7c7a843edb79b24090e59efcd",
       "version_major": 2,
       "version_minor": 0
      },
      "text/plain": [
       "merges.txt: 0.00B [00:00, ?B/s]"
      ]
     },
     "metadata": {},
     "output_type": "display_data"
    },
    {
     "data": {
      "application/vnd.jupyter.widget-view+json": {
       "model_id": "3936089e6a594c66974c7d08304db446",
       "version_major": 2,
       "version_minor": 0
      },
      "text/plain": [
       "tokenizer.json: 0.00B [00:00, ?B/s]"
      ]
     },
     "metadata": {},
     "output_type": "display_data"
    },
    {
     "data": {
      "application/vnd.jupyter.widget-view+json": {
       "model_id": "708252d50eb24c42a20b4a272876cdd3",
       "version_major": 2,
       "version_minor": 0
      },
      "text/plain": [
       "special_tokens_map.json:   0%|          | 0.00/655 [00:00<?, ?B/s]"
      ]
     },
     "metadata": {},
     "output_type": "display_data"
    },
    {
     "data": {
      "application/vnd.jupyter.widget-view+json": {
       "model_id": "bf4cf6469bcb4e749b2cfa2780b81695",
       "version_major": 2,
       "version_minor": 0
      },
      "text/plain": [
       "config.json:   0%|          | 0.00/846 [00:00<?, ?B/s]"
      ]
     },
     "metadata": {},
     "output_type": "display_data"
    },
    {
     "data": {
      "application/vnd.jupyter.widget-view+json": {
       "model_id": "3d057ee5067c4f3db410297814e2772b",
       "version_major": 2,
       "version_minor": 0
      },
      "text/plain": [
       "model.safetensors:   0%|          | 0.00/724M [00:00<?, ?B/s]"
      ]
     },
     "metadata": {},
     "output_type": "display_data"
    },
    {
     "data": {
      "application/vnd.jupyter.widget-view+json": {
       "model_id": "bfa3b87b3f784a20a322e9dc9e562bc2",
       "version_major": 2,
       "version_minor": 0
      },
      "text/plain": [
       "generation_config.json:   0%|          | 0.00/132 [00:00<?, ?B/s]"
      ]
     },
     "metadata": {},
     "output_type": "display_data"
    },
    {
     "name": "stdout",
     "output_type": "stream",
     "text": [
      "model setup complete: HuggingFaceTB/SmolLM2-360M-Instruct\n"
     ]
    }
   ],
   "source": [
    "model_name = 'HuggingFaceTB/SmolLM2-360M-Instruct'\n",
    "\n",
    "tokenizer, model, device = setup_decoder(model_name)"
   ]
  },
  {
   "cell_type": "markdown",
   "metadata": {
    "id": "h1H-yw5DmVLj"
   },
   "source": [
    "## View output token-by-token"
   ]
  },
  {
   "cell_type": "code",
   "execution_count": null,
   "metadata": {
    "id": "1hTQwCMZ4uBg"
   },
   "outputs": [],
   "source": [
    "input_txt = \"What country has the best cuisine?\"\n",
    "iterations = decoder_inference(model, tokenizer,device, input_txt, n_steps= 50,\n",
    "                               TEMP = 0.4)"
   ]
  },
  {
   "cell_type": "code",
   "execution_count": null,
   "metadata": {
    "colab": {
     "base_uri": "https://localhost:8080/"
    },
    "id": "YNRNz-i440TL",
    "outputId": "9aa48c3e-c393-49fd-9f5e-2b5e09d01c2f"
   },
   "outputs": [
    {
     "data": {
      "text/plain": [
       "[{'Input': 'What country has the best cuisine?',\n",
       "  'Choice': '<|im_end|> (36.10%)'},\n",
       " {'Input': 'What country has the best cuisine?<|im_end|>',\n",
       "  'Choice': '\\n (100.00%)'},\n",
       " {'Input': 'What country has the best cuisine?<|im_end|>\\n',\n",
       "  'Choice': '<|im_start|> (93.35%)'},\n",
       " {'Input': 'What country has the best cuisine?<|im_end|>\\n<|im_start|>',\n",
       "  'Choice': 'ass (99.89%)'},\n",
       " {'Input': 'What country has the best cuisine?<|im_end|>\\n<|im_start|>ass',\n",
       "  'Choice': 'istant (100.00%)'},\n",
       " {'Input': 'What country has the best cuisine?<|im_end|>\\n<|im_start|>assistant',\n",
       "  'Choice': '\\n (100.00%)'},\n",
       " {'Input': 'What country has the best cuisine?<|im_end|>\\n<|im_start|>assistant\\n',\n",
       "  'Choice': 'The (16.59%)'},\n",
       " {'Input': 'What country has the best cuisine?<|im_end|>\\n<|im_start|>assistant\\nThe',\n",
       "  'Choice': ' best (27.77%)'},\n",
       " {'Input': 'What country has the best cuisine?<|im_end|>\\n<|im_start|>assistant\\nThe best',\n",
       "  'Choice': ' country (32.48%)'},\n",
       " {'Input': 'What country has the best cuisine?<|im_end|>\\n<|im_start|>assistant\\nThe best country',\n",
       "  'Choice': ' for (80.64%)'},\n",
       " {'Input': 'What country has the best cuisine?<|im_end|>\\n<|im_start|>assistant\\nThe best country for',\n",
       "  'Choice': ' cuisine (69.76%)'},\n",
       " {'Input': 'What country has the best cuisine?<|im_end|>\\n<|im_start|>assistant\\nThe best country for cuisine',\n",
       "  'Choice': ' is (57.22%)'},\n",
       " {'Input': 'What country has the best cuisine?<|im_end|>\\n<|im_start|>assistant\\nThe best country for cuisine is',\n",
       "  'Choice': ' likely (20.28%)'},\n",
       " {'Input': 'What country has the best cuisine?<|im_end|>\\n<|im_start|>assistant\\nThe best country for cuisine is likely',\n",
       "  'Choice': ' Japan (21.22%)'},\n",
       " {'Input': 'What country has the best cuisine?<|im_end|>\\n<|im_start|>assistant\\nThe best country for cuisine is likely Japan',\n",
       "  'Choice': '. (47.46%)'},\n",
       " {'Input': 'What country has the best cuisine?<|im_end|>\\n<|im_start|>assistant\\nThe best country for cuisine is likely Japan.',\n",
       "  'Choice': ' Japan (43.65%)'},\n",
       " {'Input': 'What country has the best cuisine?<|im_end|>\\n<|im_start|>assistant\\nThe best country for cuisine is likely Japan. Japan',\n",
       "  'Choice': ' is (49.06%)'},\n",
       " {'Input': 'What country has the best cuisine?<|im_end|>\\n<|im_start|>assistant\\nThe best country for cuisine is likely Japan. Japan is',\n",
       "  'Choice': ' renowned (47.95%)'},\n",
       " {'Input': 'What country has the best cuisine?<|im_end|>\\n<|im_start|>assistant\\nThe best country for cuisine is likely Japan. Japan is renowned',\n",
       "  'Choice': ' for (99.66%)'},\n",
       " {'Input': 'What country has the best cuisine?<|im_end|>\\n<|im_start|>assistant\\nThe best country for cuisine is likely Japan. Japan is renowned for',\n",
       "  'Choice': ' its (99.52%)'},\n",
       " {'Input': 'What country has the best cuisine?<|im_end|>\\n<|im_start|>assistant\\nThe best country for cuisine is likely Japan. Japan is renowned for its',\n",
       "  'Choice': ' diverse (37.79%)'},\n",
       " {'Input': 'What country has the best cuisine?<|im_end|>\\n<|im_start|>assistant\\nThe best country for cuisine is likely Japan. Japan is renowned for its diverse',\n",
       "  'Choice': ' and (65.51%)'},\n",
       " {'Input': 'What country has the best cuisine?<|im_end|>\\n<|im_start|>assistant\\nThe best country for cuisine is likely Japan. Japan is renowned for its diverse and',\n",
       "  'Choice': ' innovative (20.57%)'},\n",
       " {'Input': 'What country has the best cuisine?<|im_end|>\\n<|im_start|>assistant\\nThe best country for cuisine is likely Japan. Japan is renowned for its diverse and innovative',\n",
       "  'Choice': ' cuisine (21.25%)'},\n",
       " {'Input': 'What country has the best cuisine?<|im_end|>\\n<|im_start|>assistant\\nThe best country for cuisine is likely Japan. Japan is renowned for its diverse and innovative cuisine',\n",
       "  'Choice': ', (86.34%)'},\n",
       " {'Input': 'What country has the best cuisine?<|im_end|>\\n<|im_start|>assistant\\nThe best country for cuisine is likely Japan. Japan is renowned for its diverse and innovative cuisine,',\n",
       "  'Choice': ' with (46.97%)'},\n",
       " {'Input': 'What country has the best cuisine?<|im_end|>\\n<|im_start|>assistant\\nThe best country for cuisine is likely Japan. Japan is renowned for its diverse and innovative cuisine, with',\n",
       "  'Choice': ' a (52.13%)'},\n",
       " {'Input': 'What country has the best cuisine?<|im_end|>\\n<|im_start|>assistant\\nThe best country for cuisine is likely Japan. Japan is renowned for its diverse and innovative cuisine, with a',\n",
       "  'Choice': ' focus (62.23%)'},\n",
       " {'Input': 'What country has the best cuisine?<|im_end|>\\n<|im_start|>assistant\\nThe best country for cuisine is likely Japan. Japan is renowned for its diverse and innovative cuisine, with a focus',\n",
       "  'Choice': ' on (99.99%)'},\n",
       " {'Input': 'What country has the best cuisine?<|im_end|>\\n<|im_start|>assistant\\nThe best country for cuisine is likely Japan. Japan is renowned for its diverse and innovative cuisine, with a focus on',\n",
       "  'Choice': ' fresh (68.64%)'},\n",
       " {'Input': 'What country has the best cuisine?<|im_end|>\\n<|im_start|>assistant\\nThe best country for cuisine is likely Japan. Japan is renowned for its diverse and innovative cuisine, with a focus on fresh',\n",
       "  'Choice': ', (50.09%)'},\n",
       " {'Input': 'What country has the best cuisine?<|im_end|>\\n<|im_start|>assistant\\nThe best country for cuisine is likely Japan. Japan is renowned for its diverse and innovative cuisine, with a focus on fresh,',\n",
       "  'Choice': ' seasonal (81.48%)'},\n",
       " {'Input': 'What country has the best cuisine?<|im_end|>\\n<|im_start|>assistant\\nThe best country for cuisine is likely Japan. Japan is renowned for its diverse and innovative cuisine, with a focus on fresh, seasonal',\n",
       "  'Choice': ' ingredients (99.30%)'},\n",
       " {'Input': 'What country has the best cuisine?<|im_end|>\\n<|im_start|>assistant\\nThe best country for cuisine is likely Japan. Japan is renowned for its diverse and innovative cuisine, with a focus on fresh, seasonal ingredients',\n",
       "  'Choice': ' and (67.58%)'},\n",
       " {'Input': 'What country has the best cuisine?<|im_end|>\\n<|im_start|>assistant\\nThe best country for cuisine is likely Japan. Japan is renowned for its diverse and innovative cuisine, with a focus on fresh, seasonal ingredients and',\n",
       "  'Choice': ' traditional (36.84%)'},\n",
       " {'Input': 'What country has the best cuisine?<|im_end|>\\n<|im_start|>assistant\\nThe best country for cuisine is likely Japan. Japan is renowned for its diverse and innovative cuisine, with a focus on fresh, seasonal ingredients and traditional',\n",
       "  'Choice': ' techniques (47.83%)'},\n",
       " {'Input': 'What country has the best cuisine?<|im_end|>\\n<|im_start|>assistant\\nThe best country for cuisine is likely Japan. Japan is renowned for its diverse and innovative cuisine, with a focus on fresh, seasonal ingredients and traditional techniques',\n",
       "  'Choice': '. (80.40%)'},\n",
       " {'Input': 'What country has the best cuisine?<|im_end|>\\n<|im_start|>assistant\\nThe best country for cuisine is likely Japan. Japan is renowned for its diverse and innovative cuisine, with a focus on fresh, seasonal ingredients and traditional techniques.',\n",
       "  'Choice': ' From (57.46%)'},\n",
       " {'Input': 'What country has the best cuisine?<|im_end|>\\n<|im_start|>assistant\\nThe best country for cuisine is likely Japan. Japan is renowned for its diverse and innovative cuisine, with a focus on fresh, seasonal ingredients and traditional techniques. From',\n",
       "  'Choice': ' sushi (90.05%)'},\n",
       " {'Input': 'What country has the best cuisine?<|im_end|>\\n<|im_start|>assistant\\nThe best country for cuisine is likely Japan. Japan is renowned for its diverse and innovative cuisine, with a focus on fresh, seasonal ingredients and traditional techniques. From sushi',\n",
       "  'Choice': ' and (23.63%)'},\n",
       " {'Input': 'What country has the best cuisine?<|im_end|>\\n<|im_start|>assistant\\nThe best country for cuisine is likely Japan. Japan is renowned for its diverse and innovative cuisine, with a focus on fresh, seasonal ingredients and traditional techniques. From sushi and',\n",
       "  'Choice': ' ra (35.93%)'},\n",
       " {'Input': 'What country has the best cuisine?<|im_end|>\\n<|im_start|>assistant\\nThe best country for cuisine is likely Japan. Japan is renowned for its diverse and innovative cuisine, with a focus on fresh, seasonal ingredients and traditional techniques. From sushi and ra',\n",
       "  'Choice': 'men (99.97%)'},\n",
       " {'Input': 'What country has the best cuisine?<|im_end|>\\n<|im_start|>assistant\\nThe best country for cuisine is likely Japan. Japan is renowned for its diverse and innovative cuisine, with a focus on fresh, seasonal ingredients and traditional techniques. From sushi and ramen',\n",
       "  'Choice': ' to (99.27%)'},\n",
       " {'Input': 'What country has the best cuisine?<|im_end|>\\n<|im_start|>assistant\\nThe best country for cuisine is likely Japan. Japan is renowned for its diverse and innovative cuisine, with a focus on fresh, seasonal ingredients and traditional techniques. From sushi and ramen to',\n",
       "  'Choice': ' temp (92.18%)'},\n",
       " {'Input': 'What country has the best cuisine?<|im_end|>\\n<|im_start|>assistant\\nThe best country for cuisine is likely Japan. Japan is renowned for its diverse and innovative cuisine, with a focus on fresh, seasonal ingredients and traditional techniques. From sushi and ramen to temp',\n",
       "  'Choice': 'ura (99.88%)'},\n",
       " {'Input': 'What country has the best cuisine?<|im_end|>\\n<|im_start|>assistant\\nThe best country for cuisine is likely Japan. Japan is renowned for its diverse and innovative cuisine, with a focus on fresh, seasonal ingredients and traditional techniques. From sushi and ramen to tempura',\n",
       "  'Choice': ' and (99.40%)'},\n",
       " {'Input': 'What country has the best cuisine?<|im_end|>\\n<|im_start|>assistant\\nThe best country for cuisine is likely Japan. Japan is renowned for its diverse and innovative cuisine, with a focus on fresh, seasonal ingredients and traditional techniques. From sushi and ramen to tempura and',\n",
       "  'Choice': ' y (30.64%)'},\n",
       " {'Input': 'What country has the best cuisine?<|im_end|>\\n<|im_start|>assistant\\nThe best country for cuisine is likely Japan. Japan is renowned for its diverse and innovative cuisine, with a focus on fresh, seasonal ingredients and traditional techniques. From sushi and ramen to tempura and y',\n",
       "  'Choice': 'ak (96.98%)'},\n",
       " {'Input': 'What country has the best cuisine?<|im_end|>\\n<|im_start|>assistant\\nThe best country for cuisine is likely Japan. Japan is renowned for its diverse and innovative cuisine, with a focus on fresh, seasonal ingredients and traditional techniques. From sushi and ramen to tempura and yak',\n",
       "  'Choice': 'itor (99.99%)'},\n",
       " {'Input': 'What country has the best cuisine?<|im_end|>\\n<|im_start|>assistant\\nThe best country for cuisine is likely Japan. Japan is renowned for its diverse and innovative cuisine, with a focus on fresh, seasonal ingredients and traditional techniques. From sushi and ramen to tempura and yakitor',\n",
       "  'Choice': 'i (100.00%)'}]"
      ]
     },
     "execution_count": 21,
     "metadata": {},
     "output_type": "execute_result"
    }
   ],
   "source": [
    "iterations"
   ]
  },
  {
   "cell_type": "code",
   "execution_count": null,
   "metadata": {
    "id": "OE5uZEiK5YeN"
   },
   "outputs": [],
   "source": [
    "input_txt = \"What country has the best cuisine?\"\n",
    "iterations = decoder_inference(model, tokenizer,device, input_txt, n_steps= 50,\n",
    "                               TEMP = 0.2)"
   ]
  },
  {
   "cell_type": "code",
   "execution_count": null,
   "metadata": {
    "colab": {
     "base_uri": "https://localhost:8080/"
    },
    "id": "3LsDfInS7Mf2",
    "outputId": "0c4e0340-b74b-4c53-c5c5-edb6709da497"
   },
   "outputs": [
    {
     "data": {
      "text/plain": [
       "[{'Input': 'What country has the best cuisine?', 'Choice': '\\n (33.93%)'},\n",
       " {'Input': 'What country has the best cuisine?\\n', 'Choice': '\\n (42.38%)'},\n",
       " {'Input': 'What country has the best cuisine?\\n\\n', 'Choice': 'I (7.01%)'},\n",
       " {'Input': 'What country has the best cuisine?\\n\\nI',\n",
       "  'Choice': ' am (10.45%)'},\n",
       " {'Input': 'What country has the best cuisine?\\n\\nI am',\n",
       "  'Choice': ' asking (8.78%)'},\n",
       " {'Input': 'What country has the best cuisine?\\n\\nI am asking',\n",
       "  'Choice': ' for (27.63%)'},\n",
       " {'Input': 'What country has the best cuisine?\\n\\nI am asking for',\n",
       "  'Choice': ' the (20.85%)'},\n",
       " {'Input': 'What country has the best cuisine?\\n\\nI am asking for the',\n",
       "  'Choice': ' best (29.50%)'},\n",
       " {'Input': 'What country has the best cuisine?\\n\\nI am asking for the best',\n",
       "  'Choice': ' country (38.75%)'},\n",
       " {'Input': 'What country has the best cuisine?\\n\\nI am asking for the best country',\n",
       "  'Choice': ' for (24.46%)'},\n",
       " {'Input': 'What country has the best cuisine?\\n\\nI am asking for the best country for',\n",
       "  'Choice': ' the (16.57%)'},\n",
       " {'Input': 'What country has the best cuisine?\\n\\nI am asking for the best country for the',\n",
       "  'Choice': ' following (27.80%)'},\n",
       " {'Input': 'What country has the best cuisine?\\n\\nI am asking for the best country for the following',\n",
       "  'Choice': ' reasons (33.76%)'},\n",
       " {'Input': 'What country has the best cuisine?\\n\\nI am asking for the best country for the following reasons',\n",
       "  'Choice': ': (67.95%)'},\n",
       " {'Input': 'What country has the best cuisine?\\n\\nI am asking for the best country for the following reasons:',\n",
       "  'Choice': '\\n (51.98%)'},\n",
       " {'Input': 'What country has the best cuisine?\\n\\nI am asking for the best country for the following reasons:\\n',\n",
       "  'Choice': '1 (53.23%)'},\n",
       " {'Input': 'What country has the best cuisine?\\n\\nI am asking for the best country for the following reasons:\\n1',\n",
       "  'Choice': '. (89.49%)'},\n",
       " {'Input': 'What country has the best cuisine?\\n\\nI am asking for the best country for the following reasons:\\n1.',\n",
       "  'Choice': ' I (29.41%)'},\n",
       " {'Input': 'What country has the best cuisine?\\n\\nI am asking for the best country for the following reasons:\\n1. I',\n",
       "  'Choice': ' am (27.96%)'},\n",
       " {'Input': 'What country has the best cuisine?\\n\\nI am asking for the best country for the following reasons:\\n1. I am',\n",
       "  'Choice': ' interested (24.95%)'},\n",
       " {'Input': 'What country has the best cuisine?\\n\\nI am asking for the best country for the following reasons:\\n1. I am interested',\n",
       "  'Choice': ' in (98.31%)'},\n",
       " {'Input': 'What country has the best cuisine?\\n\\nI am asking for the best country for the following reasons:\\n1. I am interested in',\n",
       "  'Choice': ' learning (16.47%)'},\n",
       " {'Input': 'What country has the best cuisine?\\n\\nI am asking for the best country for the following reasons:\\n1. I am interested in learning',\n",
       "  'Choice': ' about (81.15%)'},\n",
       " {'Input': 'What country has the best cuisine?\\n\\nI am asking for the best country for the following reasons:\\n1. I am interested in learning about',\n",
       "  'Choice': ' the (49.66%)'},\n",
       " {'Input': 'What country has the best cuisine?\\n\\nI am asking for the best country for the following reasons:\\n1. I am interested in learning about the',\n",
       "  'Choice': ' culinary (19.65%)'},\n",
       " {'Input': 'What country has the best cuisine?\\n\\nI am asking for the best country for the following reasons:\\n1. I am interested in learning about the culinary',\n",
       "  'Choice': ' culture (32.20%)'},\n",
       " {'Input': 'What country has the best cuisine?\\n\\nI am asking for the best country for the following reasons:\\n1. I am interested in learning about the culinary culture',\n",
       "  'Choice': ' of (67.61%)'},\n",
       " {'Input': 'What country has the best cuisine?\\n\\nI am asking for the best country for the following reasons:\\n1. I am interested in learning about the culinary culture of',\n",
       "  'Choice': ' the (23.72%)'},\n",
       " {'Input': 'What country has the best cuisine?\\n\\nI am asking for the best country for the following reasons:\\n1. I am interested in learning about the culinary culture of the',\n",
       "  'Choice': ' country (82.47%)'},\n",
       " {'Input': 'What country has the best cuisine?\\n\\nI am asking for the best country for the following reasons:\\n1. I am interested in learning about the culinary culture of the country',\n",
       "  'Choice': '. (65.08%)'},\n",
       " {'Input': 'What country has the best cuisine?\\n\\nI am asking for the best country for the following reasons:\\n1. I am interested in learning about the culinary culture of the country.',\n",
       "  'Choice': '\\n (98.59%)'},\n",
       " {'Input': 'What country has the best cuisine?\\n\\nI am asking for the best country for the following reasons:\\n1. I am interested in learning about the culinary culture of the country.\\n',\n",
       "  'Choice': '2 (99.75%)'},\n",
       " {'Input': 'What country has the best cuisine?\\n\\nI am asking for the best country for the following reasons:\\n1. I am interested in learning about the culinary culture of the country.\\n2',\n",
       "  'Choice': '. (99.99%)'},\n",
       " {'Input': 'What country has the best cuisine?\\n\\nI am asking for the best country for the following reasons:\\n1. I am interested in learning about the culinary culture of the country.\\n2.',\n",
       "  'Choice': ' I (90.20%)'},\n",
       " {'Input': 'What country has the best cuisine?\\n\\nI am asking for the best country for the following reasons:\\n1. I am interested in learning about the culinary culture of the country.\\n2. I',\n",
       "  'Choice': ' am (48.04%)'},\n",
       " {'Input': 'What country has the best cuisine?\\n\\nI am asking for the best country for the following reasons:\\n1. I am interested in learning about the culinary culture of the country.\\n2. I am',\n",
       "  'Choice': ' looking (42.80%)'},\n",
       " {'Input': 'What country has the best cuisine?\\n\\nI am asking for the best country for the following reasons:\\n1. I am interested in learning about the culinary culture of the country.\\n2. I am looking',\n",
       "  'Choice': ' for (91.10%)'},\n",
       " {'Input': 'What country has the best cuisine?\\n\\nI am asking for the best country for the following reasons:\\n1. I am interested in learning about the culinary culture of the country.\\n2. I am looking for',\n",
       "  'Choice': ' a (43.79%)'},\n",
       " {'Input': 'What country has the best cuisine?\\n\\nI am asking for the best country for the following reasons:\\n1. I am interested in learning about the culinary culture of the country.\\n2. I am looking for a',\n",
       "  'Choice': ' country (67.28%)'},\n",
       " {'Input': 'What country has the best cuisine?\\n\\nI am asking for the best country for the following reasons:\\n1. I am interested in learning about the culinary culture of the country.\\n2. I am looking for a country',\n",
       "  'Choice': ' that (40.39%)'},\n",
       " {'Input': 'What country has the best cuisine?\\n\\nI am asking for the best country for the following reasons:\\n1. I am interested in learning about the culinary culture of the country.\\n2. I am looking for a country that',\n",
       "  'Choice': ' has (38.40%)'},\n",
       " {'Input': 'What country has the best cuisine?\\n\\nI am asking for the best country for the following reasons:\\n1. I am interested in learning about the culinary culture of the country.\\n2. I am looking for a country that has',\n",
       "  'Choice': ' a (61.83%)'},\n",
       " {'Input': 'What country has the best cuisine?\\n\\nI am asking for the best country for the following reasons:\\n1. I am interested in learning about the culinary culture of the country.\\n2. I am looking for a country that has a',\n",
       "  'Choice': ' diverse (27.55%)'},\n",
       " {'Input': 'What country has the best cuisine?\\n\\nI am asking for the best country for the following reasons:\\n1. I am interested in learning about the culinary culture of the country.\\n2. I am looking for a country that has a diverse',\n",
       "  'Choice': ' range (59.15%)'},\n",
       " {'Input': 'What country has the best cuisine?\\n\\nI am asking for the best country for the following reasons:\\n1. I am interested in learning about the culinary culture of the country.\\n2. I am looking for a country that has a diverse range',\n",
       "  'Choice': ' of (99.83%)'},\n",
       " {'Input': 'What country has the best cuisine?\\n\\nI am asking for the best country for the following reasons:\\n1. I am interested in learning about the culinary culture of the country.\\n2. I am looking for a country that has a diverse range of',\n",
       "  'Choice': ' cuisines (31.94%)'},\n",
       " {'Input': 'What country has the best cuisine?\\n\\nI am asking for the best country for the following reasons:\\n1. I am interested in learning about the culinary culture of the country.\\n2. I am looking for a country that has a diverse range of cuisines',\n",
       "  'Choice': '. (54.33%)'},\n",
       " {'Input': 'What country has the best cuisine?\\n\\nI am asking for the best country for the following reasons:\\n1. I am interested in learning about the culinary culture of the country.\\n2. I am looking for a country that has a diverse range of cuisines.',\n",
       "  'Choice': '\\n (92.07%)'},\n",
       " {'Input': 'What country has the best cuisine?\\n\\nI am asking for the best country for the following reasons:\\n1. I am interested in learning about the culinary culture of the country.\\n2. I am looking for a country that has a diverse range of cuisines.\\n',\n",
       "  'Choice': '3 (67.85%)'},\n",
       " {'Input': 'What country has the best cuisine?\\n\\nI am asking for the best country for the following reasons:\\n1. I am interested in learning about the culinary culture of the country.\\n2. I am looking for a country that has a diverse range of cuisines.\\n3',\n",
       "  'Choice': '. (99.99%)'}]"
      ]
     },
     "execution_count": 18,
     "metadata": {},
     "output_type": "execute_result"
    }
   ],
   "source": [
    "iterations"
   ]
  },
  {
   "cell_type": "markdown",
   "metadata": {
    "id": "vIbccCh9mZwS"
   },
   "source": [
    "## Use a pipeline"
   ]
  },
  {
   "cell_type": "code",
   "execution_count": 45,
   "metadata": {
    "colab": {
     "base_uri": "https://localhost:8080/"
    },
    "id": "fDWGEvCT7N6x",
    "outputId": "6c9af3ac-4c06-489b-8c00-d203455c2679"
   },
   "outputs": [
    {
     "name": "stderr",
     "output_type": "stream",
     "text": [
      "Device set to use cuda:0\n"
     ]
    }
   ],
   "source": [
    "pipe_llm = pipeline(\"text-generation\", model=model, tokenizer=tokenizer)"
   ]
  },
  {
   "cell_type": "code",
   "execution_count": 52,
   "metadata": {
    "id": "A8d3bdwNMk0a"
   },
   "outputs": [],
   "source": [
    "messages = [{\"system\": \"you are a helpful assistant\",\"role\": \"user\", \"content\": input_txt}]\n",
    "result = pipe_llm(messages, max_new_tokens=500, temperature=1.0)"
   ]
  },
  {
   "cell_type": "code",
   "execution_count": 53,
   "metadata": {
    "colab": {
     "base_uri": "https://localhost:8080/"
    },
    "id": "2pN4lMniMnnf",
    "outputId": "47389b34-601a-4168-bf4b-b122e0306e21"
   },
   "outputs": [
    {
     "data": {
      "text/plain": [
       "[{'generated_text': [{'system': 'you are a helpful assistant',\n",
       "    'role': 'user',\n",
       "    'content': 'What country has the best cuisine?'},\n",
       "   {'role': 'assistant',\n",
       "    'content': 'Based on various datasets and research, the best cuisine can vary depending on what it refers to. However, some of the top culinary destinations include France, Italy, Spain, Japan, Mexico, China, India, India, Thailand, Japan, and Thailand. Each has its own unique specialties and culinary traditions.'}]}]"
      ]
     },
     "execution_count": 53,
     "metadata": {},
     "output_type": "execute_result"
    }
   ],
   "source": [
    "result"
   ]
  },
  {
   "cell_type": "code",
   "execution_count": null,
   "metadata": {
    "id": "q9piT8rCMo5C"
   },
   "outputs": [],
   "source": []
  }
 ],
 "metadata": {
  "accelerator": "GPU",
  "colab": {
   "collapsed_sections": [
    "-dp2qjbvmAej"
   ],
   "gpuType": "T4",
   "provenance": []
  },
  "kernelspec": {
   "display_name": "Python 3",
   "language": "python",
   "name": "python3"
  },
  "language_info": {
   "codemirror_mode": {
    "name": "ipython",
    "version": 3
   },
   "file_extension": ".py",
   "mimetype": "text/x-python",
   "name": "python",
   "nbconvert_exporter": "python",
   "pygments_lexer": "ipython3",
   "version": "3.8.8"
  }
 },
 "nbformat": 4,
 "nbformat_minor": 1
}
