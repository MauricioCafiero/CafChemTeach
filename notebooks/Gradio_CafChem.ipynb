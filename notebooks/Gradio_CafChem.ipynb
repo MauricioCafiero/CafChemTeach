{
 "cells": [
  {
   "cell_type": "markdown",
   "metadata": {
    "id": "HNs9soWBaF0L"
   },
   "source": [
    "#CafChem Teaching - Gradio\n",
    "\n",
    "[![Open In Colab](https://colab.research.google.com/assets/colab-badge.svg)](https://colab.research.google.com/github/MauricioCafiero/CafChemTeach/blob/main/notebooks/Gradio_CafChem.ipynb)\n",
    "\n",
    "## This notebook allows you to:\n",
    "- Use gradio to create and serve GUI-based apps\n",
    "\n",
    "## Requirements:\n",
    "- CPU\n",
    "- Install: gradio, rdkit"
   ]
  },
  {
   "cell_type": "markdown",
   "metadata": {
    "id": "i3XFXbLvaYOw"
   },
   "source": [
    "### Install libraries"
   ]
  },
  {
   "cell_type": "code",
   "execution_count": 1,
   "metadata": {
    "colab": {
     "base_uri": "https://localhost:8080/"
    },
    "id": "BpeOlPmBVs7X",
    "outputId": "2ff67c72-48ea-429b-80f5-f0be81bb677e"
   },
   "outputs": [
    {
     "name": "stdout",
     "output_type": "stream",
     "text": [
      "\u001b[2K   \u001b[90m━━━━━━━━━━━━━━━━━━━━━━━━━━━━━━━━━━━━━━━━\u001b[0m \u001b[32m36.1/36.1 MB\u001b[0m \u001b[31m46.8 MB/s\u001b[0m eta \u001b[36m0:00:00\u001b[0m\n",
      "\u001b[?25h"
     ]
    }
   ],
   "source": [
    "!pip install -q gradio\n",
    "!pip install -q rdkit"
   ]
  },
  {
   "cell_type": "markdown",
   "metadata": {
    "id": "GhTfDtuUaeMH"
   },
   "source": [
    "### Import libraries"
   ]
  },
  {
   "cell_type": "code",
   "execution_count": 5,
   "metadata": {
    "id": "CgHSUH4-Vb_R"
   },
   "outputs": [],
   "source": [
    "import gradio as gr\n",
    "from rdkit import Chem\n",
    "from rdkit.Chem import AllChem, Draw, QED"
   ]
  },
  {
   "cell_type": "markdown",
   "metadata": {
    "id": "MMgVIxo9agUy"
   },
   "source": [
    "## Define Functions"
   ]
  },
  {
   "cell_type": "code",
   "execution_count": 6,
   "metadata": {
    "id": "bgIODCf0VZrt"
   },
   "outputs": [],
   "source": [
    "def calc_adme(smile: str) -> str:\n",
    "  \"\"\"Calculate the ADME properties of a molecule from a SMILES string.\n",
    "     These properties, covering absorption, distribution, metabolism, and excretion,\n",
    "     describe how a drug is transported and is processed by the body. They should\n",
    "     follow Lipinkski's rule of 5 for a viable drug.\n",
    "    Args:\n",
    "        smile: The SMILES string of the molecule.\n",
    "    Returns:\n",
    "        The qualitative estimate of drug-likeness (QED), the molecular weight, the\n",
    "        distribution coefficient (aLogP), the number of hydrogen bond donors,\n",
    "        the number of hydrogen bond acceptors, the polar surface area,the number\n",
    "        of rotatable bonds, the number of aromatic rings, and the number of undesireable\n",
    "        moieties all in a text string.\n",
    "        An image of the molecule.\n",
    "  \"\"\"\n",
    "  try:\n",
    "    mol = Chem.MolFromSmiles(smile)\n",
    "    img = Draw.MolToImage(mol)\n",
    "\n",
    "    qed = Chem.QED.default(mol)\n",
    "    p = Chem.QED.properties(mol)\n",
    "    Molecular_weight = p[0]\n",
    "    aLogP = p[1]\n",
    "    Hydrogen_bond_acceptors = p[2]\n",
    "    Hydrogen_bond_donors = p[3]\n",
    "    Polar_surface_area = p[4]\n",
    "    Rotatable_Bonds = p[5]\n",
    "    Aromatic_Rings = p[6]\n",
    "    Undesireable_moieties = p[7]\n",
    "\n",
    "    out_text = f\"Qualitative estimate of drug-likeness (QED): {qed:.3f}\\n\"\n",
    "    out_text += f\"Molecular weight: {Molecular_weight:.3f}\\n\"\n",
    "    out_text += f\"Distribution coefficient (aLogP): {aLogP:.3f}\\n\"\n",
    "    out_text += f\"Number of hydrogen bond acceptors: {Hydrogen_bond_acceptors}\\n\"\n",
    "    out_text += f\"Number of hydrogen bond donors: {Hydrogen_bond_donors}\\n\"\n",
    "    out_text += f\"Polar surface area: {Polar_surface_area:.3f}\\n\"\n",
    "    out_text += f\"Number of rotatable bonds: {Rotatable_Bonds}\\n\"\n",
    "    out_text += f\"Number of aromatic rings: {Aromatic_Rings}\\n\"\n",
    "    out_text += f\"Number of undesireable moieties: {Undesireable_moieties}\"\n",
    "\n",
    "  except:\n",
    "    out_text = \"Invalid SMILES string\"\n",
    "  return out_text,img"
   ]
  },
  {
   "cell_type": "markdown",
   "metadata": {
    "id": "IzJOSbI4akFd"
   },
   "source": [
    "## Define the Gradio App\n",
    "- click on the link above the app to display it fullscreen\n",
    "- the link is also shareable and will run as long as this notebook is open"
   ]
  },
  {
   "cell_type": "code",
   "execution_count": 16,
   "metadata": {
    "colab": {
     "base_uri": "https://localhost:8080/",
     "height": 610
    },
    "id": "BhzawnNgVlXE",
    "outputId": "97e9d9da-5ba5-4f55-e4f7-ee08f078cd94"
   },
   "outputs": [
    {
     "name": "stdout",
     "output_type": "stream",
     "text": [
      "Colab notebook detected. To show errors in colab notebook, set debug=True in launch()\n",
      "* Running on public URL: https://a6886accc2fe271aca.gradio.live\n",
      "\n",
      "This share link expires in 1 week. For free permanent hosting and GPU upgrades, run `gradio deploy` from the terminal in the working directory to deploy to Hugging Face Spaces (https://huggingface.co/spaces)\n"
     ]
    },
    {
     "data": {
      "text/html": [
       "<div><iframe src=\"https://a6886accc2fe271aca.gradio.live\" width=\"100%\" height=\"500\" allow=\"autoplay; camera; microphone; clipboard-read; clipboard-write;\" frameborder=\"0\" allowfullscreen></iframe></div>"
      ],
      "text/plain": [
       "<IPython.core.display.HTML object>"
      ]
     },
     "metadata": {},
     "output_type": "display_data"
    },
    {
     "data": {
      "text/plain": []
     },
     "execution_count": 16,
     "metadata": {},
     "output_type": "execute_result"
    }
   ],
   "source": [
    "with gr.Blocks(fill_height=True) as forest:\n",
    "  gr.Markdown('''\n",
    "              # Calculate ADME properties of a molecule from a SMILES string.\n",
    "              - These properties, covering absorption, distribution, metabolism, and excretion,\n",
    "                describe how a drug is transported and is processed by the body.\n",
    "                They should follow Lipinkski's rule of 5 for a viable drug.\n",
    "              - Enter a SMILES string and click the calculate button to see the results.\n",
    "              ''')\n",
    "\n",
    "  with gr.Row():\n",
    "    with gr.Column():\n",
    "      smiles = gr.Textbox(label=\"SMILES to calculate\")\n",
    "      calc_btn = gr.Button(value = \"Calculate\")\n",
    "    with gr.Column():\n",
    "      props = gr.Textbox(label=\"ADME Properties: \", lines=9 )\n",
    "      pic = gr.Image(label=\"Molecule\")\n",
    "\n",
    "\n",
    "      calc_btn.click(calc_adme, inputs = smiles, outputs = [props, pic])\n",
    "      smiles.submit(calc_adme, inputs = smiles, outputs = [props, pic])\n",
    "\n",
    "\n",
    "forest.launch(debug=False, share=True)"
   ]
  },
  {
   "cell_type": "code",
   "execution_count": null,
   "metadata": {
    "id": "OOdtEgt_WNcD"
   },
   "outputs": [],
   "source": []
  }
 ],
 "metadata": {
  "colab": {
   "provenance": []
  },
  "kernelspec": {
   "display_name": "Python 3",
   "language": "python",
   "name": "python3"
  },
  "language_info": {
   "codemirror_mode": {
    "name": "ipython",
    "version": 3
   },
   "file_extension": ".py",
   "mimetype": "text/x-python",
   "name": "python",
   "nbconvert_exporter": "python",
   "pygments_lexer": "ipython3",
   "version": "3.8.8"
  }
 },
 "nbformat": 4,
 "nbformat_minor": 1
}
