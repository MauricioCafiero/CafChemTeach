{
 "cells": [
  {
   "cell_type": "markdown",
   "metadata": {
    "id": "uhxIWD8-WWa6"
   },
   "source": [
    "#CafChem Teaching - Python Catch Up.\n",
    "\n",
    "[![Open In Colab](https://colab.research.google.com/assets/colab-badge.svg)](https://colab.research.google.com/github/MauricioCafiero/CafChemTeach/blob/main/notebooks/PyCatchUp_CafChem.ipynb)\n",
    "\n",
    "## This notebook allows you to:\n",
    "- Revise the basics of Python from years 1 and 2.\n",
    "\n",
    "## Requirements:\n",
    "- CPU, will run on your anaconda notebook or Colab."
   ]
  },
  {
   "cell_type": "markdown",
   "metadata": {
    "id": "BvNPrEzwC1aw"
   },
   "source": [
    "## Setting up a Jupyter notebook\n",
    "\n",
    "- A Jupyter notebook is an easy to use coding and testing environment for Python.We will use it for this exercise.\n",
    "\n",
    "- Go to the University of Reading Apps anywhere site (https://appsanywhere.reading.ac.uk/apps/all) and search for Anaconda with Python 3.8. Launch it. It may take a few minutes to come up. Once it is up, scroll down to Jupyter Notebook and launch that. It will open in a web browser window. In the\n",
    "upper right corner there will be a button labelled “new.” Click on it and select Python3. This should open a second window with a blank Jupyter notebook.\n",
    "\n",
    "- The Jupyter notebook consists of “cells,” which can each contain a separate bit of code. At the top, next to the Jupyter logo, click on the filename and change it to something meaningful."
   ]
  },
  {
   "cell_type": "markdown",
   "metadata": {
    "id": "enL7_JrbDrU7"
   },
   "source": [
    "## Commenting and Printing\n",
    "- The most straightforward things to do in Python are commenting and printing. A comment is a statement that is just to be read, and it is not part of the code. A comment starts with a #. Printing makes a statement come on the screen. Enter the text below (or similar text) into a cell, and then, with the cell selected, hit shift and enter at the same time to execute the cell."
   ]
  },
  {
   "cell_type": "code",
   "execution_count": null,
   "metadata": {
    "id": "Lj4rCHZDCvYx"
   },
   "outputs": [],
   "source": [
    "#this is python\n",
    "print(\"Hello, World\")"
   ]
  },
  {
   "cell_type": "markdown",
   "metadata": {
    "id": "1B4WBNnjEBEA"
   },
   "source": [
    "## Input and Variables\n",
    "- In many cases, your code will need some type of input. Once you have input, you have to store it is a\n",
    "variable. The statement below will prompt the user for input, store it in a variable, and then repeat it\n",
    "back to the user."
   ]
  },
  {
   "cell_type": "code",
   "execution_count": null,
   "metadata": {
    "id": "sS3tONBlEDI3"
   },
   "outputs": [],
   "source": [
    "pokemon = input(\"What is your favourite Pokemon? \")\n",
    "print(\"Your favourite Pokemon is\", pokemon)"
   ]
  },
  {
   "cell_type": "markdown",
   "metadata": {
    "id": "WAzrY8UGEQcu"
   },
   "source": [
    "- Input is always read as a string type variable. A string is simply a series of alphanumeric characters. If you want your string to be a number, you have to change it to a number when reading it. For numbers you have choose an integer (no decimal places), or a float (has decimal places)."
   ]
  },
  {
   "cell_type": "code",
   "execution_count": null,
   "metadata": {
    "id": "3_l0jkvOETN3"
   },
   "outputs": [],
   "source": [
    "name = input(\"What is your name? \")\n",
    "sandwiches = int(input(\"How many sandwiches would you like? \"))\n",
    "pi_val = float(input(\"What is the value of pi? \"))\n",
    "\n",
    "print(f\"{name} would like {sandwiches} sandwiches. Also, Pi = {pi_val}\")"
   ]
  },
  {
   "cell_type": "markdown",
   "metadata": {
    "id": "nNipCtUAExFT"
   },
   "source": [
    "- Here we have read in 3 values, one string, one integer, an one float. Note that string variables do not need to be converted. We have also introduced how to insert variables into a print statement us the *f-string*. You\n",
    "add an f before the first “, and then inset the variables wherever you like, set off by { }. We can also format numbers into scientific notation using a formatting command."
   ]
  },
  {
   "cell_type": "code",
   "execution_count": null,
   "metadata": {
    "id": "3i9WUiKgE5IU"
   },
   "outputs": [],
   "source": [
    "pi_val = float(input(\"What is the value of pi? \"))\n",
    "print(f\"Pi = {pi_val:.2e}\")"
   ]
  },
  {
   "cell_type": "markdown",
   "metadata": {
    "id": "7WfGfidQFXDH"
   },
   "source": [
    "## Lists and Dictionaries\n",
    "- You can request multiple variables with a list. A list is basically a vector, or a collection of variables. For example, the x,y,z coordinates for a point make up a list. Let’s fill a list."
   ]
  },
  {
   "cell_type": "code",
   "execution_count": null,
   "metadata": {
    "id": "CMFjmVmBFAkd"
   },
   "outputs": [],
   "source": [
    "coords = [0.0]*3\n",
    "\n",
    "coords[0] = float(input(\"What is the x coordinate? \"))\n",
    "coords[1] = float(input(\"What is the y coordinate? \"))\n",
    "coords[2] = float(input(\"What is the z coordinate? \"))\n",
    "\n",
    "print(f\"The coordinates are {coords[0]}, {coords[1]}, {coords[2]}\")"
   ]
  },
  {
   "cell_type": "markdown",
   "metadata": {
    "id": "w7aKTCYhF48e"
   },
   "source": [
    "- The first line declared that coords would be a **list of length 3, containing 3 zeroes**, and then the input statements replaced the zeroes with proper values. Finally, the print statement printed the entire list.\n",
    "\n",
    "- Related to a list is a dictionary. A dictionary consists of key/value pairs. You an access the value via the key. The value may be a single variable, or a list itself. We can define a dictionary with the syntax {key1 : value, key2 : value, etc}."
   ]
  },
  {
   "cell_type": "code",
   "execution_count": null,
   "metadata": {
    "id": "JU-vZXLIGMYv"
   },
   "outputs": [],
   "source": [
    "modules = {\"best\": \"PhysChem\", \"worst\": \"any other\"}\n",
    "\n",
    "print(f\"My favourite module is {modules['best']}\")"
   ]
  },
  {
   "cell_type": "markdown",
   "metadata": {
    "id": "QWX6bEEWKxpX"
   },
   "source": [
    "- Here we defined the dictionary and then printed the entire dictionary, and the printed just the best module by calling only that key.\n",
    "- Here we show an example of a dictionary where the values are lists."
   ]
  },
  {
   "cell_type": "code",
   "execution_count": null,
   "metadata": {
    "id": "Vc3pRvNOK2wS"
   },
   "outputs": [],
   "source": [
    "marks = {\"PhysChem\": [70, 74, 65], \"Organic\": [72, 68, 63]}\n",
    "\n",
    "print(f\"The marks for PhysChem are {marks['PhysChem']}\")"
   ]
  },
  {
   "cell_type": "markdown",
   "metadata": {
    "id": "b6xDlAVnLGJc"
   },
   "source": [
    "## Loops\n",
    "- When working with lists, it may be useful to use loops to iterate through values."
   ]
  },
  {
   "cell_type": "code",
   "execution_count": null,
   "metadata": {
    "id": "cPxsUAMmLNRZ"
   },
   "outputs": [],
   "source": [
    "coords = [1.2, 2.4, 4.8]\n",
    "\n",
    "for i in range(len(coords)):\n",
    "    print(f\"Coordinate {i+1} is {coords[i]}\")"
   ]
  },
  {
   "cell_type": "markdown",
   "metadata": {
    "id": "jZ2J8-6XLdh5"
   },
   "source": [
    "- In this example, we used a for loop. This loop iterates over a counting variable (i in this case) over the range 0 to one less than the number in the (), or 3 in this case. We should explain that list numbering starts at 0 rather than 1, so if we have a list of length 3, the elements are coords[0], coords[1] and coords[2]. Also, range starts a 0 (rather than 1) and goes until one less than the value given. Thus in this case, the loop goes from i=0 to i=2. This is the reason that we used i+1 to give the element number in the print statement.\n",
    "\n",
    "- NOTE in order for a statement/command to be performed during a loop, it has to be indented from the for statement (as print is indented above). You can break the loop by discontinuing the indentation."
   ]
  },
  {
   "cell_type": "markdown",
   "metadata": {
    "id": "Nhbzcxm4L1NY"
   },
   "source": [
    "## Using lists in mathematical statements and loops: list comprehension and iterators\n",
    "\n",
    "- Sometime you may want to use a variable to do other things in your code. For example, you may want to ask the user how long a list should be, or you may want to perform other operations."
   ]
  },
  {
   "cell_type": "code",
   "execution_count": null,
   "metadata": {
    "id": "4VECqaepL7uW"
   },
   "outputs": [],
   "source": [
    "n = int(input(\"How many datapoints are there? \"))\n",
    "\n",
    "data = [0.0]*n  #declares list of length n\n",
    "for i in range(n):\n",
    "  data[i] = float(input(f\"Enter value {i+1}: \"))\n",
    "\n",
    "average = 0.0\n",
    "for i in range(n):\n",
    "  average += data[i]\n",
    "average /= n\n",
    "\n",
    "print(f\"The average is {average}\")"
   ]
  },
  {
   "cell_type": "markdown",
   "metadata": {
    "id": "mz_APMaTMcXE"
   },
   "source": [
    "- In this example, we have read in the number of data points and changed it to an integer, so that we can use it to count. We then use a loop to ask the user for each data point, converting them to floats as we go. Then we set up the variable average to hold all of the data values. We use a for loop to\n",
    "iterate over each data point and add it to the total. Once we are out of the loop, we divide that total by the number of data points top find the average.\n",
    "- You can use +, -, * and / to perform basic maths, and enclose quantities in\n",
    "() to make more complicated expressions.\n",
    "- You can also accomplish the same with the built-in sum function:"
   ]
  },
  {
   "cell_type": "code",
   "execution_count": null,
   "metadata": {
    "id": "kemfG7UDMst1"
   },
   "outputs": [],
   "source": [
    "average = sum(data)\n",
    "average /= n\n",
    "\n",
    "print(f\"The average is {average}\")"
   ]
  },
  {
   "cell_type": "markdown",
   "metadata": {
    "id": "ioEs6tGtM2NY"
   },
   "source": [
    "- If you have a list of values, and you want to perform a mathematical operation on all elements of that list, you can loop overthe list, or use list comprehension."
   ]
  },
  {
   "cell_type": "code",
   "execution_count": null,
   "metadata": {
    "id": "P8KTkAmaNMZQ"
   },
   "outputs": [],
   "source": [
    "x_coords = [1.2, 2.4, 4.8]\n",
    "m = 2.32\n",
    "b = 0.112\n",
    "\n",
    "y_coords = []\n",
    "for x in x_coords:\n",
    "  y_coords.append(m*x+b)\n",
    "\n",
    "print(y_coords)"
   ]
  },
  {
   "cell_type": "code",
   "execution_count": null,
   "metadata": {
    "id": "8sH3M7KYM8iC"
   },
   "outputs": [],
   "source": [
    "x_coords = [1.2, 2.4, 4.8]\n",
    "m = 2.32\n",
    "b = 0.112\n",
    "\n",
    "y_coords = [m*x+b for x in x_coords]\n",
    "\n",
    "print(y_coords)"
   ]
  },
  {
   "cell_type": "markdown",
   "metadata": {
    "id": "4HqSSDa9NX34"
   },
   "source": [
    "- We have a set of x-values in x_coords and want to put them all in the formula y = mx+b to get y-values. We can do this in two ways:\n",
    "  * by looping over the list itself. This will loop once for each item in the list.\n",
    "  * in one step as above: for every value in xvec this statement will multiple it by m and add b, storing each result in a new list, y_coords.\n",
    "\n",
    "- In the above examples, we have asked for a value for n so that we can declare a list variable and set a length for the loop that reads in values. We can also read in an arbitrarily long list of values without knowing how many there are to begin with using a split command.\n"
   ]
  },
  {
   "cell_type": "code",
   "execution_count": null,
   "metadata": {
    "id": "YGByZ-lmN2er"
   },
   "outputs": [],
   "source": [
    "variable_length = input(\"Enter values separated by spaces: \").split()\n",
    "\n",
    "n = len(variable_length)\n",
    "data = [float(x) for x in variable_length]\n",
    "print(data)"
   ]
  },
  {
   "cell_type": "markdown",
   "metadata": {
    "id": "F9gsWWt2Oa1S"
   },
   "source": [
    "- we could have split the list in others ways, such as: split(\",\"), split(\";\"), etc."
   ]
  },
  {
   "cell_type": "markdown",
   "metadata": {
    "id": "rou4ZRa-Omti"
   },
   "source": [
    "## Plotting with matplotlib\n",
    "\n",
    "- There are many python libraries that contain useful tools you can plug in to your code. For example, the matplotlib allows you to create plots of data. You can tell your code that you will want to use matplotlib by importing it:\n",
    "```import matplotlib.pyplot as plt```\n",
    "- You can then use functionality like creating plots with a single command statement.\n",
    "- popular libraries like matplotlib are often distributed with anaconda, but if you try to import it and it does not load, you can install it with:\n",
    "```!pip install matplotlib```\n",
    "- You may need to restart your session before using it in these cases."
   ]
  },
  {
   "cell_type": "code",
   "execution_count": null,
   "metadata": {
    "id": "jrhKXg3YPC7t"
   },
   "outputs": [],
   "source": [
    "import matplotlib.pyplot as plt\n",
    "\n",
    "x_coords = [1.2, 2.4, 4.8]\n",
    "y_coords = [0.6, 1.8, 5.0]\n",
    "\n",
    "plt.plot(x_coords, y_coords, \"rx--\", label=\"data\")\n",
    "plt.xlabel(\"x\")\n",
    "plt.ylabel(\"y\")\n",
    "plt.legend()\n",
    "plt.show()"
   ]
  },
  {
   "cell_type": "markdown",
   "metadata": {
    "id": "mxuLTraMPhaM"
   },
   "source": [
    "- Here we have imported the pyplot functionality of matplotlib, created two lists of x and y values, and then used the plot and show functions to create the plots. The argument “rx- -“ means that plot will be red, with x’s for data points, and will have a broken line.\n",
    "- You can also make 2 plots on the same graph"
   ]
  },
  {
   "cell_type": "code",
   "execution_count": null,
   "metadata": {
    "id": "esgid8FzPXjn"
   },
   "outputs": [],
   "source": [
    "x_coords = [1.2, 2.4, 4.8]\n",
    "y_coords = [0.6, 1.8, 5.0]\n",
    "y2_coords = [0.5, 2.5, 4.0]\n",
    "\n",
    "plt.plot(x_coords, y_coords, \"rx--\", label=\"data\")\n",
    "plt.plot(x_coords, y2_coords, \"bo-\", label=\"data2\")\n",
    "plt.xlabel(\"x\")\n",
    "plt.ylabel(\"y\")\n",
    "plt.legend()\n",
    "plt.show()"
   ]
  },
  {
   "cell_type": "markdown",
   "metadata": {
    "id": "w_b-mBYfP1H7"
   },
   "source": [
    "- We can also make a scatter plot. In the example below, we put one xy-plot and one scatter plot on the same chart. We also then save the image as a jpeg.\n"
   ]
  },
  {
   "cell_type": "code",
   "execution_count": null,
   "metadata": {
    "id": "6PQ87jgaPwNq"
   },
   "outputs": [],
   "source": [
    "plt.scatter(x_coords, y_coords, color=\"red\", label=\"data\")\n",
    "plt.plot(x_coords, y2_coords, color=\"blue\", label=\"data2\")\n",
    "plt.xlabel(\"x\")\n",
    "plt.ylabel(\"y\")\n",
    "plt.legend()\n",
    "plt.show()\n",
    "\n",
    "plt.savefig(\"plot.jpg\")"
   ]
  },
  {
   "cell_type": "markdown",
   "metadata": {
    "id": "86hsN_BlQIS2"
   },
   "source": [
    "## Functions and Lambda functions\n",
    "- We can use a function to define an operation that we will use often, thereby simplifying our code."
   ]
  },
  {
   "cell_type": "code",
   "execution_count": null,
   "metadata": {
    "id": "jgbzAOgzQEiK"
   },
   "outputs": [],
   "source": [
    "def linear(input_vector: list, m: float, b: float):\n",
    "  '''\n",
    "    function to apply a linear transformation\n",
    "\n",
    "    Args:\n",
    "      input_vector: list of values\n",
    "      m: slope\n",
    "      b: intercept\n",
    "    Returns:\n",
    "      output_vector: list of values\n",
    "  '''\n",
    "  output_vector = [m*x+b for x in input_vector]\n",
    "  return output_vector\n",
    "\n",
    "m = 2.32\n",
    "b = 0.112\n",
    "\n",
    "x_coords = [1.2, 2.4, 4.8]\n",
    "y_coords = linear(x_coords, m, b)\n",
    "\n",
    "print(y_coords)"
   ]
  },
  {
   "cell_type": "markdown",
   "metadata": {
    "id": "VlAFrqiwQ4ZU"
   },
   "source": [
    "- Here we have defined a function to perform a linear transformation on a list of x-values. The function accepts a list as input, along with m and b values. We then loop over that input to transform each element, and then return the\n",
    "transformed vector.\n",
    "\n",
    "- We can also use decorators with functions. These are like functionals that accept a function, and “wrap” it in some other functionality. In the example below we will use a decorator to ensure the user wants to perform the operation.\n"
   ]
  },
  {
   "cell_type": "code",
   "execution_count": null,
   "metadata": {
    "id": "y17q1JDPQuss"
   },
   "outputs": [],
   "source": [
    "def ask(func):\n",
    "  def wrap(*args):\n",
    "    answer = input(\"Are you sure you want to perform this operation? \")\n",
    "    answer = answer.lower()\n",
    "    if answer == \"yes\" or answer == \"y\":\n",
    "      print(\"OK, performing function.\")\n",
    "      return func(*args)\n",
    "    else:\n",
    "      print(\"OK, not performing function.\")\n",
    "      return None\n",
    "  return wrap\n",
    "\n",
    "@ask\n",
    "def linear_decorated(input_vector: list, m: float, b: float):\n",
    "  '''\n",
    "    function to apply a linear transformation\n",
    "\n",
    "    Args:\n",
    "      input_vector: list of values\n",
    "      m: slope\n",
    "      b: intercept\n",
    "    Returns:\n",
    "      output_vector: list of values\n",
    "  '''\n",
    "  output_vector = [m*x+b for x in input_vector]\n",
    "  return output_vector\n",
    "\n",
    "y = linear_decorated(x_coords, m, b)\n",
    "print(y)"
   ]
  },
  {
   "cell_type": "markdown",
   "metadata": {
    "id": "EutQ70q0RsW2"
   },
   "source": [
    "- What we have done here is to add the decorator ask to the linear function. This “wraps” the function in a question before performing it. In order to keep the decorator general, we have used *args to accept arguments to the function in the decorator. This allows the decorator to receive an arbitrary number of arguments, so it can decorate various other functions. If we want to pass a dictionary we would use **kwargs.\n",
    "- NOTE: we have also used and if statement, which we will cover in more depth\n",
    "below.\n",
    "- Lambda functions can be used to quickly declare a function in one line, or within another line of code. They can be called in 3 ways. The simplest way is in-line, with arguments give afterwards. The syntax is: ( lambda variables : function) (input)."
   ]
  },
  {
   "cell_type": "code",
   "execution_count": null,
   "metadata": {
    "id": "BuuZ2IXeRs97"
   },
   "outputs": [],
   "source": [
    "(lambda x, m, b: [m*x+b for x in x_coords])(x_coords, m, b)"
   ]
  },
  {
   "cell_type": "markdown",
   "metadata": {
    "id": "TTHHYfACSzvT"
   },
   "source": [
    "- This takes in 3 arguments and performs the operation. You can also save a lambda as a variable, and call it:"
   ]
  },
  {
   "cell_type": "code",
   "execution_count": null,
   "metadata": {
    "id": "wNRsSLRwSmCR"
   },
   "outputs": [],
   "source": [
    "y = lambda x, m, b: [m*x+b for x in x_coords]\n",
    "\n",
    "result = y(x_coords, m, b)\n",
    "print(result)"
   ]
  },
  {
   "cell_type": "markdown",
   "metadata": {
    "id": "MldOdTAtTMQk"
   },
   "source": [
    "- We can also return a lambda from a function. This allows you to further manipulate the lambda. The function call returns the lambda function modified by n, and then the variable call passes its’ argument to the lambda.\n",
    "\n",
    "- We have also demonstrated here how to import the math library to access\n",
    "trigonometric functions. These functions are in radians by default."
   ]
  },
  {
   "cell_type": "code",
   "execution_count": null,
   "metadata": {
    "id": "HWdBOFi_TDeY"
   },
   "outputs": [],
   "source": [
    "import math\n",
    "\n",
    "def trig(n):\n",
    "  return lambda x: math.sin(x)**n\n",
    "\n",
    "sine_squared = trig(2)\n",
    "sine = trig(1)\n",
    "\n",
    "print(sine_squared(math.pi/4))\n",
    "print(sine(math.pi/4))"
   ]
  },
  {
   "cell_type": "markdown",
   "metadata": {
    "id": "FUX4J8y3Tuvp"
   },
   "source": [
    "- Finally, we can use lambdas in a map. A map takes as its arguments a function and an iterable item, like a list.\n",
    "- A map does not return a list, so we have to convert it to a list before reading it."
   ]
  },
  {
   "cell_type": "code",
   "execution_count": null,
   "metadata": {
    "id": "f6VunhpYTnof"
   },
   "outputs": [],
   "source": [
    "m = 2.32\n",
    "b = 0.112\n",
    "x_coords = [1.2, 2.4, 4.8]\n",
    "\n",
    "y_coords = list(map(lambda x: m*x+b, x_coords))\n",
    "print(y_coords)"
   ]
  },
  {
   "cell_type": "markdown",
   "metadata": {
    "id": "m44ofXKYUfwW"
   },
   "source": [
    "## Classes\n",
    "- We can define a class which is like a container for variables or functions (called methods when they are in a class). We then define an instance of that class which has all of its’ attributes and can execute any of its’ methods.\n",
    "- In this case we defined a class called linear_plot, and then defined an instance\n",
    "of it called my_data."
   ]
  },
  {
   "cell_type": "code",
   "execution_count": null,
   "metadata": {
    "id": "3Zs1ptoUUEiO"
   },
   "outputs": [],
   "source": [
    "class linear_plot():\n",
    "  '''\n",
    "    will calculate y values and make a plot\n",
    "  '''\n",
    "  def __init__(self, x_coords: list, m: float, b: float):\n",
    "    self.x_coords = x_coords\n",
    "    self.m = m\n",
    "    self.b = b\n",
    "\n",
    "  def linear(self):\n",
    "    '''\n",
    "      Calculates y coordinates\n",
    "\n",
    "        Args:\n",
    "          None\n",
    "        Returns:\n",
    "          y_coords: list of values\n",
    "    '''\n",
    "    self.y_coords = [self.m*x+self.b for x in self.x_coords]\n",
    "    return self.y_coords\n",
    "\n",
    "  def make_plot(self):\n",
    "    '''\n",
    "      plots the x and y values\n",
    "      Args:\n",
    "        None\n",
    "      Returns:\n",
    "        None\n",
    "    '''\n",
    "    plt.plot(self.x_coords, self.y_coords, \"rx--\", label=\"data\")\n",
    "    plt.xlabel(\"x\")\n",
    "    plt.ylabel(\"y\")\n",
    "    plt.legend()\n",
    "    plt.show()\n",
    "\n",
    "m = 2.32\n",
    "b = 0.112\n",
    "x_coords = [1.2, 2.4, 4.8]\n",
    "\n",
    "my_data = linear_plot(x_coords, m, b)\n",
    "y_coords = my_data.linear()\n",
    "\n",
    "print(y_coords)\n",
    "my_data.make_plot()"
   ]
  },
  {
   "cell_type": "code",
   "execution_count": null,
   "metadata": {
    "id": "G9gw6-taVYHh"
   },
   "outputs": [],
   "source": []
  }
 ],
 "metadata": {
  "colab": {
   "provenance": []
  },
  "kernelspec": {
   "display_name": "Python 3",
   "language": "python",
   "name": "python3"
  },
  "language_info": {
   "codemirror_mode": {
    "name": "ipython",
    "version": 3
   },
   "file_extension": ".py",
   "mimetype": "text/x-python",
   "name": "python",
   "nbconvert_exporter": "python",
   "pygments_lexer": "ipython3",
   "version": "3.8.8"
  }
 },
 "nbformat": 4,
 "nbformat_minor": 1
}
