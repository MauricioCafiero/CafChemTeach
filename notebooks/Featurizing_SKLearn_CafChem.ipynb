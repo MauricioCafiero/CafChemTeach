{
 "cells": [
  {
   "cell_type": "markdown",
   "metadata": {
    "id": "Pu8BK0H7xlO4"
   },
   "source": [
    "#CafChem Teaching - Featurizing and SciKit-learn.\n",
    "\n",
    "[![Open In Colab](https://colab.research.google.com/assets/colab-badge.svg)](https://colab.research.google.com/github/MauricioCafiero/CafChemTeach/blob/main/notebooks/Featurizing_SKLearn_CafChem.ipynb)\n",
    "\n",
    "## This notebook allows you to:\n",
    "- Featurize molecules based on SMILES strings.\n",
    "- Use a Random Forest regressor model to fit a common solubility dataset.\n",
    "\n",
    "## Requirements:\n",
    "- If using on Colab, t will install all needed libraries.\n",
    "- Can use your local environment or a CPU runtime on Colab."
   ]
  },
  {
   "cell_type": "markdown",
   "metadata": {
    "id": "4Ez0QMULyLMS"
   },
   "source": [
    "## Setup\n",
    "- Installing rdkit only needed is using Colab."
   ]
  },
  {
   "cell_type": "code",
   "execution_count": 1,
   "metadata": {
    "colab": {
     "base_uri": "https://localhost:8080/"
    },
    "id": "nOM_Nd2RjCk5",
    "outputId": "f1bb5ce7-977e-4b30-bbdc-956ad5be8821"
   },
   "outputs": [
    {
     "name": "stdout",
     "output_type": "stream",
     "text": [
      "Collecting rdkit\n",
      "  Downloading rdkit-2025.3.5-cp311-cp311-manylinux_2_28_x86_64.whl.metadata (4.1 kB)\n",
      "Requirement already satisfied: numpy in /usr/local/lib/python3.11/dist-packages (from rdkit) (2.0.2)\n",
      "Requirement already satisfied: Pillow in /usr/local/lib/python3.11/dist-packages (from rdkit) (11.3.0)\n",
      "Downloading rdkit-2025.3.5-cp311-cp311-manylinux_2_28_x86_64.whl (36.3 MB)\n",
      "\u001b[2K   \u001b[90m━━━━━━━━━━━━━━━━━━━━━━━━━━━━━━━━━━━━━━━━\u001b[0m \u001b[32m36.3/36.3 MB\u001b[0m \u001b[31m46.5 MB/s\u001b[0m eta \u001b[36m0:00:00\u001b[0m\n",
      "\u001b[?25hInstalling collected packages: rdkit\n",
      "Successfully installed rdkit-2025.3.5\n"
     ]
    }
   ],
   "source": [
    "!pip install rdkit"
   ]
  },
  {
   "cell_type": "code",
   "execution_count": 15,
   "metadata": {
    "id": "8OjsJgbtgnNh"
   },
   "outputs": [],
   "source": [
    "import numpy as np\n",
    "import pandas as pd\n",
    "import time\n",
    "import pickle as pkl\n",
    "from rdkit import Chem\n",
    "from rdkit.Chem import AllChem, Draw, Descriptors\n",
    "from sklearn.model_selection import train_test_split\n",
    "from sklearn.preprocessing import StandardScaler\n",
    "from sklearn.ensemble import RandomForestRegressor\n",
    "from sklearn.metrics import mean_squared_error, r2_score"
   ]
  },
  {
   "cell_type": "markdown",
   "metadata": {
    "id": "iu1rzoRiydgc"
   },
   "source": [
    "## Functions\n",
    "The functions below allow you to:\n",
    "- Featurize a list of molecules.\n",
    "- Check the features for NaN and remove those entries.\n",
    "- Fit your model to the data.\n",
    "- Predict solubility of a new molecule"
   ]
  },
  {
   "cell_type": "code",
   "execution_count": 3,
   "metadata": {
    "id": "ajlXNdmZkeDX"
   },
   "outputs": [],
   "source": [
    "def rdkit_featurize(smiles_list: list, target_list: list, print_flag: bool):\n",
    "  '''\n",
    "    Takes a list of SMILES strings and creates features using the RDKit set of\n",
    "    descriptors.\n",
    "\n",
    "      Args:\n",
    "        smiles_list: List of SMILES to featurize\n",
    "        target_list: list of the ground trutch values for each molecule\n",
    "        print_flag: True: print the number of descriptors for each molecule\n",
    "                    FAalse: do not print anything\n",
    "      Returns:\n",
    "        X: 2D list of features (rows are molecules, columns are features)\n",
    "        y: list of target values\n",
    "        mols: list of RDKit mol objects\n",
    "        legend: list of SMILES strings (should be identical to input list,\n",
    "                unless a molecule could not be featurized, in which case that molecule\n",
    "                is left out)\n",
    "  '''\n",
    "  X = []\n",
    "  mols = []\n",
    "  legend = []\n",
    "  y = []\n",
    "  add_flag = True\n",
    "  for i,smile in enumerate(smiles_list):\n",
    "    try:\n",
    "      mol = Chem.MolFromSmiles(smile)\n",
    "      dictionary_descriptors = Chem.Descriptors.CalcMolDescriptors(mol)\n",
    "      temp_vec = []\n",
    "      for key in dictionary_descriptors:\n",
    "        temp_vec.append(dictionary_descriptors[key])\n",
    "        add_flag = True\n",
    "      X.append(temp_vec)\n",
    "      mols.append(mol)\n",
    "      legend.append(smile)\n",
    "      y.append(target_list[i])\n",
    "      if print_flag:\n",
    "        print(f\"{len(temp_vec)} descriptors calculated for: {smile}\")\n",
    "        print(\"--------------------------------------------------------\")\n",
    "    except:\n",
    "      print(f\"Could not featurize molecule {i}\")\n",
    "\n",
    "  print(f\"Total number of molecules: {len(X)}\")\n",
    "  print(f\"Total number of descriptors per molecule: {len(X[0])}\")\n",
    "\n",
    "  return X, y, mols, legend\n",
    "\n",
    "def check_for_nan(f: list, y: list, Xa: list):\n",
    "  '''\n",
    "    Accepts the features array, the targets list, and the SMILES list. Checks\n",
    "    the feature array for NaN. Removes any rows with NaN from features, targets\n",
    "    and SMILES.\n",
    "\n",
    "      Args:\n",
    "        f: 2D list of features (rows are molecules, columns are features)\n",
    "        y: list of target values\n",
    "        Xa: list of SMILES strings\n",
    "      Returns:\n",
    "        f: trimmed 2D list of features (rows are molecules, columns are features)\n",
    "        y: trimmed list of target values\n",
    "        Xa: trimmed list of SMILES strings\n",
    "  '''\n",
    "  f = np.array(f)\n",
    "  y = np.array(y)\n",
    "  Xa = np.array(Xa)\n",
    "  nan_indicies = np.isnan(f)\n",
    "  bad_rows = []\n",
    "  for i, row in enumerate(nan_indicies):\n",
    "      for item in row:\n",
    "          if item == True:\n",
    "              if i not in bad_rows:\n",
    "                  #print(f\"Row {i} has a NaN.\")\n",
    "                  bad_rows.append(i)\n",
    "\n",
    "  print(f\"Old dimensions are: {f.shape}.\")\n",
    "\n",
    "  for j,i in enumerate(bad_rows):\n",
    "      k=i-j\n",
    "      f = np.delete(f,k,axis=0)\n",
    "      y = np.delete(y,k,axis=0)\n",
    "      Xa = np.delete(Xa,k,axis=0)\n",
    "      #print(f\"Deleting row {k} from arrays.\")\n",
    "\n",
    "  print(f\"New dimensions are: {f.shape}\")\n",
    "\n",
    "  return f, y, Xa\n",
    "\n",
    "def random_forest_regressor(X_train, y_train, X_test, y_test):\n",
    "  '''\n",
    "    Fits the SKLearn random firest regressor to the input training data. Calculates\n",
    "    the R2 score for the training and test data.\n",
    "\n",
    "      Args:\n",
    "        X_train: 2D list of training features (rows are molecules, columns are features)\n",
    "        y_train: list of training target values\n",
    "        X_test: 2D list of validation features (rows are molecules, columns are features)\n",
    "        y_test: list of validation target values\n",
    "\n",
    "      Returns:\n",
    "        rf: trained random forest regressor\n",
    "        train_r2: R2 score for the training data\n",
    "        test_r2: R2 score for the test data\n",
    "  '''\n",
    "  rf = RandomForestRegressor(n_estimators=100, random_state=42)\n",
    "  rf.fit(X_train, y_train)\n",
    "\n",
    "  train_pred = rf.predict(X_train)\n",
    "  test_pred = rf.predict(X_test)\n",
    "\n",
    "  train_r2 = r2_score(y_train, train_pred)\n",
    "  test_r2 = r2_score(y_test, test_pred)\n",
    "\n",
    "  return rf, train_r2, test_r2\n",
    "\n",
    "def predict_with_model(model, smiles_to_predict, scaler = None):\n",
    "  '''\n",
    "    Accepts a single SMILES string and featurizes it. Then applies scaling if appropriate,\n",
    "    and predicts the target value with the model\n",
    "\n",
    "      Args:\n",
    "        model: the trained model to use.\n",
    "        smiles_to_predict: the test molecule.\n",
    "        scaler (optional): the scaler to apply.\n",
    "      Returns:\n",
    "        prediction: the predicted value.\n",
    "  '''\n",
    "  mol = Chem.MolFromSmiles(smiles_to_predict)\n",
    "  dictionary_descriptors = Chem.Descriptors.CalcMolDescriptors(mol)\n",
    "  temp_vec = []\n",
    "  for key in dictionary_descriptors:\n",
    "    temp_vec.append(dictionary_descriptors[key])\n",
    "\n",
    "  if scaler is None:\n",
    "    X_scaled = [temp_vec]\n",
    "  else:\n",
    "    X_scaled = scaler.transform([temp_vec])\n",
    "\n",
    "  prediction = model.predict(X_scaled)\n",
    "\n",
    "  print(f\"The predicted value for {smiles_to_predict} is: {prediction[0]}\")\n",
    "  return prediction"
   ]
  },
  {
   "cell_type": "markdown",
   "metadata": {
    "id": "Hwmweg10z6Uw"
   },
   "source": [
    "## Read in data\n",
    "- Upload the delaney.csv file from the CafChemTeach repository."
   ]
  },
  {
   "cell_type": "code",
   "execution_count": 4,
   "metadata": {
    "colab": {
     "base_uri": "https://localhost:8080/",
     "height": 206
    },
    "id": "Y7UzwUAhjHQK",
    "outputId": "77fb3185-058a-43cf-9a25-06db3702f95b"
   },
   "outputs": [
    {
     "data": {
      "application/vnd.google.colaboratory.intrinsic+json": {
       "summary": "{\n  \"name\": \"df\",\n  \"rows\": 1144,\n  \"fields\": [\n    {\n      \"column\": \"Compound ID\",\n      \"properties\": {\n        \"dtype\": \"string\",\n        \"num_unique_values\": 1143,\n        \"samples\": [\n          \"2,3,6-Trichlorophenol\",\n          \"tetrachloroguaiacol\",\n          \"3-Methyl-3-hexanol\"\n        ],\n        \"semantic_type\": \"\",\n        \"description\": \"\"\n      }\n    },\n    {\n      \"column\": \"measured log(solubility:mol/L)\",\n      \"properties\": {\n        \"dtype\": \"number\",\n        \"std\": 2.0965019290656026,\n        \"min\": -11.6,\n        \"max\": 1.58,\n        \"num_unique_values\": 743,\n        \"samples\": [\n          -1.7,\n          -6.62,\n          -3.324\n        ],\n        \"semantic_type\": \"\",\n        \"description\": \"\"\n      }\n    },\n    {\n      \"column\": \"ESOL predicted log(solubility:mol/L)\",\n      \"properties\": {\n        \"dtype\": \"number\",\n        \"std\": 1.6865201316927123,\n        \"min\": -9.702,\n        \"max\": 1.091,\n        \"num_unique_values\": 920,\n        \"samples\": [\n          -0.949,\n          -1.457,\n          -2.855\n        ],\n        \"semantic_type\": \"\",\n        \"description\": \"\"\n      }\n    },\n    {\n      \"column\": \"SMILES\",\n      \"properties\": {\n        \"dtype\": \"string\",\n        \"num_unique_values\": 1128,\n        \"samples\": [\n          \"CC(C)(C)Cc1ccccc1\",\n          \"CCCCC1C(=O)N(N(C1=O)c2ccc(O)cc2)c3ccccc3 \",\n          \"CCOP(=S)(OCC)Oc1nc(Cl)n(n1)C(C)C\"\n        ],\n        \"semantic_type\": \"\",\n        \"description\": \"\"\n      }\n    }\n  ]\n}",
       "type": "dataframe",
       "variable_name": "df"
      },
      "text/html": [
       "\n",
       "  <div id=\"df-1c5a4c6d-64f1-438b-a2e5-9490145de567\" class=\"colab-df-container\">\n",
       "    <div>\n",
       "<style scoped>\n",
       "    .dataframe tbody tr th:only-of-type {\n",
       "        vertical-align: middle;\n",
       "    }\n",
       "\n",
       "    .dataframe tbody tr th {\n",
       "        vertical-align: top;\n",
       "    }\n",
       "\n",
       "    .dataframe thead th {\n",
       "        text-align: right;\n",
       "    }\n",
       "</style>\n",
       "<table border=\"1\" class=\"dataframe\">\n",
       "  <thead>\n",
       "    <tr style=\"text-align: right;\">\n",
       "      <th></th>\n",
       "      <th>Compound ID</th>\n",
       "      <th>measured log(solubility:mol/L)</th>\n",
       "      <th>ESOL predicted log(solubility:mol/L)</th>\n",
       "      <th>SMILES</th>\n",
       "    </tr>\n",
       "  </thead>\n",
       "  <tbody>\n",
       "    <tr>\n",
       "      <th>0</th>\n",
       "      <td>1,1,1,2-Tetrachloroethane</td>\n",
       "      <td>-2.18</td>\n",
       "      <td>-2.794</td>\n",
       "      <td>ClCC(Cl)(Cl)Cl</td>\n",
       "    </tr>\n",
       "    <tr>\n",
       "      <th>1</th>\n",
       "      <td>1,1,1-Trichloroethane</td>\n",
       "      <td>-2.00</td>\n",
       "      <td>-2.232</td>\n",
       "      <td>CC(Cl)(Cl)Cl</td>\n",
       "    </tr>\n",
       "    <tr>\n",
       "      <th>2</th>\n",
       "      <td>1,1,2,2-Tetrachloroethane</td>\n",
       "      <td>-1.74</td>\n",
       "      <td>-2.549</td>\n",
       "      <td>ClC(Cl)C(Cl)Cl</td>\n",
       "    </tr>\n",
       "    <tr>\n",
       "      <th>3</th>\n",
       "      <td>1,1,2-Trichloroethane</td>\n",
       "      <td>-1.48</td>\n",
       "      <td>-1.961</td>\n",
       "      <td>ClCC(Cl)Cl</td>\n",
       "    </tr>\n",
       "    <tr>\n",
       "      <th>4</th>\n",
       "      <td>1,1,2-Trichlorotrifluoroethane</td>\n",
       "      <td>-3.04</td>\n",
       "      <td>-3.077</td>\n",
       "      <td>FC(F)(Cl)C(F)(Cl)Cl</td>\n",
       "    </tr>\n",
       "  </tbody>\n",
       "</table>\n",
       "</div>\n",
       "    <div class=\"colab-df-buttons\">\n",
       "\n",
       "  <div class=\"colab-df-container\">\n",
       "    <button class=\"colab-df-convert\" onclick=\"convertToInteractive('df-1c5a4c6d-64f1-438b-a2e5-9490145de567')\"\n",
       "            title=\"Convert this dataframe to an interactive table.\"\n",
       "            style=\"display:none;\">\n",
       "\n",
       "  <svg xmlns=\"http://www.w3.org/2000/svg\" height=\"24px\" viewBox=\"0 -960 960 960\">\n",
       "    <path d=\"M120-120v-720h720v720H120Zm60-500h600v-160H180v160Zm220 220h160v-160H400v160Zm0 220h160v-160H400v160ZM180-400h160v-160H180v160Zm440 0h160v-160H620v160ZM180-180h160v-160H180v160Zm440 0h160v-160H620v160Z\"/>\n",
       "  </svg>\n",
       "    </button>\n",
       "\n",
       "  <style>\n",
       "    .colab-df-container {\n",
       "      display:flex;\n",
       "      gap: 12px;\n",
       "    }\n",
       "\n",
       "    .colab-df-convert {\n",
       "      background-color: #E8F0FE;\n",
       "      border: none;\n",
       "      border-radius: 50%;\n",
       "      cursor: pointer;\n",
       "      display: none;\n",
       "      fill: #1967D2;\n",
       "      height: 32px;\n",
       "      padding: 0 0 0 0;\n",
       "      width: 32px;\n",
       "    }\n",
       "\n",
       "    .colab-df-convert:hover {\n",
       "      background-color: #E2EBFA;\n",
       "      box-shadow: 0px 1px 2px rgba(60, 64, 67, 0.3), 0px 1px 3px 1px rgba(60, 64, 67, 0.15);\n",
       "      fill: #174EA6;\n",
       "    }\n",
       "\n",
       "    .colab-df-buttons div {\n",
       "      margin-bottom: 4px;\n",
       "    }\n",
       "\n",
       "    [theme=dark] .colab-df-convert {\n",
       "      background-color: #3B4455;\n",
       "      fill: #D2E3FC;\n",
       "    }\n",
       "\n",
       "    [theme=dark] .colab-df-convert:hover {\n",
       "      background-color: #434B5C;\n",
       "      box-shadow: 0px 1px 3px 1px rgba(0, 0, 0, 0.15);\n",
       "      filter: drop-shadow(0px 1px 2px rgba(0, 0, 0, 0.3));\n",
       "      fill: #FFFFFF;\n",
       "    }\n",
       "  </style>\n",
       "\n",
       "    <script>\n",
       "      const buttonEl =\n",
       "        document.querySelector('#df-1c5a4c6d-64f1-438b-a2e5-9490145de567 button.colab-df-convert');\n",
       "      buttonEl.style.display =\n",
       "        google.colab.kernel.accessAllowed ? 'block' : 'none';\n",
       "\n",
       "      async function convertToInteractive(key) {\n",
       "        const element = document.querySelector('#df-1c5a4c6d-64f1-438b-a2e5-9490145de567');\n",
       "        const dataTable =\n",
       "          await google.colab.kernel.invokeFunction('convertToInteractive',\n",
       "                                                    [key], {});\n",
       "        if (!dataTable) return;\n",
       "\n",
       "        const docLinkHtml = 'Like what you see? Visit the ' +\n",
       "          '<a target=\"_blank\" href=https://colab.research.google.com/notebooks/data_table.ipynb>data table notebook</a>'\n",
       "          + ' to learn more about interactive tables.';\n",
       "        element.innerHTML = '';\n",
       "        dataTable['output_type'] = 'display_data';\n",
       "        await google.colab.output.renderOutput(dataTable, element);\n",
       "        const docLink = document.createElement('div');\n",
       "        docLink.innerHTML = docLinkHtml;\n",
       "        element.appendChild(docLink);\n",
       "      }\n",
       "    </script>\n",
       "  </div>\n",
       "\n",
       "\n",
       "    <div id=\"df-22b65b0a-bc15-40f3-942e-bf5940368329\">\n",
       "      <button class=\"colab-df-quickchart\" onclick=\"quickchart('df-22b65b0a-bc15-40f3-942e-bf5940368329')\"\n",
       "                title=\"Suggest charts\"\n",
       "                style=\"display:none;\">\n",
       "\n",
       "<svg xmlns=\"http://www.w3.org/2000/svg\" height=\"24px\"viewBox=\"0 0 24 24\"\n",
       "     width=\"24px\">\n",
       "    <g>\n",
       "        <path d=\"M19 3H5c-1.1 0-2 .9-2 2v14c0 1.1.9 2 2 2h14c1.1 0 2-.9 2-2V5c0-1.1-.9-2-2-2zM9 17H7v-7h2v7zm4 0h-2V7h2v10zm4 0h-2v-4h2v4z\"/>\n",
       "    </g>\n",
       "</svg>\n",
       "      </button>\n",
       "\n",
       "<style>\n",
       "  .colab-df-quickchart {\n",
       "      --bg-color: #E8F0FE;\n",
       "      --fill-color: #1967D2;\n",
       "      --hover-bg-color: #E2EBFA;\n",
       "      --hover-fill-color: #174EA6;\n",
       "      --disabled-fill-color: #AAA;\n",
       "      --disabled-bg-color: #DDD;\n",
       "  }\n",
       "\n",
       "  [theme=dark] .colab-df-quickchart {\n",
       "      --bg-color: #3B4455;\n",
       "      --fill-color: #D2E3FC;\n",
       "      --hover-bg-color: #434B5C;\n",
       "      --hover-fill-color: #FFFFFF;\n",
       "      --disabled-bg-color: #3B4455;\n",
       "      --disabled-fill-color: #666;\n",
       "  }\n",
       "\n",
       "  .colab-df-quickchart {\n",
       "    background-color: var(--bg-color);\n",
       "    border: none;\n",
       "    border-radius: 50%;\n",
       "    cursor: pointer;\n",
       "    display: none;\n",
       "    fill: var(--fill-color);\n",
       "    height: 32px;\n",
       "    padding: 0;\n",
       "    width: 32px;\n",
       "  }\n",
       "\n",
       "  .colab-df-quickchart:hover {\n",
       "    background-color: var(--hover-bg-color);\n",
       "    box-shadow: 0 1px 2px rgba(60, 64, 67, 0.3), 0 1px 3px 1px rgba(60, 64, 67, 0.15);\n",
       "    fill: var(--button-hover-fill-color);\n",
       "  }\n",
       "\n",
       "  .colab-df-quickchart-complete:disabled,\n",
       "  .colab-df-quickchart-complete:disabled:hover {\n",
       "    background-color: var(--disabled-bg-color);\n",
       "    fill: var(--disabled-fill-color);\n",
       "    box-shadow: none;\n",
       "  }\n",
       "\n",
       "  .colab-df-spinner {\n",
       "    border: 2px solid var(--fill-color);\n",
       "    border-color: transparent;\n",
       "    border-bottom-color: var(--fill-color);\n",
       "    animation:\n",
       "      spin 1s steps(1) infinite;\n",
       "  }\n",
       "\n",
       "  @keyframes spin {\n",
       "    0% {\n",
       "      border-color: transparent;\n",
       "      border-bottom-color: var(--fill-color);\n",
       "      border-left-color: var(--fill-color);\n",
       "    }\n",
       "    20% {\n",
       "      border-color: transparent;\n",
       "      border-left-color: var(--fill-color);\n",
       "      border-top-color: var(--fill-color);\n",
       "    }\n",
       "    30% {\n",
       "      border-color: transparent;\n",
       "      border-left-color: var(--fill-color);\n",
       "      border-top-color: var(--fill-color);\n",
       "      border-right-color: var(--fill-color);\n",
       "    }\n",
       "    40% {\n",
       "      border-color: transparent;\n",
       "      border-right-color: var(--fill-color);\n",
       "      border-top-color: var(--fill-color);\n",
       "    }\n",
       "    60% {\n",
       "      border-color: transparent;\n",
       "      border-right-color: var(--fill-color);\n",
       "    }\n",
       "    80% {\n",
       "      border-color: transparent;\n",
       "      border-right-color: var(--fill-color);\n",
       "      border-bottom-color: var(--fill-color);\n",
       "    }\n",
       "    90% {\n",
       "      border-color: transparent;\n",
       "      border-bottom-color: var(--fill-color);\n",
       "    }\n",
       "  }\n",
       "</style>\n",
       "\n",
       "      <script>\n",
       "        async function quickchart(key) {\n",
       "          const quickchartButtonEl =\n",
       "            document.querySelector('#' + key + ' button');\n",
       "          quickchartButtonEl.disabled = true;  // To prevent multiple clicks.\n",
       "          quickchartButtonEl.classList.add('colab-df-spinner');\n",
       "          try {\n",
       "            const charts = await google.colab.kernel.invokeFunction(\n",
       "                'suggestCharts', [key], {});\n",
       "          } catch (error) {\n",
       "            console.error('Error during call to suggestCharts:', error);\n",
       "          }\n",
       "          quickchartButtonEl.classList.remove('colab-df-spinner');\n",
       "          quickchartButtonEl.classList.add('colab-df-quickchart-complete');\n",
       "        }\n",
       "        (() => {\n",
       "          let quickchartButtonEl =\n",
       "            document.querySelector('#df-22b65b0a-bc15-40f3-942e-bf5940368329 button');\n",
       "          quickchartButtonEl.style.display =\n",
       "            google.colab.kernel.accessAllowed ? 'block' : 'none';\n",
       "        })();\n",
       "      </script>\n",
       "    </div>\n",
       "\n",
       "    </div>\n",
       "  </div>\n"
      ],
      "text/plain": [
       "                      Compound ID  measured log(solubility:mol/L)  \\\n",
       "0       1,1,1,2-Tetrachloroethane                           -2.18   \n",
       "1           1,1,1-Trichloroethane                           -2.00   \n",
       "2       1,1,2,2-Tetrachloroethane                           -1.74   \n",
       "3           1,1,2-Trichloroethane                           -1.48   \n",
       "4  1,1,2-Trichlorotrifluoroethane                           -3.04   \n",
       "\n",
       "   ESOL predicted log(solubility:mol/L)               SMILES  \n",
       "0                                -2.794       ClCC(Cl)(Cl)Cl  \n",
       "1                                -2.232         CC(Cl)(Cl)Cl  \n",
       "2                                -2.549       ClC(Cl)C(Cl)Cl  \n",
       "3                                -1.961           ClCC(Cl)Cl  \n",
       "4                                -3.077  FC(F)(Cl)C(F)(Cl)Cl  "
      ]
     },
     "execution_count": 4,
     "metadata": {},
     "output_type": "execute_result"
    }
   ],
   "source": [
    "df = pd.read_csv('/content/delaney.csv')\n",
    "df.head()"
   ]
  },
  {
   "cell_type": "markdown",
   "metadata": {
    "id": "WXvmSwsO0GI_"
   },
   "source": [
    "## Featurize the molecules\n",
    "- Set the name of the SMILES and target columns\n",
    "- check for NaNs\n",
    "- Scale the features\n",
    "- Split the data into training and testing sets"
   ]
  },
  {
   "cell_type": "code",
   "execution_count": 5,
   "metadata": {
    "colab": {
     "base_uri": "https://localhost:8080/"
    },
    "id": "0x0dIeIijsMZ",
    "outputId": "b4a91653-0f72-4539-ab26-4a4ed11b6a75"
   },
   "outputs": [
    {
     "name": "stdout",
     "output_type": "stream",
     "text": [
      "Total number of molecules: 1144\n",
      "Total number of descriptors per molecule: 217\n"
     ]
    }
   ],
   "source": [
    "X, y, mols, smiles = rdkit_featurize(df['SMILES'], df['measured log(solubility:mol/L)'], print_flag=False)"
   ]
  },
  {
   "cell_type": "code",
   "execution_count": 6,
   "metadata": {
    "colab": {
     "base_uri": "https://localhost:8080/"
    },
    "id": "rwAiaOK6pB5s",
    "outputId": "bcc9da2e-5082-448e-e63c-8eed6d39c82f"
   },
   "outputs": [
    {
     "name": "stdout",
     "output_type": "stream",
     "text": [
      "Old dimensions are: (1144, 217).\n",
      "New dimensions are: (1144, 217)\n"
     ]
    }
   ],
   "source": [
    "X, y, smiles = check_for_nan(X, y, smiles)"
   ]
  },
  {
   "cell_type": "code",
   "execution_count": 7,
   "metadata": {
    "id": "qz5kuBDopWY3"
   },
   "outputs": [],
   "source": [
    "scaler = StandardScaler()\n",
    "X_scaled = scaler.fit_transform(X)"
   ]
  },
  {
   "cell_type": "code",
   "execution_count": 8,
   "metadata": {
    "id": "P-4CtmxIlyKs"
   },
   "outputs": [],
   "source": [
    "X_train, X_test, y_train, y_test = train_test_split(X_scaled, y, test_size=0.2, random_state=42)"
   ]
  },
  {
   "cell_type": "markdown",
   "metadata": {
    "id": "CReSBtnN0YV5"
   },
   "source": [
    "## Train the model\n",
    "- Print out the R2 values"
   ]
  },
  {
   "cell_type": "code",
   "execution_count": 9,
   "metadata": {
    "id": "F1jZsiQznLuU"
   },
   "outputs": [],
   "source": [
    "model, train_r2, test_r2 = random_forest_regressor(X_train, y_train, X_test, y_test)"
   ]
  },
  {
   "cell_type": "code",
   "execution_count": 10,
   "metadata": {
    "colab": {
     "base_uri": "https://localhost:8080/"
    },
    "id": "UEWohHcnqayP",
    "outputId": "185cdc04-33f8-401b-8dbb-9631207f5b55"
   },
   "outputs": [
    {
     "name": "stdout",
     "output_type": "stream",
     "text": [
      "Train R2: 0.9858122988986158\n",
      "Test R2: 0.9098266320591084\n"
     ]
    }
   ],
   "source": [
    "print(f\"Train R2: {train_r2}\")\n",
    "print(f\"Test R2: {test_r2}\")"
   ]
  },
  {
   "cell_type": "markdown",
   "metadata": {
    "id": "919e0CpU0eN_"
   },
   "source": [
    "## Predict the target value for a novel molecule"
   ]
  },
  {
   "cell_type": "code",
   "execution_count": 18,
   "metadata": {
    "colab": {
     "base_uri": "https://localhost:8080/"
    },
    "id": "1AGJlIV7s0CI",
    "outputId": "cc74a264-6c3b-42a5-e7f1-bb54b3caba8d"
   },
   "outputs": [
    {
     "name": "stdout",
     "output_type": "stream",
     "text": [
      "The predicted value for c1ccc(F)cc1 is: -1.8126000000000015\n"
     ]
    }
   ],
   "source": [
    "pred = predict_with_model(model, 'c1ccc(F)cc1', scaler)"
   ]
  },
  {
   "cell_type": "markdown",
   "metadata": {
    "id": "_yXUNaZ10jFd"
   },
   "source": [
    "## Save and/or Load your model"
   ]
  },
  {
   "cell_type": "code",
   "execution_count": 13,
   "metadata": {
    "id": "hgbxHpPPzn_L"
   },
   "outputs": [],
   "source": [
    "model_filename= \"my_model.pkl\""
   ]
  },
  {
   "cell_type": "code",
   "execution_count": 16,
   "metadata": {
    "colab": {
     "base_uri": "https://localhost:8080/"
    },
    "id": "TOcOVixHq0Ke",
    "outputId": "0b76dac9-5ad7-4e37-bfb8-5cf14fa72b42"
   },
   "outputs": [
    {
     "name": "stdout",
     "output_type": "stream",
     "text": [
      "Model saved to my_model.pkl\n"
     ]
    }
   ],
   "source": [
    "with open(model_filename, \"wb\") as f:\n",
    "    pkl.dump(model, f)\n",
    "print(f\"Model saved to {model_filename}\")"
   ]
  },
  {
   "cell_type": "code",
   "execution_count": 17,
   "metadata": {
    "colab": {
     "base_uri": "https://localhost:8080/"
    },
    "id": "3Fnp8J-azUYo",
    "outputId": "b594c3e8-79b2-4618-9af4-9b70c82c8ec4"
   },
   "outputs": [
    {
     "name": "stdout",
     "output_type": "stream",
     "text": [
      "Model loaded from my_model.pkl\n"
     ]
    }
   ],
   "source": [
    "with open(model_filename, \"rb\") as f:\n",
    "    model = pkl.load(f)\n",
    "print(f\"Model loaded from {model_filename}\")"
   ]
  }
 ],
 "metadata": {
  "colab": {
   "provenance": []
  },
  "kernelspec": {
   "display_name": "Python 3",
   "language": "python",
   "name": "python3"
  },
  "language_info": {
   "codemirror_mode": {
    "name": "ipython",
    "version": 3
   },
   "file_extension": ".py",
   "mimetype": "text/x-python",
   "name": "python",
   "nbconvert_exporter": "python",
   "pygments_lexer": "ipython3",
   "version": "3.8.8"
  }
 },
 "nbformat": 4,
 "nbformat_minor": 1
}
