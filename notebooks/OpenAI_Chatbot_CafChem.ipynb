{
 "cells": [
  {
   "cell_type": "markdown",
   "metadata": {
    "id": "3MPPR9DefsUp"
   },
   "source": [
    "#CafChem Teaching - A chatbot using OpenAI's open weights model, GPT-OSS-20B.\n",
    "\n",
    "[![Open In Colab](https://colab.research.google.com/assets/colab-badge.svg)](https://colab.research.google.com/github/MauricioCafiero/CafChemTeach/blob/main/notebooks/OpenAI_Chatbot_CafChem.ipynb)\n",
    "\n",
    "## This notebook allows you to:\n",
    "- Download the weights for the OpenAI GPT-OSS-20B model.\n",
    "- Interact with the model via a chatbot.\n",
    "\n",
    "## Requirements:\n",
    "- If using on Colab, it will (un)install all needed libraries.\n",
    "- Access to your HF token\n",
    "- Needs a GPU, L4 or higher preferably (will be quite slow on T4)."
   ]
  },
  {
   "cell_type": "markdown",
   "metadata": {
    "id": "X-q9mHN3FYln"
   },
   "source": [
    "## Set-up\n",
    "\n",
    "The OpenAI open models have quite complicated dependencies, and so several packages have to be install/un-installed"
   ]
  },
  {
   "cell_type": "code",
   "execution_count": 1,
   "metadata": {
    "colab": {
     "base_uri": "https://localhost:8080/"
    },
    "id": "Rsgz3IWDK5SF",
    "outputId": "5b358703-175d-45f5-866b-96b922a3b015"
   },
   "outputs": [
    {
     "name": "stdout",
     "output_type": "stream",
     "text": [
      "\u001b[2K   \u001b[90m━━━━━━━━━━━━━━━━━━━━━━━━━━━━━━━━━━━━━━━━\u001b[0m \u001b[32m888.1/888.1 MB\u001b[0m \u001b[31m2.3 MB/s\u001b[0m eta \u001b[36m0:00:00\u001b[0m\n",
      "\u001b[2K   \u001b[90m━━━━━━━━━━━━━━━━━━━━━━━━━━━━━━━━━━━━━━━━\u001b[0m \u001b[32m594.3/594.3 MB\u001b[0m \u001b[31m2.3 MB/s\u001b[0m eta \u001b[36m0:00:00\u001b[0m\n",
      "\u001b[2K   \u001b[90m━━━━━━━━━━━━━━━━━━━━━━━━━━━━━━━━━━━━━━━━\u001b[0m \u001b[32m10.2/10.2 MB\u001b[0m \u001b[31m133.5 MB/s\u001b[0m eta \u001b[36m0:00:00\u001b[0m\n",
      "\u001b[2K   \u001b[90m━━━━━━━━━━━━━━━━━━━━━━━━━━━━━━━━━━━━━━━━\u001b[0m \u001b[32m88.0/88.0 MB\u001b[0m \u001b[31m29.1 MB/s\u001b[0m eta \u001b[36m0:00:00\u001b[0m\n",
      "\u001b[2K   \u001b[90m━━━━━━━━━━━━━━━━━━━━━━━━━━━━━━━━━━━━━━━━\u001b[0m \u001b[32m954.8/954.8 kB\u001b[0m \u001b[31m62.5 MB/s\u001b[0m eta \u001b[36m0:00:00\u001b[0m\n",
      "\u001b[2K   \u001b[90m━━━━━━━━━━━━━━━━━━━━━━━━━━━━━━━━━━━━━━━━\u001b[0m \u001b[32m706.8/706.8 MB\u001b[0m \u001b[31m2.9 MB/s\u001b[0m eta \u001b[36m0:00:00\u001b[0m\n",
      "\u001b[2K   \u001b[90m━━━━━━━━━━━━━━━━━━━━━━━━━━━━━━━━━━━━━━━━\u001b[0m \u001b[32m193.1/193.1 MB\u001b[0m \u001b[31m5.8 MB/s\u001b[0m eta \u001b[36m0:00:00\u001b[0m\n",
      "\u001b[2K   \u001b[90m━━━━━━━━━━━━━━━━━━━━━━━━━━━━━━━━━━━━━━━━\u001b[0m \u001b[32m1.2/1.2 MB\u001b[0m \u001b[31m56.6 MB/s\u001b[0m eta \u001b[36m0:00:00\u001b[0m\n",
      "\u001b[2K   \u001b[90m━━━━━━━━━━━━━━━━━━━━━━━━━━━━━━━━━━━━━━━━\u001b[0m \u001b[32m63.6/63.6 MB\u001b[0m \u001b[31m33.5 MB/s\u001b[0m eta \u001b[36m0:00:00\u001b[0m\n",
      "\u001b[2K   \u001b[90m━━━━━━━━━━━━━━━━━━━━━━━━━━━━━━━━━━━━━━━━\u001b[0m \u001b[32m267.5/267.5 MB\u001b[0m \u001b[31m4.7 MB/s\u001b[0m eta \u001b[36m0:00:00\u001b[0m\n",
      "\u001b[2K   \u001b[90m━━━━━━━━━━━━━━━━━━━━━━━━━━━━━━━━━━━━━━━━\u001b[0m \u001b[32m288.2/288.2 MB\u001b[0m \u001b[31m3.7 MB/s\u001b[0m eta \u001b[36m0:00:00\u001b[0m\n",
      "\u001b[2K   \u001b[90m━━━━━━━━━━━━━━━━━━━━━━━━━━━━━━━━━━━━━━━━\u001b[0m \u001b[32m287.2/287.2 MB\u001b[0m \u001b[31m4.0 MB/s\u001b[0m eta \u001b[36m0:00:00\u001b[0m\n",
      "\u001b[2K   \u001b[90m━━━━━━━━━━━━━━━━━━━━━━━━━━━━━━━━━━━━━━━━\u001b[0m \u001b[32m322.4/322.4 MB\u001b[0m \u001b[31m3.4 MB/s\u001b[0m eta \u001b[36m0:00:00\u001b[0m\n",
      "\u001b[2K   \u001b[90m━━━━━━━━━━━━━━━━━━━━━━━━━━━━━━━━━━━━━━━━\u001b[0m \u001b[32m39.3/39.3 MB\u001b[0m \u001b[31m62.4 MB/s\u001b[0m eta \u001b[36m0:00:00\u001b[0m\n",
      "\u001b[2K   \u001b[90m━━━━━━━━━━━━━━━━━━━━━━━━━━━━━━━━━━━━━━━━\u001b[0m \u001b[32m90.0/90.0 kB\u001b[0m \u001b[31m8.9 MB/s\u001b[0m eta \u001b[36m0:00:00\u001b[0m\n",
      "\u001b[2K   \u001b[90m━━━━━━━━━━━━━━━━━━━━━━━━━━━━━━━━━━━━━━━━\u001b[0m \u001b[32m155.5/155.5 MB\u001b[0m \u001b[31m8.8 MB/s\u001b[0m eta \u001b[36m0:00:00\u001b[0m\n",
      "\u001b[2K   \u001b[90m━━━━━━━━━━━━━━━━━━━━━━━━━━━━━━━━━━━━━━━━\u001b[0m \u001b[32m6.3/6.3 MB\u001b[0m \u001b[31m134.5 MB/s\u001b[0m eta \u001b[36m0:00:00\u001b[0m\n",
      "\u001b[?25h\u001b[31mERROR: pip's dependency resolver does not currently take into account all the packages that are installed. This behaviour is the source of the following dependency conflicts.\n",
      "torchaudio 2.6.0+cu124 requires torch==2.6.0, but you have torch 2.8.0 which is incompatible.\n",
      "torchvision 0.21.0+cu124 requires torch==2.6.0, but you have torch 2.8.0 which is incompatible.\n",
      "fastai 2.7.19 requires torch<2.7,>=1.10, but you have torch 2.8.0 which is incompatible.\u001b[0m\u001b[31m\n",
      "\u001b[0m"
     ]
    }
   ],
   "source": [
    " !pip install -q --upgrade torch"
   ]
  },
  {
   "cell_type": "code",
   "execution_count": 2,
   "metadata": {
    "colab": {
     "base_uri": "https://localhost:8080/"
    },
    "id": "7z4gOSjA-pfn",
    "outputId": "fe126d92-9034-4f17-c8e4-4485f3f4aef1"
   },
   "outputs": [
    {
     "name": "stdout",
     "output_type": "stream",
     "text": [
      "  Installing build dependencies ... \u001b[?25l\u001b[?25hdone\n",
      "  Getting requirements to build wheel ... \u001b[?25l\u001b[?25hdone\n",
      "  Preparing metadata (pyproject.toml) ... \u001b[?25l\u001b[?25hdone\n",
      "  Installing build dependencies ... \u001b[?25l\u001b[?25hdone\n",
      "  Getting requirements to build wheel ... \u001b[?25l\u001b[?25hdone\n",
      "  Preparing metadata (pyproject.toml) ... \u001b[?25l\u001b[?25hdone\n",
      "  Building wheel for transformers (pyproject.toml) ... \u001b[?25l\u001b[?25hdone\n",
      "  Building wheel for triton_kernels (pyproject.toml) ... \u001b[?25l\u001b[?25hdone\n"
     ]
    }
   ],
   "source": [
    "!pip install -q git+https://github.com/huggingface/transformers triton==3.4 git+https://github.com/triton-lang/triton.git@main#subdirectory=python/triton_kernels"
   ]
  },
  {
   "cell_type": "code",
   "execution_count": 3,
   "metadata": {
    "id": "R82TiN0nBM3u"
   },
   "outputs": [],
   "source": [
    "!pip uninstall -q torchvision torchaudio -y"
   ]
  },
  {
   "cell_type": "code",
   "execution_count": 4,
   "metadata": {
    "colab": {
     "base_uri": "https://localhost:8080/"
    },
    "id": "5OCUoZj2OUpT",
    "outputId": "ed9dd849-a6c6-45a8-9648-f15805fbfe88"
   },
   "outputs": [
    {
     "name": "stdout",
     "output_type": "stream",
     "text": [
      "Collecting bitsandbytes\n",
      "  Downloading bitsandbytes-0.46.1-py3-none-manylinux_2_24_x86_64.whl.metadata (10 kB)\n",
      "Requirement already satisfied: torch<3,>=2.2 in /usr/local/lib/python3.11/dist-packages (from bitsandbytes) (2.8.0)\n",
      "Requirement already satisfied: numpy>=1.17 in /usr/local/lib/python3.11/dist-packages (from bitsandbytes) (2.0.2)\n",
      "Requirement already satisfied: filelock in /usr/local/lib/python3.11/dist-packages (from torch<3,>=2.2->bitsandbytes) (3.18.0)\n",
      "Requirement already satisfied: typing-extensions>=4.10.0 in /usr/local/lib/python3.11/dist-packages (from torch<3,>=2.2->bitsandbytes) (4.14.1)\n",
      "Requirement already satisfied: sympy>=1.13.3 in /usr/local/lib/python3.11/dist-packages (from torch<3,>=2.2->bitsandbytes) (1.14.0)\n",
      "Requirement already satisfied: networkx in /usr/local/lib/python3.11/dist-packages (from torch<3,>=2.2->bitsandbytes) (3.5)\n",
      "Requirement already satisfied: jinja2 in /usr/local/lib/python3.11/dist-packages (from torch<3,>=2.2->bitsandbytes) (3.1.6)\n",
      "Requirement already satisfied: fsspec in /usr/local/lib/python3.11/dist-packages (from torch<3,>=2.2->bitsandbytes) (2025.3.0)\n",
      "Requirement already satisfied: nvidia-cuda-nvrtc-cu12==12.8.93 in /usr/local/lib/python3.11/dist-packages (from torch<3,>=2.2->bitsandbytes) (12.8.93)\n",
      "Requirement already satisfied: nvidia-cuda-runtime-cu12==12.8.90 in /usr/local/lib/python3.11/dist-packages (from torch<3,>=2.2->bitsandbytes) (12.8.90)\n",
      "Requirement already satisfied: nvidia-cuda-cupti-cu12==12.8.90 in /usr/local/lib/python3.11/dist-packages (from torch<3,>=2.2->bitsandbytes) (12.8.90)\n",
      "Requirement already satisfied: nvidia-cudnn-cu12==9.10.2.21 in /usr/local/lib/python3.11/dist-packages (from torch<3,>=2.2->bitsandbytes) (9.10.2.21)\n",
      "Requirement already satisfied: nvidia-cublas-cu12==12.8.4.1 in /usr/local/lib/python3.11/dist-packages (from torch<3,>=2.2->bitsandbytes) (12.8.4.1)\n",
      "Requirement already satisfied: nvidia-cufft-cu12==11.3.3.83 in /usr/local/lib/python3.11/dist-packages (from torch<3,>=2.2->bitsandbytes) (11.3.3.83)\n",
      "Requirement already satisfied: nvidia-curand-cu12==10.3.9.90 in /usr/local/lib/python3.11/dist-packages (from torch<3,>=2.2->bitsandbytes) (10.3.9.90)\n",
      "Requirement already satisfied: nvidia-cusolver-cu12==11.7.3.90 in /usr/local/lib/python3.11/dist-packages (from torch<3,>=2.2->bitsandbytes) (11.7.3.90)\n",
      "Requirement already satisfied: nvidia-cusparse-cu12==12.5.8.93 in /usr/local/lib/python3.11/dist-packages (from torch<3,>=2.2->bitsandbytes) (12.5.8.93)\n",
      "Requirement already satisfied: nvidia-cusparselt-cu12==0.7.1 in /usr/local/lib/python3.11/dist-packages (from torch<3,>=2.2->bitsandbytes) (0.7.1)\n",
      "Requirement already satisfied: nvidia-nccl-cu12==2.27.3 in /usr/local/lib/python3.11/dist-packages (from torch<3,>=2.2->bitsandbytes) (2.27.3)\n",
      "Requirement already satisfied: nvidia-nvtx-cu12==12.8.90 in /usr/local/lib/python3.11/dist-packages (from torch<3,>=2.2->bitsandbytes) (12.8.90)\n",
      "Requirement already satisfied: nvidia-nvjitlink-cu12==12.8.93 in /usr/local/lib/python3.11/dist-packages (from torch<3,>=2.2->bitsandbytes) (12.8.93)\n",
      "Requirement already satisfied: nvidia-cufile-cu12==1.13.1.3 in /usr/local/lib/python3.11/dist-packages (from torch<3,>=2.2->bitsandbytes) (1.13.1.3)\n",
      "Requirement already satisfied: triton==3.4.0 in /usr/local/lib/python3.11/dist-packages (from torch<3,>=2.2->bitsandbytes) (3.4.0)\n",
      "Requirement already satisfied: setuptools>=40.8.0 in /usr/local/lib/python3.11/dist-packages (from triton==3.4.0->torch<3,>=2.2->bitsandbytes) (75.2.0)\n",
      "Requirement already satisfied: mpmath<1.4,>=1.1.0 in /usr/local/lib/python3.11/dist-packages (from sympy>=1.13.3->torch<3,>=2.2->bitsandbytes) (1.3.0)\n",
      "Requirement already satisfied: MarkupSafe>=2.0 in /usr/local/lib/python3.11/dist-packages (from jinja2->torch<3,>=2.2->bitsandbytes) (3.0.2)\n",
      "Downloading bitsandbytes-0.46.1-py3-none-manylinux_2_24_x86_64.whl (72.9 MB)\n",
      "\u001b[2K   \u001b[90m━━━━━━━━━━━━━━━━━━━━━━━━━━━━━━━━━━━━━━━━\u001b[0m \u001b[32m72.9/72.9 MB\u001b[0m \u001b[31m33.5 MB/s\u001b[0m eta \u001b[36m0:00:00\u001b[0m\n",
      "\u001b[?25hInstalling collected packages: bitsandbytes\n",
      "Successfully installed bitsandbytes-0.46.1\n"
     ]
    }
   ],
   "source": [
    "!pip install bitsandbytes"
   ]
  },
  {
   "cell_type": "code",
   "execution_count": 5,
   "metadata": {
    "colab": {
     "base_uri": "https://localhost:8080/"
    },
    "id": "0ksk6gyES4s4",
    "outputId": "f14410ee-1bcf-4871-9150-725cc26d2d36"
   },
   "outputs": [
    {
     "name": "stdout",
     "output_type": "stream",
     "text": [
      "Collecting kernels\n",
      "  Downloading kernels-0.9.0-py3-none-any.whl.metadata (3.3 kB)\n",
      "Requirement already satisfied: huggingface_hub<1.0,>=0.26.0 in /usr/local/lib/python3.11/dist-packages (from kernels) (0.34.3)\n",
      "Requirement already satisfied: packaging>=20.0 in /usr/local/lib/python3.11/dist-packages (from kernels) (25.0)\n",
      "Requirement already satisfied: pyyaml>=6 in /usr/local/lib/python3.11/dist-packages (from kernels) (6.0.2)\n",
      "Requirement already satisfied: filelock in /usr/local/lib/python3.11/dist-packages (from huggingface_hub<1.0,>=0.26.0->kernels) (3.18.0)\n",
      "Requirement already satisfied: fsspec>=2023.5.0 in /usr/local/lib/python3.11/dist-packages (from huggingface_hub<1.0,>=0.26.0->kernels) (2025.3.0)\n",
      "Requirement already satisfied: requests in /usr/local/lib/python3.11/dist-packages (from huggingface_hub<1.0,>=0.26.0->kernels) (2.32.3)\n",
      "Requirement already satisfied: tqdm>=4.42.1 in /usr/local/lib/python3.11/dist-packages (from huggingface_hub<1.0,>=0.26.0->kernels) (4.67.1)\n",
      "Requirement already satisfied: typing-extensions>=3.7.4.3 in /usr/local/lib/python3.11/dist-packages (from huggingface_hub<1.0,>=0.26.0->kernels) (4.14.1)\n",
      "Requirement already satisfied: hf-xet<2.0.0,>=1.1.3 in /usr/local/lib/python3.11/dist-packages (from huggingface_hub<1.0,>=0.26.0->kernels) (1.1.5)\n",
      "Requirement already satisfied: charset-normalizer<4,>=2 in /usr/local/lib/python3.11/dist-packages (from requests->huggingface_hub<1.0,>=0.26.0->kernels) (3.4.2)\n",
      "Requirement already satisfied: idna<4,>=2.5 in /usr/local/lib/python3.11/dist-packages (from requests->huggingface_hub<1.0,>=0.26.0->kernels) (3.10)\n",
      "Requirement already satisfied: urllib3<3,>=1.21.1 in /usr/local/lib/python3.11/dist-packages (from requests->huggingface_hub<1.0,>=0.26.0->kernels) (2.5.0)\n",
      "Requirement already satisfied: certifi>=2017.4.17 in /usr/local/lib/python3.11/dist-packages (from requests->huggingface_hub<1.0,>=0.26.0->kernels) (2025.8.3)\n",
      "Downloading kernels-0.9.0-py3-none-any.whl (37 kB)\n",
      "Installing collected packages: kernels\n",
      "Successfully installed kernels-0.9.0\n"
     ]
    }
   ],
   "source": [
    "pip install kernels"
   ]
  },
  {
   "cell_type": "code",
   "execution_count": 6,
   "metadata": {
    "id": "fquxPW7yPbgr"
   },
   "outputs": [],
   "source": [
    "import os\n",
    "import re\n",
    "import transformers\n",
    "import torch\n",
    "import gradio as gr\n",
    "from transformers import AutoModelForCausalLM, AutoTokenizer\n",
    "from transformers import Mxfp4Config\n",
    "import triton\n",
    "import kernels"
   ]
  },
  {
   "cell_type": "markdown",
   "metadata": {
    "id": "lQA3Zb-0FcNQ"
   },
   "source": [
    "## Functions\n",
    "- These functions set-up the model and power the chatbot"
   ]
  },
  {
   "cell_type": "code",
   "execution_count": 7,
   "metadata": {
    "id": "IOw-BooQPe8x"
   },
   "outputs": [],
   "source": [
    "chat_history = []\n",
    "global last_id\n",
    "last_id = None\n",
    "\n",
    "def clear_history():\n",
    "\tglobal chat_history\n",
    "\tchat_history = []\n",
    "\tglobal last_id\n",
    "\tlast_id = None\n",
    "\n",
    "def setup_free_openai():\n",
    "  '''\n",
    "  '''\n",
    "  model_id = \"openai/gpt-oss-20b\"\n",
    "  tokenizer = AutoTokenizer.from_pretrained(model_id)\n",
    "\n",
    "  quantization_config = Mxfp4Config(dequantize=False)\n",
    "\n",
    "  model = AutoModelForCausalLM.from_pretrained(\n",
    "          model_id,\n",
    "          device_map=\"cuda\",\n",
    "          torch_dtype=\"auto\",\n",
    "          quantization_config = quantization_config)\n",
    "\n",
    "  return tokenizer, model\n",
    "\n",
    "def chat(prompt, reason):\n",
    "  '''\n",
    "  '''\n",
    "  global last_id\n",
    "  global chat_history\n",
    "  chat_history.append({\"role\": \"user\", \"content\": prompt, \"reasoning_effort\": reason})\n",
    "\n",
    "  inputs = tokenizer.apply_chat_template(\n",
    "                      chat_history, #messages,\n",
    "                      add_generation_prompt=True,\n",
    "                      return_tensors=\"pt\",\n",
    "                      return_dict=True).to(model.device)\n",
    "\n",
    "  generated = model.generate(**inputs, max_new_tokens=1000)\n",
    "  response = tokenizer.decode(generated[0][inputs[\"input_ids\"].shape[-1]:])\n",
    "\n",
    "  start_match = \"\\<\\|message\\|\\>\"\n",
    "  response_parts = re.split(start_match, response)\n",
    "  answer = response_parts[-1].replace('<|return|>','')\n",
    "\n",
    "  chat_history.append(\n",
    "              {\"role\": \"assistant\", \"content\": answer}\n",
    "  )\n",
    "  print(answer)\n",
    "\n",
    "  return \"\", chat_history\n",
    "\n",
    "def chatbot():\n",
    "  '''\n",
    "  '''\n",
    "  with gr.Blocks() as forest:\n",
    "    gr.Markdown(\n",
    "        \"\"\"\n",
    "        # Chat with OpenAI GPT-OSS-20B.\n",
    "        - If using high reasoning, responses can take a minute or longer!\n",
    "        ### Enter your messages below.\n",
    "        \"\"\")\n",
    "\n",
    "    reason = gr.Radio(choices = [\"low\", \"medium\", \"high\"],label=\"Reasoning Level\",\n",
    "                    value = \"medium\", interactive=True)\n",
    "\n",
    "    chatbot = gr.Chatbot(type=\"messages\")\n",
    "    msg = gr.Textbox(label=\"Type your messages here and hit enter.\")\n",
    "    chat_btn = gr.Button(value = \"Send\")\n",
    "\n",
    "    clear = gr.ClearButton([msg, chatbot])\n",
    "    clear.click(clear_history)\n",
    "\n",
    "    chat_btn.click(chat, [msg, reason], [msg,chatbot])\n",
    "    msg.submit(chat, [msg, reason], [msg,chatbot])\n",
    "\n",
    "  forest.launch(share=True)"
   ]
  },
  {
   "cell_type": "markdown",
   "metadata": {
    "id": "QKUh2MFadwp_"
   },
   "source": [
    "## Download the model weights and tokenizer from HuggingFace"
   ]
  },
  {
   "cell_type": "code",
   "execution_count": 8,
   "metadata": {
    "colab": {
     "base_uri": "https://localhost:8080/",
     "height": 1000,
     "referenced_widgets": [
      "61c63b73bb6c4a47afebc2f4b21a1fea",
      "18211ab598df428c988790d8539bd94b",
      "2eb703f0163a4f42907d0c773cb1131f",
      "10b0b6f949104b33ab5c160f2ca9aaec",
      "e539ddf4891745bfaeb4aceddddd4c65",
      "8bfbcbba730b4236b607706ec6172b6c",
      "93016dd095a44dff80fca46629d4ce89",
      "87a11e8bfc2a4ce88b7130c211bf154a",
      "fe89bf3186914d768d5c079929fbb508",
      "295c3edf92564f6ea6f4ec3f8da8ef2f",
      "61ebbe6af57548969cfea50eabe29e9e",
      "1fed1b55942b460fa7a80f01d07cf8c6",
      "41674a769efd4f03a696960fa55facb5",
      "1c33862433a14f279351f27a43e96add",
      "b010d9ac008d4ea3ae4c0d602e349eec",
      "ba4b5921ce5c4c9693a2a8af3bed39eb",
      "03786c18eebe4e23a76576be9bc40db1",
      "353e310bdb9443e9824caaa69e136883",
      "1ef0c6939ed043eb8afbc70f2cda5b51",
      "442ba6c1c8c446bfb334776bfe1ea738",
      "b7731a76e32c4ef0aff698d81d559ec6",
      "b1456c91efc2402fbde2a9d8f6e9465f",
      "e99f92fbaaf04ea4ab09feb51bd9a647",
      "6d04e88ec5bc42fb925ab2611670cc19",
      "03c0e74accf6461f86f612fb8d5909d0",
      "a41f59b33b8c42b4a727e70c54a5309f",
      "916c64c0dcef4946a74856d61ebffae4",
      "1c801eb702e842f1ad6a5685163574ea",
      "c4c3b5af34f946e7b328657eaa7631d9",
      "d5c58cc9a4184e7795f9e6c543ebe2b7",
      "3e6b245a513741f996b19c569d6b9965",
      "6643fb9ad6a049d7a318e692eb35f1f7",
      "94b8de0670334c158ea476e812c94000",
      "8e9d409d922146b49910b0281d4f71ec",
      "ea02c05248054f64a4bddb0377bb7043",
      "e7c00a72a7294de3b7132d74fdde2008",
      "6906b81bb00440e39869d8c0b7027f37",
      "edc62aa944be4248bae08ce5c26e1a44",
      "df38bca2bb58462c982d58e433513130",
      "e2424e4800b945398a7266cfacb7b307",
      "4ae6d98d1da544138813ae6ddfac3eae",
      "e02f7a47438a406082ca26378258ab2a",
      "53ba5f74c804445f985b79dd948491f8",
      "fbe48f8242d546caac09a48f89db0704",
      "05504bd989844d92b69734c1ef7e3360",
      "41020175fb9d47fea696380f4f9286df",
      "85968e64b36341188226fff2ff2ebed3",
      "480c9628f8ae4c78aaf60ed61980c975",
      "9854d54d840e4e21a48a3138bfcab0ef",
      "833fb6afebd9483886babcbf2eb4dff1",
      "d1c33a9430ea40dd8dabb7ca530d5566",
      "ba12dea285614c02b70a0b573655ddb9",
      "6b67e099e2054111bb03fbf2136bb95d",
      "7936de5b9e5d4aeca2059cf47e4503b7",
      "8a6d6121ac3943fd9dbc40745a02efab",
      "f4ccdbee5cbd488193ce9350a048852d",
      "07cb265e221f4c50a87ccdae321e0738",
      "1e6f2cccb6b94526b6077b6d245b9598",
      "be89c113921b4a36ac8e832758d3342b",
      "4c8790d89e1f476c9db48a2cf877b2b5",
      "c824c251d4c34be4b21d97edf932c247",
      "aad72b86bc094299bc5ed524cbb85d25",
      "5cf8fe645a0543fe93f1f85cc3dd11cb",
      "68ec7c32f7f84aad87f03bd04b19c771",
      "136ab16fbb5c4f508b20dd47dd221791",
      "bae2d887be254d03b80f01814eaceb4e",
      "7b7fe904b95b475b95de049974c5c2f6",
      "97d7882f224a4d17a1e3a46675eb1e9c",
      "4cebcc6acaca45b8acc24c6fe7821db6",
      "048dbfb95354492eb9d41b7b337af321",
      "e333917596874549877aab48a27d6516",
      "7976cb9306534a17b51e97906dca66bc",
      "8ced97ae18e04dc1951329e1253c6262",
      "d45e3d5a797e44bab22ac72ca1b14918",
      "e34fced94ab748cdbb838158b7dbdc10",
      "5f08f494dec54c198186090eafef2f48",
      "82d495273f2c4b6791bd6c5481e26a69",
      "2b50c7669c04415d8603549a8dc3bf32",
      "a4675555f6b5418994618be6b5b94958",
      "3988dcd77ee845738cfe58c20a536684",
      "91adb89f279b45a08e9076293abef2c3",
      "243811418e544e598a55b01c6ad86275",
      "c9dcfce523d84d1cb69af7a8567556a2",
      "19681c5c8ccb45d28b2f90728e4e84d2",
      "15c4bb343f444d90b3212284c9d0814a",
      "61c270907dca4731b3e9415c5c5addf4",
      "18c8a911032a43339502b7ed1732e40e",
      "9c6555d5a25a4bee9a5262078cb68257",
      "27e95644d20341c39edfc3df55c55c0f",
      "1aca181011984574ab756efb5fbd60f2",
      "50b8c070c68d40e6829554e212b1cd7b",
      "7be39562e4e843eaae8f789f629a224c",
      "1fe254bababa40f9a0121f5ad484dc0f",
      "8670807ccd42404ab66ddaf6eb178f16",
      "ceb49d1365d94733a49c15aea4456495",
      "5c2b28063b1141f5b3952f875c03ca8c",
      "e1fd1ad1f2a3485c82ff456e0e991662",
      "ab68b42559f1436496adcc26a7fdd817",
      "de09ea81c8bf4fb09b14f7b167b72d11",
      "855f839add444321a9d51575c86172b3",
      "f216aa45b89a413aa1e6ab885c2d3e2f",
      "8d1ca7a32bc64d4ca433c414e05ac80c",
      "951085b69bab428897f397706d0d16fe",
      "22f9f76947d847d8af76ff4a14fe3e61",
      "c3da685dd8c449cebd40178ae9bc8747",
      "3d74f1a8ec934b17a73fa503babfaf52",
      "c2ba423ce7ce4def8a8700d5c0d56cec",
      "6e5da10ffd254e84954144789b7d7d9c",
      "b531c3c290094f16b30982f0d9a4cc7c",
      "c1123aabd7d74e67b674f3508cf2a97f",
      "e3eca69dbbf04eca858b3d5c8b73d657",
      "428f2152cece4c43b7cdddf05f36b7b0",
      "9d784fdb24b84f19a7cf0cae71a2fd4e",
      "a92dda0ed1b6417dbff300ea1ac55865",
      "e20053bf993a4f05b6084b340bbaf0f4",
      "3b85defe0d2a48618050b77cefc95cec",
      "287013dbf6f34717bcf2fb586df36f0d",
      "157a0164a8f74b45a6f1d882347689f6",
      "090e48c3179f405e908a14156058c579",
      "649024f4724c4d9685842ae76e5e0310",
      "d31d6276879844e7be945810119010e9",
      "f501020c8bf644bcab56d088061c5a0d",
      "d9d649ec068a4ff5904d5b0e74195a59",
      "0358d5c44cae4c489af9c582467079f8",
      "2f36a1818b6b41f083fc52086df5cade",
      "59c73d615b7c456d8459eb082a628e25",
      "ebfb8f0226b547cea382d10c339395bd",
      "570363cea4b34a83a9c578facf1cb481",
      "7698a64748224ed69f63e1b60a2c4793",
      "749766788d074c62bc5f08dea3d5bc68",
      "6c6595fc5e2b47f18aca1cb0365adb22",
      "d1a1f2d0359643a7b2b7a8a6b1498d14",
      "023033a2b9ae4314b965895a97f2cb27",
      "591f9df1e52940d799f464268b617860",
      "26a80136daaf487f98ecd17a306aa028",
      "694274ae69c54c90aaacd38882c8ca78",
      "795dbcfbbcf64886a0f036498f9cb193",
      "164194d9713d4253937d508cdc912667",
      "96f7da986c24459eb53892bbca88022b",
      "67bf304e8e424f20b5f8357484657a35",
      "6d26544d1b234919a1bb18b0661d6805",
      "7d35cd6422804584994b53985d6e5f46",
      "76c75bafdac041678b2e3aeadb0a67a8",
      "40f3f9186eb246fe93b18cfd7c58a781",
      "2eb46c95bbdc45bb8585a7ab112a74fe",
      "afd773b59afe4e4398f117b3787111da",
      "815519eec8434509bb6910d31b3c0981",
      "59fe806bac164e239d23b2608fb246e4",
      "a220a14b550c423f9efd41bd7b0c7ad6",
      "b676ee6068fb42658a1c4dd0b7e183b8",
      "fc36b1e917d745e08affa6221bb1babe",
      "c2b627c39d3c45c1bb312dc85f9c0963",
      "a09c41c3936947a1895c0c95f8746dcb",
      "5d5fb3d665644328a596ff4cd6875880",
      "379133e21ab549b4a2c685af4ade9516",
      "103d44ad3bb7482bbf74e5118259e67a",
      "a93101a967aa4d3dab2517ad943252db",
      "d5ad6385d59a4a9fa8cf4fcd68354a13",
      "85660bd25e0e406cafed87524f573725",
      "8710fffc78f84590aa7a146d1379e42b",
      "a8b906feaaf149c8b7d3d5d79e7e7393",
      "e72440f46b9645dd85319d30a0791f07",
      "119d218c5f2841c488b398028eaf7f9a",
      "2ddcdfecd6ca498eb11ec05e4c17b8c4",
      "df9d6047b79a4a98903eed47bd0ed68c",
      "609f2e39bb2e45a79220c36aeae4af4f",
      "98072a8b96874c89a001a3e229bf98d6",
      "893f6fd2538c44429aba9719ac9f5b5d",
      "aee6f069163244678c234123b20fe765",
      "c592bb53cecd466881effe4b8db79c72",
      "25335fc1ddfe48cf8dbbbe07c3164841",
      "1d0480269f70432a8bda8d6f2392c2ef",
      "2f03092f01254e419c84590860702650",
      "b228cd6030e24f88ba6371513d182e30",
      "1c20b8feb1f04ce6b6b3393c004695bc",
      "ee6b9ee71f54420e8a0155d08cb9027b",
      "f9181e2cd5684bcb8247fa11596c0ddb",
      "d52ebe2b2524402d8a1fc4e474ebc69b",
      "c891986e6e8743ef8e79d7ff3be14e96",
      "437378b372b1453daa89208da04e2307",
      "c55edcce36a24f13b2d6a29444c1a615",
      "64a6b282ef71405fa6b9fc928f4665ab",
      "b5b1b69273a649a686b3a7e2c8891759",
      "41339bf8a9164ace8adf68a6b46c2737",
      "61a9ac7fd5e14199a850236e04eb5b10",
      "d350e4a596fb4d7386128d1ad2fc1676",
      "dd9dcc213d74433c904295136b50784a",
      "75c52cb56a394dae90bcc3dfdd3f56e6",
      "123ba5058d0845e898a4c7bb1ff32778",
      "702b050c0ae840439dcf4e228e50684f",
      "0a9808992c05410f8f503a1ea545c587",
      "f6c79a2c6e1944bb8c49930985381e8d",
      "3642f726119c44cfbbe819f9287b0f24",
      "1d81142a24d24c33bbe47ba6d1da2cd8",
      "844740393daf4577ba4c6ee4f43205ab",
      "99fece0c76d645878035dc739d9f6b84",
      "06db195fedd94ca78055ac0f4de5a55e",
      "2f90e48958d14caaa725b1ada8971e47",
      "c3da0ff03a484fcf9920e9db01c68f85",
      "66eed9968f144f29bbf895e6813c3b9f",
      "2323f791d9624c959445f09429264de1",
      "8bd37efed07b436dbf0d5d56e065dea8",
      "e65347d6afa7459c8fc728c0d54e9cb8",
      "5df64a75d7f440bca321d93dfb0e1396",
      "c17f9282ec344150a1e104c17f521be4",
      "6ea901e37fae425fbe241b81ca6f6ddd",
      "92923032dbf94b64b073e40f0cf1575f",
      "616c37da3b034b2f822c8472f5e39618",
      "6a070b76ae91441d888d3aac52b7dfd1",
      "a6bcedd2171d4be580e2a9b579c753e0",
      "b539fe6bb43546dab2fa303ac77b44e4",
      "a838cfbf8a4a47fba863af8ab1e4cf48",
      "1720addbe66849b18d530cd1d41a0339",
      "1b5dce6433444b6691b52b8e1b1b5d73",
      "1cb407eb32db42d5843bc0cae7239f89",
      "a541cccd4d1b44278cec16257413c3a6",
      "77232f10b79842c487efef9fb9e645bd",
      "f4fbc4b2e95a4dbd9998fa3c724d83d0",
      "93d1d373a4234f0c8b15fb0b371acb50",
      "90696869a34d4e4db8a248d179099827",
      "75f0518d6ec046fe9278ebd476079464",
      "f4a7fe41bd944a5f9cc448a8ef18a8f1",
      "5d412ebca18c4ea9978398d6eee7e53e",
      "279dfa3dcb4c4bb6bf7323f528fffce5",
      "f81920e43cc44d3fbbb6dccdc4bb489d",
      "2bc33f661a744e0b94de9dc54ebe1393",
      "c162a333b6cb4fcc8ba9f30513c36886",
      "74bb5d6bd6d145eebf925d2a6bea8d3d",
      "5a066198616e4e6fb969a4586d81af8c",
      "a1f5f06f2c07470fbf14c238e91fd006",
      "5855563cd0104864bc0a667bb90387ff",
      "1b45e64ff6db4349a666766399df9db0",
      "e216507a669a48f4a797b64fa806f664",
      "70d575e798a44bdab42d36dbf357539c",
      "26fa6223c7764ff380c79dc5f8685df1",
      "2719233504d4442bb3dc4d188baf4f91",
      "fe7d66eabb01409cb75d958d5d22b40a",
      "dd92ebb0aa1f4c3692b288acae17e741",
      "e15fcf2d8b6d4aac93a77c857cd66f24",
      "dc8764853b8f4984ab684a52fd4ab90f",
      "51d92dbcef404da5819a8bbdb99ffdbe",
      "dd44545a820149ba92f22e1a0099c9ae",
      "511053f7448047c29dd85d8d6ea5be58",
      "3dd7cecdb20c4a549f705caea02a8343",
      "42f04ff9377e4a34a62788747a3e4103",
      "a1f2c625e817464db80b013a49bee1dd",
      "6e08bd1c8aeb400aba48734df251c7dd",
      "274151936a714e729983910246c2460b",
      "172d505efd9846638ff64fc0b3ff96ec",
      "50ffb070d3d14fb89399e8ec13ee8882",
      "e732aec622774463a7fece6ee0ea3348",
      "e5476dbc43d74c5db6ab25a610f99532",
      "b090592d57474a81877a68b8b6c80f97",
      "c7e6a573d5c1461f852d2f65c1b19d18",
      "65fcb5809ece40108127d28d0fc3967a",
      "89180cba78924443acaa0eedb1298503",
      "ea77c03894754a66869c8a72ab0c8d94",
      "608d0cf7d9ca452cacd002c95f22811d",
      "821899597b6f4300a7a50be1bd61c46a",
      "ce8c08ff46514501b911e547a9a4be30",
      "fd30aaaded1145a1931fc7497ab75f89",
      "5f7f1db6964f447a85b4e74f481c0b8a",
      "9532384e24e44386990576ff3ff6d83e",
      "c869603af5a14d6487a425ddd1eafec2",
      "cc61152eead9435aaae28eda9a148c79",
      "957c247838e44fd6a6d4cf66c9b9c9d1",
      "674afe1c1487457e9c4e47f3b083b547",
      "20db28687f7847199fb7d672d743069b",
      "162d7596b4804035841865f8bccb3b7c",
      "7d7fbfcacc1248eb95ef3275a78dd2f7",
      "30be26945a1c4ce8af794f415b2e3163",
      "81796e901d1a49099fb02a5fde228375",
      "97a087f00e0147e6b4f35b6e066bb43c",
      "f2f83676081b4a9995781881ebb17474",
      "0b0c965d627d4cd28c0bf08be43f772c",
      "a4b5424ca1464d7aa6f500fe105a133c",
      "1cec943b62ce4927be037d6de9a8e810",
      "87993624a586466f965ba8ec55723f0d",
      "f0fb8274141d40908c0f7bb288555742",
      "ae612f37fda94d40a36ef9a39fae54fb",
      "e7a5a642bc7249cb8d09918f60b7e7cf",
      "07edb9c79a494da2a548808fb396a140",
      "c0a75abc18d4483994e17c0dea9fc29d",
      "1d5a7a3a75d244c68d5fc94c75a00505",
      "eae99a28139d4d51b400f0e30fd6811d",
      "d69320309df94172a5b3200deaf7d435",
      "ed7666c280cb4d2e8454168d6208b8ab",
      "5d188ac2a76d4ab8af1545c82e0376dd",
      "e83449ad1eb44173ad0783c31c299719",
      "b66fac38a7a1441fb378e02f8cb83339",
      "0180736b65a4482595df7af7970aaa84",
      "400b429b73654faf9eefef137744812b",
      "d301edb0e47d4daaa3b85f1ee047ab5a",
      "8f6d232b363e4434a587f423116dd689",
      "1812b125192049489d4a9adb90cb377e",
      "e8335284fa544a8fb4effaee0d12b1ea",
      "a53f5f18919340e1b142855756aadf68",
      "14b6a644a2b444bc97cde18e772b7563",
      "0214e5d002c84a9c800775d8a03cf8f7",
      "dfb212ed550f41b2a43c3b8d6b3e904d",
      "85fc1a5a137e4943b4e564770c95f340",
      "797bbb5eca194bb6865b7cb3672c981b",
      "5e26a7975299476c8e547c5350ba7844",
      "abbffe8846a8455d84ff95d7642b6d1e",
      "f05526e89cff40d6a6009807ad615939",
      "e3103ffde753456293c8b78f9f34afdf",
      "2d2d4eca984948edbc71cc9d7dc64eea",
      "8858d1d079d24091afd9f98bf928582e",
      "c028706ff12d428f8d67dd94be814782",
      "2f99c2b324f946828080115884060e1d",
      "25a8fec74e0f45edab516b3a575923e8",
      "6fac0e372c7e47c398f940315ac35ca1",
      "bfb9dcd5be284f80bca6d41254c5829c",
      "1b73f8f60b214be0831f12a03fd4e270",
      "b8ffa2c5f48f495c98d7085294c7931a",
      "c18cf2b7089045b6b7d35ec0638013cd",
      "d67266e7aa554d4e83969db9b29df53a",
      "10a4bed4d4f7403db04fb3eba2df2159",
      "334e828321204ae1aae6fcd9e1fde7b7",
      "4082f047e79846d78e3bca636e5af0bd",
      "9b3743bd6e244ecb82aaf846da64c77c",
      "d5325b4ed63e40dca3238ded1ef29dca",
      "5bff37a35b244627a4812b363a164a1c",
      "a32d80d7432e4e73aa87692a767c728e",
      "4ec579bf7c65498fae72981fe19484f8",
      "16e9597da5ca45de9fcc99d937f37311",
      "afcd953c2c004838b315140ea6ff3cfe",
      "973485f2fa7044ce86c44be42ce4b6ad",
      "c81a45b5b3c14210bddfd01a3ebc6687",
      "ccf018a8069144c3aaae00b0b304e319",
      "fb7bd3b49deb424fb087603c16c3148a",
      "43203dffc3304e968a030aa1da124aa0",
      "a406512d88124c9f9845ac9dd78a3c49",
      "21d5d80983414828a9603816886801d8",
      "ee3fa87dbec64a6489fd4d3b7a293b82",
      "8c5ed08ed2be4166abfa4b220ffbe29a",
      "5a6594983f4944ac83f1e9dddd89fbaf",
      "98274c0c55ef489eb1b22d6b5aaf8e24",
      "6f982933be2346d1b02726e0a8c4ca09",
      "d08841f9ccdc4fceae1a54e6cd218737",
      "32912bb4ec574d0a98649d072b5ba740",
      "4aae1bdfd49b4cf88e0149e1e22fda21",
      "f5b2bd7eeffc42429da322d5aad19314",
      "9e37d49284a34b8e907b10e76a209643",
      "d4f68360f772448cae0fd0e504adf280",
      "7ed495861f424931b728781b7d7b9c88",
      "d1c4815063614fd0a57844387e6d25b4",
      "439f3f00c58647738d25000a17f8be78",
      "f12f701fbdf14fea8af9ccae5bcd062a",
      "6572f0cc946843af97a36464874591d2",
      "b33798f4f78048a3b5340849794e0a3c",
      "eab954d9fd36447ba370fc14c03bfa94",
      "9474937baa374634b102307009f51875",
      "26eeca364d584edcb6500849357b32ab",
      "45b3410dcc8c42d49dfe96962920b6b8",
      "72826ae9dd2640139312747fc0b18aa7",
      "549984ace65245ad89476903fc17371d",
      "521a672c3b0b4282b4f7196fc7b761ba",
      "2e870a88b2544f24b7d210a96beae256",
      "d1bfbcad67134edb92f56aba597f5290",
      "3d05cb1035a74655aaa76edce0da8553",
      "a364dfec0238445786827449e04dc4b1",
      "aafd8c7580e6426fab645b08f4a7dc5f",
      "185f0a62046d47f8b2d5bd4dd730c231",
      "15f3415c9b124ecfaa59346007560f63",
      "0c534a2e9dfd4d52bd750f7012c8caa0",
      "0238ed97cdf342d4884627b10ba6c92f",
      "694714504d2b4541be2d731839e3b4b3",
      "e38b9af2d5bf46ebad03e296098acf65",
      "4e3256e6412842af92b8db2fbb8011f0",
      "a60cb281159d47c7b2c60884d399cdf4",
      "158fdbee617d419081528dfc0749a6d9",
      "91f614f47c8c4c3188d1822a9584c2b6",
      "bc4a9479cd704da288b4f4193c476b5e",
      "3f00bf2a8bc34f758b47dc637ad5b3c6",
      "31e853ea557d48268b854e6a34dc817d",
      "c016fd5281e34dcfb2fe8e3c93b40154",
      "d6f3d2ed80824c7ea8092e93621e6838",
      "7c38847f60d247c9884e01e8df515a38",
      "bdae458d6ee3465d9cedd0f42c4e8813",
      "27571242c95f4adbbcdfe8730f8e6118",
      "8b90705d6250426e9877fce858460caa",
      "ea12432e2b6a4632831a3b7a58608929",
      "b83a2d12729b42e48c806f342f090308",
      "fde32c05b74c461288281b6872639023",
      "38b6b0e9eae44c2f99100a5afc51a6bd",
      "96d23b9f83c143d6902f356dcbf06f29",
      "a4ef7f1506d64c25b4cddaff32e527af",
      "f9f912698f214a52928e49c89125c961",
      "a34430648b4e42f9b6cb190f1eb831ed",
      "31ef6e4cb51e4bf8bd767a009ef9c5d8",
      "914c2e3eafbe41ea81cd831e2ac5a368",
      "aa7c39caa2f34d26923439859c0c267b",
      "f8026055afa44b4bbd6257b45c258c6a",
      "c6d1a23418bf4dacae02bdd5c5152524",
      "e98c9344b223498d8952a34701bf40dc",
      "d3d88320a3c74bc890c59f5bf889277e",
      "74ef7c3ff1424e709cc839ef21303553",
      "f380b09364184fbaa894a465beab9f27",
      "0a56c964a30040f3b4a22c705367d040",
      "3d0b02ca4fd24c71b3e3694c19c56e63",
      "86d5c358668842d7adfbc214fae8e46c",
      "5a51314cf847476b955ef035219ea12b",
      "828a3c7545214b34bff163d24a73c23e",
      "933afab8989e47fa803d2f3566725111",
      "a30c2e5f002c47ef930421e49326b116",
      "cf341bda50454788ab2b720b49c6802b",
      "d165f1f3378242929f31634b2b9ca7dc",
      "3175e47106374600956c10cdc6ffc878",
      "318ed594c31944688fdf84a174c56c89",
      "c6914cdc441747f09936342306858a15",
      "77cbb112a35f46f7b1cefa9fdbbfbf4c",
      "91860ca4b25d496a911c1c4ca29b8b55",
      "f05cdd22099a49cd93bf9a8c06a0a393",
      "80bc80e8ce284463850386bbb35ebd45",
      "e86960ab66a14316ac9459edc9aabd02",
      "111471af5e3449ca9ac090a72a7879dd",
      "f646e312642a4ed485d73f9c9baae75d",
      "56582e6f4da040c08872d9accd789642",
      "d915cc32ddf94a4290a2c6560e065915",
      "a3bc732b2a16425c99d4c0e24d8c147a",
      "18d89803a0d048d597604528667599dd",
      "3f96c3ceda0c48e0a3671063f9f7abe1",
      "329ee441717f4e63a7e232f71d30f6d2",
      "99c0ead648cf45afb78f0b1ef2b2e489",
      "7daafbfab236481aaa2d8520550cb24a",
      "d0a2f917f69448da972a263d0076c465",
      "d05963de47c34c638f3dd8f4fe0aa88d",
      "b0e71caf2f0443d3a99a09bf383c6eec",
      "d636f7a589c443c68c138eb4c9609697",
      "84f8d7ee184448c0b979bc27fcc3429c",
      "8259854d405842bf8f102a110b4f7e19",
      "b8afe50fbbbc4cefab64184bbbf63a34",
      "06a18baca8cd434d976d87c08a5239a5",
      "92dc35e2d0ae4dce85d8aef0ad064010",
      "8405dfbb6da640b88c32d9fed771e561",
      "80a9506598b44f3ca3a568f6135e57c2",
      "383bd76351d24c77a4f88404dd2f3a5f",
      "806a074b36b7431dbad6e999d3d85551",
      "fdc27807559c4366b9831e4b038053b4",
      "73761e6cbe0a43d887f29cd9642d19f0",
      "f62a8649392b43d5a5bcc57e8ea197b4",
      "cde2af328ad64c2dbf16ee0753dd54ee",
      "933058c7457a43e29d5e25b6b85e859a",
      "43e494a75f6d45589960fec9c30682d3",
      "331ce6fd35144c9ca7f4a4f7704808d2",
      "52d10d22981f4ce7a43ea6f18b5d8cff",
      "fc4cac6e45fd4e6d89ed142caca8188f",
      "e7db1dd3d68444e6a4ca9f834e4dfe4a",
      "46008cb606294a5e8e1b0b41ab439f13",
      "3761e496876b4460bf2dee24d9f14548",
      "70938ed7bcf94b11af1a3096a73f1026",
      "28703fadf2c043bca9faf027c28a25d6",
      "c5fa95e3c7044fa293af0b4f4d07b59f",
      "59b1345fa99c446a81531e28814ba1e3",
      "991e7a020e1d45bcbb26e2f20be132f1",
      "e356b3a442f644c3af67ddd867422c15",
      "d91cfdd26ad64411ab67b74e91d452f0",
      "bde3f7030d3045e8aa556645d153ace5",
      "9cc9a3b9ef13492e969374f3c145adb1",
      "3567de5640854d55b09578a82963591b",
      "58dd2fd96c484f40ac87ed166d8efcd4",
      "eeed9399bc174df5b7108cea21eab9d7",
      "0ebf7ab765d94c39bd7ef0183955ca6c",
      "b4eeea72232a4f4bacaa67827229d3f3",
      "ec96e3d0a6c1413989f7a2a601b7782a",
      "73e28af4f37d4afe955ed0cd510b0b05",
      "88d08d918e474ff3a0d7792d95431a1c",
      "3a0b826e4e174fe885e72df037a57e9f",
      "a2026331ba0c4fca941a2c998af2e85f",
      "03df167438604751814b98f17982ce42",
      "1bba177a83f64ab2a6891f6254e24ea3",
      "48a81fa76af34e5f9d2ba9019743b2f7",
      "e98d1c34166845368d0e5693e9cf47a9",
      "bbe95a40139444aabf54d3e377df6bc8",
      "7ab5bebf50344d27a100f5fa3003b147",
      "00d252e94e0c4c1f98cd1dbdb47ecfe3",
      "3d5646266b0d4039917fae8dd78e8b72",
      "feacf863ec7e486db885d42bb0ce23b9",
      "853c4992c861449083c2fc130d473a0f",
      "734e90b610ca433091dd0fba90e44d4b",
      "551f7c75185d473aa3e72f1e31429d07",
      "4900bcb88a774573af62ee00b69f6ee2",
      "71659b0b15d7474c866b629cf46edc29",
      "57c7be11f581420a873e9558e3cb12b4",
      "d858ef2361f143f7b303e20d4942836b",
      "575538483e8141d79eae9664902e05e2",
      "9f2543101f4347cf8a90b9b2733bd314",
      "128b1e2d38984e7685f7f5aef2111380",
      "b0637471b9984426a271bb2d34cbb356",
      "889e0d43d61849f5a2642fcc3d600a3f",
      "44c46c4b9fcd4903958fa112c6268ef8",
      "d0e3de15e80f47de8ac11e1e61c09eed",
      "667661f7f4054611a9bba61a00cf79c7",
      "a1330cbe7c0845678ab8e7fefec79755",
      "a4c0cc9a02034326bb28c18c35d8a39c",
      "3ea90acfc0114dbcab836d3a8b2a7e07",
      "ada8cf91fae0438dab1c160779bbd8b9",
      "9c8d64a452d04020bfdfd8923502cdf0",
      "a58bb36eb4af4d0aae2c06fce0a51384",
      "8c12c6e7126648b7b5cfceb06549ced0",
      "0cd9e53a06d54a9a89cea27aad862de0",
      "c89897f2afa44cf582c6272b052772ba",
      "2f67b390baba458fa2cf3285e13b7f44",
      "63727d8e4ddb4d638bf13eef9caa1bf5",
      "fbdad543cc4f47a583286c859cf9fe3e",
      "97d49cc2de2a474a8c77736ce651d5f7",
      "432a8de0f80540c489d6153fe764d317",
      "a78e1165bd49484289d421fe628f8831",
      "003b55e6043f49ceb5c0b92facec8582",
      "2a13fa9cc960440083b403c95e549b10",
      "c098e14075954e35a938c33d842ee35c",
      "e1a3d767de75462f914b8796f7018b8d",
      "e14519122c254f61b493f042b3a24f64",
      "27dd06f4764f42eb8991209251ccbafb",
      "f5333185b86f435e964361f57d55ca28",
      "5730fdce19824c28b9a089af3ef21894",
      "557e933824a745308754bd4beaefd17e",
      "8090654bf35f4581b721a13e726e2fd0",
      "16a51d0074c5452182f7807e5eb699c2",
      "cac23b76285c4a0097d72d1841a87fa7",
      "c53a2c41cc124d128e46ea1cc0a80c32",
      "33de689867de4b32b1a2481a2f60761c",
      "7b4479cd8ca7432fa5c45d4271fea70a",
      "8d0c9cfb76c64e5a8d5f7eaaa5b904bf",
      "ef30058d68334a89a4b7494ba07d3ea4",
      "b69c9d00410b418693697922e715755c",
      "ac7ce980bbdf4a39893dd8f695f672cb",
      "4f34dd61741949cf852c27e3cade202f",
      "51673fda5a234882abd464f24db5d5d4",
      "fc7f2e9d1b564de08e4393ef79fce279",
      "16c05196cec14297b1b08184e48a2608",
      "37b831a359d74cce9fad0d253176f09a",
      "7e46ab3dea7d46079875fe2d10afe708",
      "c151225b915e47d08d7196e587a9a07d",
      "10ead029f2584f34a2e4bd822eaaf780",
      "fd8d95707b4c4bf39ba826a0913f22a2",
      "53cf75189fde4fea8c3f584f8825bff8",
      "109c8a11db164bb89e5828fa6b03d7f8",
      "3a9c845b72ac4ddc9c2cd3aee6ca6fbd",
      "81728682a7d24544b062877c92a1e76d",
      "eacf905a37d741388b23b357ff5ab820",
      "a34ffc25863a4e7e807daf8f3665f542",
      "ad62cf91529b4b99b5dac569e9c84e7b",
      "6f23f06a33b544859dd3a973adbe53e5",
      "22254ec8e7fb41048b03a301d92e53de",
      "fa23ad636c4344839cfa93aa9bd6985e",
      "7da846d219d742d48dddfea83994f134",
      "fef8f1f98c6540e8bced9103062d65d9",
      "5ae8b4ddc744467793f1ae8db68f0fef",
      "dbdf2f66340542b0845d574c8bc63ab1",
      "b5b52aaf976c4110aec69a6890065b06",
      "15ffcbf6c6bd41daaa683513c55d906b",
      "fe45bd6725094b2796ed4a970fc044cb",
      "836f8318e0204f63bb8438bf1e8cbc79",
      "de0da33d4a25484ba89dc09652c28583",
      "5883e6c020ae4127934ee3941f0e1452",
      "0ede0bdc8f53472fbb6e6b6af0dd5929",
      "9043d533df604b7d84a9dc57f1b01a31",
      "ccb8488741134f9387e4c7b63d0f2a91",
      "d0d042fd75e14f0787c31b4a0118dd11"
     ]
    },
    "id": "nn32XaN0KK6R",
    "outputId": "b623f58e-56d5-4adc-989d-ba665f9a970b"
   },
   "outputs": [
    {
     "data": {
      "application/vnd.jupyter.widget-view+json": {
       "model_id": "61c63b73bb6c4a47afebc2f4b21a1fea",
       "version_major": 2,
       "version_minor": 0
      },
      "text/plain": [
       "tokenizer_config.json: 0.00B [00:00, ?B/s]"
      ]
     },
     "metadata": {},
     "output_type": "display_data"
    },
    {
     "data": {
      "application/vnd.jupyter.widget-view+json": {
       "model_id": "1fed1b55942b460fa7a80f01d07cf8c6",
       "version_major": 2,
       "version_minor": 0
      },
      "text/plain": [
       "tokenizer.json:   0%|          | 0.00/27.9M [00:00<?, ?B/s]"
      ]
     },
     "metadata": {},
     "output_type": "display_data"
    },
    {
     "data": {
      "application/vnd.jupyter.widget-view+json": {
       "model_id": "e99f92fbaaf04ea4ab09feb51bd9a647",
       "version_major": 2,
       "version_minor": 0
      },
      "text/plain": [
       "special_tokens_map.json:   0%|          | 0.00/98.0 [00:00<?, ?B/s]"
      ]
     },
     "metadata": {},
     "output_type": "display_data"
    },
    {
     "data": {
      "application/vnd.jupyter.widget-view+json": {
       "model_id": "8e9d409d922146b49910b0281d4f71ec",
       "version_major": 2,
       "version_minor": 0
      },
      "text/plain": [
       "chat_template.jinja: 0.00B [00:00, ?B/s]"
      ]
     },
     "metadata": {},
     "output_type": "display_data"
    },
    {
     "data": {
      "application/vnd.jupyter.widget-view+json": {
       "model_id": "05504bd989844d92b69734c1ef7e3360",
       "version_major": 2,
       "version_minor": 0
      },
      "text/plain": [
       "config.json: 0.00B [00:00, ?B/s]"
      ]
     },
     "metadata": {},
     "output_type": "display_data"
    },
    {
     "data": {
      "application/vnd.jupyter.widget-view+json": {
       "model_id": "f4ccdbee5cbd488193ce9350a048852d",
       "version_major": 2,
       "version_minor": 0
      },
      "text/plain": [
       "model.safetensors.index.json: 0.00B [00:00, ?B/s]"
      ]
     },
     "metadata": {},
     "output_type": "display_data"
    },
    {
     "data": {
      "application/vnd.jupyter.widget-view+json": {
       "model_id": "7b7fe904b95b475b95de049974c5c2f6",
       "version_major": 2,
       "version_minor": 0
      },
      "text/plain": [
       "Fetching 3 files:   0%|          | 0/3 [00:00<?, ?it/s]"
      ]
     },
     "metadata": {},
     "output_type": "display_data"
    },
    {
     "data": {
      "application/vnd.jupyter.widget-view+json": {
       "model_id": "2b50c7669c04415d8603549a8dc3bf32",
       "version_major": 2,
       "version_minor": 0
      },
      "text/plain": [
       "model-00001-of-00002.safetensors:   0%|          | 0.00/4.80G [00:00<?, ?B/s]"
      ]
     },
     "metadata": {},
     "output_type": "display_data"
    },
    {
     "data": {
      "application/vnd.jupyter.widget-view+json": {
       "model_id": "27e95644d20341c39edfc3df55c55c0f",
       "version_major": 2,
       "version_minor": 0
      },
      "text/plain": [
       "model-00000-of-00002.safetensors:   0%|          | 0.00/4.79G [00:00<?, ?B/s]"
      ]
     },
     "metadata": {},
     "output_type": "display_data"
    },
    {
     "data": {
      "application/vnd.jupyter.widget-view+json": {
       "model_id": "855f839add444321a9d51575c86172b3",
       "version_major": 2,
       "version_minor": 0
      },
      "text/plain": [
       "model-00002-of-00002.safetensors:   0%|          | 0.00/4.17G [00:00<?, ?B/s]"
      ]
     },
     "metadata": {},
     "output_type": "display_data"
    },
    {
     "data": {
      "application/vnd.jupyter.widget-view+json": {
       "model_id": "e3eca69dbbf04eca858b3d5c8b73d657",
       "version_major": 2,
       "version_minor": 0
      },
      "text/plain": [
       "Fetching 40 files:   0%|          | 0/40 [00:00<?, ?it/s]"
      ]
     },
     "metadata": {},
     "output_type": "display_data"
    },
    {
     "data": {
      "application/vnd.jupyter.widget-view+json": {
       "model_id": "f501020c8bf644bcab56d088061c5a0d",
       "version_major": 2,
       "version_minor": 0
      },
      "text/plain": [
       "__init__.py:   0%|          | 0.00/179 [00:00<?, ?B/s]"
      ]
     },
     "metadata": {},
     "output_type": "display_data"
    },
    {
     "data": {
      "application/vnd.jupyter.widget-view+json": {
       "model_id": "023033a2b9ae4314b965895a97f2cb27",
       "version_major": 2,
       "version_minor": 0
      },
      "text/plain": [
       "_ops.py:   0%|          | 0.00/201 [00:00<?, ?B/s]"
      ]
     },
     "metadata": {},
     "output_type": "display_data"
    },
    {
     "data": {
      "application/vnd.jupyter.widget-view+json": {
       "model_id": "40f3f9186eb246fe93b18cfd7c58a781",
       "version_major": 2,
       "version_minor": 0
      },
      "text/plain": [
       "matmul_ogs.py: 0.00B [00:00, ?B/s]"
      ]
     },
     "metadata": {},
     "output_type": "display_data"
    },
    {
     "data": {
      "application/vnd.jupyter.widget-view+json": {
       "model_id": "379133e21ab549b4a2c685af4ade9516",
       "version_major": 2,
       "version_minor": 0
      },
      "text/plain": [
       "_masked_compaction.py:   0%|          | 0.00/814 [00:00<?, ?B/s]"
      ]
     },
     "metadata": {},
     "output_type": "display_data"
    },
    {
     "data": {
      "application/vnd.jupyter.widget-view+json": {
       "model_id": "609f2e39bb2e45a79220c36aeae4af4f",
       "version_major": 2,
       "version_minor": 0
      },
      "text/plain": [
       "_common.py: 0.00B [00:00, ?B/s]"
      ]
     },
     "metadata": {},
     "output_type": "display_data"
    },
    {
     "data": {
      "application/vnd.jupyter.widget-view+json": {
       "model_id": "f9181e2cd5684bcb8247fa11596c0ddb",
       "version_major": 2,
       "version_minor": 0
      },
      "text/plain": [
       "_finalize_matmul.py: 0.00B [00:00, ?B/s]"
      ]
     },
     "metadata": {},
     "output_type": "display_data"
    },
    {
     "data": {
      "application/vnd.jupyter.widget-view+json": {
       "model_id": "75c52cb56a394dae90bcc3dfdd3f56e6",
       "version_major": 2,
       "version_minor": 0
      },
      "text/plain": [
       "__init__.cpython-312.pyc:   0%|          | 0.00/220 [00:00<?, ?B/s]"
      ]
     },
     "metadata": {},
     "output_type": "display_data"
    },
    {
     "data": {
      "application/vnd.jupyter.widget-view+json": {
       "model_id": "c3da0ff03a484fcf9920e9db01c68f85",
       "version_major": 2,
       "version_minor": 0
      },
      "text/plain": [
       "compaction.py: 0.00B [00:00, ?B/s]"
      ]
     },
     "metadata": {},
     "output_type": "display_data"
    },
    {
     "data": {
      "application/vnd.jupyter.widget-view+json": {
       "model_id": "a6bcedd2171d4be580e2a9b579c753e0",
       "version_major": 2,
       "version_minor": 0
      },
      "text/plain": [
       "_p_matmul_ogs.py: 0.00B [00:00, ?B/s]"
      ]
     },
     "metadata": {},
     "output_type": "display_data"
    },
    {
     "data": {
      "application/vnd.jupyter.widget-view+json": {
       "model_id": "75f0518d6ec046fe9278ebd476079464",
       "version_major": 2,
       "version_minor": 0
      },
      "text/plain": [
       "_matmul_ogs.py: 0.00B [00:00, ?B/s]"
      ]
     },
     "metadata": {},
     "output_type": "display_data"
    },
    {
     "data": {
      "application/vnd.jupyter.widget-view+json": {
       "model_id": "1b45e64ff6db4349a666766399df9db0",
       "version_major": 2,
       "version_minor": 0
      },
      "text/plain": [
       "flexpoint.py: 0.00B [00:00, ?B/s]"
      ]
     },
     "metadata": {},
     "output_type": "display_data"
    },
    {
     "data": {
      "application/vnd.jupyter.widget-view+json": {
       "model_id": "511053f7448047c29dd85d8d6ea5be58",
       "version_major": 2,
       "version_minor": 0
      },
      "text/plain": [
       "numerics.py: 0.00B [00:00, ?B/s]"
      ]
     },
     "metadata": {},
     "output_type": "display_data"
    },
    {
     "data": {
      "application/vnd.jupyter.widget-view+json": {
       "model_id": "c7e6a573d5c1461f852d2f65c1b19d18",
       "version_major": 2,
       "version_minor": 0
      },
      "text/plain": [
       "opt_flags.py: 0.00B [00:00, ?B/s]"
      ]
     },
     "metadata": {},
     "output_type": "display_data"
    },
    {
     "data": {
      "application/vnd.jupyter.widget-view+json": {
       "model_id": "cc61152eead9435aaae28eda9a148c79",
       "version_major": 2,
       "version_minor": 0
      },
      "text/plain": [
       "opt_flags_amd.py: 0.00B [00:00, ?B/s]"
      ]
     },
     "metadata": {},
     "output_type": "display_data"
    },
    {
     "data": {
      "application/vnd.jupyter.widget-view+json": {
       "model_id": "a4b5424ca1464d7aa6f500fe105a133c",
       "version_major": 2,
       "version_minor": 0
      },
      "text/plain": [
       "opt_flags_nvidia.py: 0.00B [00:00, ?B/s]"
      ]
     },
     "metadata": {},
     "output_type": "display_data"
    },
    {
     "data": {
      "application/vnd.jupyter.widget-view+json": {
       "model_id": "ed7666c280cb4d2e8454168d6208b8ab",
       "version_major": 2,
       "version_minor": 0
      },
      "text/plain": [
       "mxfp.py: 0.00B [00:00, ?B/s]"
      ]
     },
     "metadata": {},
     "output_type": "display_data"
    },
    {
     "data": {
      "application/vnd.jupyter.widget-view+json": {
       "model_id": "14b6a644a2b444bc97cde18e772b7563",
       "version_major": 2,
       "version_minor": 0
      },
      "text/plain": [
       "_upcast_from_mxfp.py: 0.00B [00:00, ?B/s]"
      ]
     },
     "metadata": {},
     "output_type": "display_data"
    },
    {
     "data": {
      "application/vnd.jupyter.widget-view+json": {
       "model_id": "c028706ff12d428f8d67dd94be814782",
       "version_major": 2,
       "version_minor": 0
      },
      "text/plain": [
       "_downcast_to_mxfp.py: 0.00B [00:00, ?B/s]"
      ]
     },
     "metadata": {},
     "output_type": "display_data"
    },
    {
     "data": {
      "application/vnd.jupyter.widget-view+json": {
       "model_id": "4082f047e79846d78e3bca636e5af0bd",
       "version_major": 2,
       "version_minor": 0
      },
      "text/plain": [
       "reduce_bitmatrix.py: 0.00B [00:00, ?B/s]"
      ]
     },
     "metadata": {},
     "output_type": "display_data"
    },
    {
     "data": {
      "application/vnd.jupyter.widget-view+json": {
       "model_id": "fb7bd3b49deb424fb087603c16c3148a",
       "version_major": 2,
       "version_minor": 0
      },
      "text/plain": [
       "proton_opts.py:   0%|          | 0.00/456 [00:00<?, ?B/s]"
      ]
     },
     "metadata": {},
     "output_type": "display_data"
    },
    {
     "data": {
      "application/vnd.jupyter.widget-view+json": {
       "model_id": "4aae1bdfd49b4cf88e0149e1e22fda21",
       "version_major": 2,
       "version_minor": 0
      },
      "text/plain": [
       "_expt_data.py: 0.00B [00:00, ?B/s]"
      ]
     },
     "metadata": {},
     "output_type": "display_data"
    },
    {
     "data": {
      "application/vnd.jupyter.widget-view+json": {
       "model_id": "9474937baa374634b102307009f51875",
       "version_major": 2,
       "version_minor": 0
      },
      "text/plain": [
       "routing.py: 0.00B [00:00, ?B/s]"
      ]
     },
     "metadata": {},
     "output_type": "display_data"
    },
    {
     "data": {
      "application/vnd.jupyter.widget-view+json": {
       "model_id": "185f0a62046d47f8b2d5bd4dd730c231",
       "version_major": 2,
       "version_minor": 0
      },
      "text/plain": [
       "_routing_compute.py: 0.00B [00:00, ?B/s]"
      ]
     },
     "metadata": {},
     "output_type": "display_data"
    },
    {
     "data": {
      "application/vnd.jupyter.widget-view+json": {
       "model_id": "3f00bf2a8bc34f758b47dc637ad5b3c6",
       "version_major": 2,
       "version_minor": 0
      },
      "text/plain": [
       "specialize.py: 0.00B [00:00, ?B/s]"
      ]
     },
     "metadata": {},
     "output_type": "display_data"
    },
    {
     "data": {
      "application/vnd.jupyter.widget-view+json": {
       "model_id": "38b6b0e9eae44c2f99100a5afc51a6bd",
       "version_major": 2,
       "version_minor": 0
      },
      "text/plain": [
       "swiglu.py: 0.00B [00:00, ?B/s]"
      ]
     },
     "metadata": {},
     "output_type": "display_data"
    },
    {
     "data": {
      "application/vnd.jupyter.widget-view+json": {
       "model_id": "d3d88320a3c74bc890c59f5bf889277e",
       "version_major": 2,
       "version_minor": 0
      },
      "text/plain": [
       "_swiglu.py: 0.00B [00:00, ?B/s]"
      ]
     },
     "metadata": {},
     "output_type": "display_data"
    },
    {
     "data": {
      "application/vnd.jupyter.widget-view+json": {
       "model_id": "d165f1f3378242929f31634b2b9ca7dc",
       "version_major": 2,
       "version_minor": 0
      },
      "text/plain": [
       "target_info.py: 0.00B [00:00, ?B/s]"
      ]
     },
     "metadata": {},
     "output_type": "display_data"
    },
    {
     "data": {
      "application/vnd.jupyter.widget-view+json": {
       "model_id": "56582e6f4da040c08872d9accd789642",
       "version_major": 2,
       "version_minor": 0
      },
      "text/plain": [
       "tensor.py: 0.00B [00:00, ?B/s]"
      ]
     },
     "metadata": {},
     "output_type": "display_data"
    },
    {
     "data": {
      "application/vnd.jupyter.widget-view+json": {
       "model_id": "d636f7a589c443c68c138eb4c9609697",
       "version_major": 2,
       "version_minor": 0
      },
      "text/plain": [
       "layout.py: 0.00B [00:00, ?B/s]"
      ]
     },
     "metadata": {},
     "output_type": "display_data"
    },
    {
     "data": {
      "application/vnd.jupyter.widget-view+json": {
       "model_id": "73761e6cbe0a43d887f29cd9642d19f0",
       "version_major": 2,
       "version_minor": 0
      },
      "text/plain": [
       "blackwell_scale.py: 0.00B [00:00, ?B/s]"
      ]
     },
     "metadata": {},
     "output_type": "display_data"
    },
    {
     "data": {
      "application/vnd.jupyter.widget-view+json": {
       "model_id": "70938ed7bcf94b11af1a3096a73f1026",
       "version_major": 2,
       "version_minor": 0
      },
      "text/plain": [
       "base.py:   0%|          | 0.00/352 [00:00<?, ?B/s]"
      ]
     },
     "metadata": {},
     "output_type": "display_data"
    },
    {
     "data": {
      "application/vnd.jupyter.widget-view+json": {
       "model_id": "eeed9399bc174df5b7108cea21eab9d7",
       "version_major": 2,
       "version_minor": 0
      },
      "text/plain": [
       "hopper_scale.py: 0.00B [00:00, ?B/s]"
      ]
     },
     "metadata": {},
     "output_type": "display_data"
    },
    {
     "data": {
      "application/vnd.jupyter.widget-view+json": {
       "model_id": "e98d1c34166845368d0e5693e9cf47a9",
       "version_major": 2,
       "version_minor": 0
      },
      "text/plain": [
       "hopper_value.py: 0.00B [00:00, ?B/s]"
      ]
     },
     "metadata": {},
     "output_type": "display_data"
    },
    {
     "data": {
      "application/vnd.jupyter.widget-view+json": {
       "model_id": "57c7be11f581420a873e9558e3cb12b4",
       "version_major": 2,
       "version_minor": 0
      },
      "text/plain": [
       "strided.py:   0%|          | 0.00/337 [00:00<?, ?B/s]"
      ]
     },
     "metadata": {},
     "output_type": "display_data"
    },
    {
     "data": {
      "application/vnd.jupyter.widget-view+json": {
       "model_id": "a4c0cc9a02034326bb28c18c35d8a39c",
       "version_major": 2,
       "version_minor": 0
      },
      "text/plain": [
       "topk.py: 0.00B [00:00, ?B/s]"
      ]
     },
     "metadata": {},
     "output_type": "display_data"
    },
    {
     "data": {
      "application/vnd.jupyter.widget-view+json": {
       "model_id": "97d49cc2de2a474a8c77736ce651d5f7",
       "version_major": 2,
       "version_minor": 0
      },
      "text/plain": [
       "testing.py: 0.00B [00:00, ?B/s]"
      ]
     },
     "metadata": {},
     "output_type": "display_data"
    },
    {
     "data": {
      "application/vnd.jupyter.widget-view+json": {
       "model_id": "557e933824a745308754bd4beaefd17e",
       "version_major": 2,
       "version_minor": 0
      },
      "text/plain": [
       "_topk_backward.py: 0.00B [00:00, ?B/s]"
      ]
     },
     "metadata": {},
     "output_type": "display_data"
    },
    {
     "data": {
      "application/vnd.jupyter.widget-view+json": {
       "model_id": "4f34dd61741949cf852c27e3cade202f",
       "version_major": 2,
       "version_minor": 0
      },
      "text/plain": [
       "_topk_forward.py: 0.00B [00:00, ?B/s]"
      ]
     },
     "metadata": {},
     "output_type": "display_data"
    },
    {
     "data": {
      "application/vnd.jupyter.widget-view+json": {
       "model_id": "3a9c845b72ac4ddc9c2cd3aee6ca6fbd",
       "version_major": 2,
       "version_minor": 0
      },
      "text/plain": [
       "Loading checkpoint shards:   0%|          | 0/3 [00:00<?, ?it/s]"
      ]
     },
     "metadata": {},
     "output_type": "display_data"
    },
    {
     "data": {
      "application/vnd.jupyter.widget-view+json": {
       "model_id": "dbdf2f66340542b0845d574c8bc63ab1",
       "version_major": 2,
       "version_minor": 0
      },
      "text/plain": [
       "generation_config.json:   0%|          | 0.00/165 [00:00<?, ?B/s]"
      ]
     },
     "metadata": {},
     "output_type": "display_data"
    }
   ],
   "source": [
    "tokenizer, model = setup_free_openai()"
   ]
  },
  {
   "cell_type": "markdown",
   "metadata": {
    "id": "YBM5b--TFjjw"
   },
   "source": [
    "## App\n",
    "- to run fullscreen click on the link below (after * Running on public URL:)\n",
    "- you can also share this link with others; it will work as long as your notebook is running"
   ]
  },
  {
   "cell_type": "code",
   "execution_count": 9,
   "metadata": {
    "colab": {
     "base_uri": "https://localhost:8080/",
     "height": 610
    },
    "id": "DyteFfbnKCSw",
    "outputId": "a5afd432-3f65-4020-a599-818e51cbd0ae"
   },
   "outputs": [
    {
     "name": "stdout",
     "output_type": "stream",
     "text": [
      "Colab notebook detected. To show errors in colab notebook, set debug=True in launch()\n",
      "* Running on public URL: https://ea62e56e0fd7324b20.gradio.live\n",
      "\n",
      "This share link expires in 1 week. For free permanent hosting and GPU upgrades, run `gradio deploy` from the terminal in the working directory to deploy to Hugging Face Spaces (https://huggingface.co/spaces)\n"
     ]
    },
    {
     "data": {
      "text/html": [
       "<div><iframe src=\"https://ea62e56e0fd7324b20.gradio.live\" width=\"100%\" height=\"500\" allow=\"autoplay; camera; microphone; clipboard-read; clipboard-write;\" frameborder=\"0\" allowfullscreen></iframe></div>"
      ],
      "text/plain": [
       "<IPython.core.display.HTML object>"
      ]
     },
     "metadata": {},
     "output_type": "display_data"
    }
   ],
   "source": [
    "chatbot()"
   ]
  },
  {
   "cell_type": "code",
   "execution_count": null,
   "metadata": {
    "id": "BFDVnTg6dbVb"
   },
   "outputs": [],
   "source": []
  }
 ],
 "metadata": {
  "accelerator": "GPU",
  "colab": {
   "collapsed_sections": [
    "Wod7m66QpLlG",
    "f1JLPO4yrI9c"
   ],
   "gpuType": "T4",
   "machine_shape": "hm",
   "provenance": []
  },
  "kernelspec": {
   "display_name": "Python 3",
   "language": "python",
   "name": "python3"
  },
  "language_info": {
   "codemirror_mode": {
    "name": "ipython",
    "version": 3
   },
   "file_extension": ".py",
   "mimetype": "text/x-python",
   "name": "python",
   "nbconvert_exporter": "python",
   "pygments_lexer": "ipython3",
   "version": "3.8.8"
  }
 },
 "nbformat": 4,
 "nbformat_minor": 1
}
