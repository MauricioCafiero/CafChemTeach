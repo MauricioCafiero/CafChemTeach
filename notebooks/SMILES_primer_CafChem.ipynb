{
 "cells": [
  {
   "cell_type": "markdown",
   "metadata": {
    "id": "8NXyfZTwHJ4N"
   },
   "source": [
    "#CafChem Teaching - SMILES primer.\n",
    "\n",
    "[![Open In Colab](https://colab.research.google.com/assets/colab-badge.svg)](https://colab.research.google.com/github/MauricioCafiero/CafChemTeach/blob/main/notebooks/SMILES_primer_CafChem.ipynb)\n",
    "\n",
    "## This notebook allows you to:\n",
    "- See how SMILES represent molecules\n",
    "- Try your own variations\n",
    "\n",
    "## Requirements:\n",
    "- CPU runtime\n",
    "- needs RDKit installed if on Colab"
   ]
  },
  {
   "cell_type": "markdown",
   "metadata": {
    "id": "e0I5lRlqHd8C"
   },
   "source": [
    "### Only install on Colab"
   ]
  },
  {
   "cell_type": "code",
   "execution_count": null,
   "metadata": {
    "id": "JNGqowUJbyb3"
   },
   "outputs": [],
   "source": [
    "!pip install rdkit"
   ]
  },
  {
   "cell_type": "markdown",
   "metadata": {
    "id": "q2ioyn6tHg27"
   },
   "source": [
    "### Import libraries"
   ]
  },
  {
   "cell_type": "code",
   "execution_count": null,
   "metadata": {
    "id": "xvcja8Dpb0Qk"
   },
   "outputs": [],
   "source": [
    "import rdkit\n",
    "from rdkit import Chem\n",
    "from rdkit.Chem import Draw"
   ]
  },
  {
   "cell_type": "markdown",
   "metadata": {
    "id": "eA-LQnQPWUUl"
   },
   "source": [
    "## Basic SMILES rules\n",
    "- Hydrogens implied unless explicitly defined (see below)\n",
    "- Non-unique, but there are Canonical SMILES rules\n",
    "\n",
    "## Basic SMILES characters\n",
    "\n",
    "| Character | meaning |\n",
    "| ---: | --- |\n",
    "| **Atomic Symbol** | atom |\n",
    "| C | regular carbon |\n",
    "| c | aromatic carbon |\n",
    "| N | nitrogen |\n",
    "| **+ or -** | charge |\n",
    "| **=** | double bond |\n",
    "| **#** | triple bond |\n",
    "| **stereochemistry** | |\n",
    "| [C@@H] | clockwise stereochemistry |\n",
    "| [C@H] | counterclockwise stereochemistry |\n",
    "| F/C=C/F | *trans*-isomer |\n",
    "| F/C=C\\F | *cis*-isomer |\n",
    "| **structure** | |\n",
    "| **(...)** | inside () indicates a branch |\n",
    "| C1 | number indicates start of ring |\n",
    "| C1 again later | indicates closing of ring$^{1}$ |\n",
    "| . | non-bonded (ionic) |\n",
    "| **charges and groups** | |\n",
    "| **[ ]** | to indicate charge / groups |\n",
    "| [Na+] | sodium cation |\n",
    "| [O-] | negative O |\n",
    "| [Mg2+] | divalent magnesium |\n",
    "| [NH3+] | charged amine |\n",
    "\n",
    "\n",
    "\n",
    "$^{1}$If more than one ring in molecule, use 2, 3 ...\n",
    "\n"
   ]
  },
  {
   "cell_type": "markdown",
   "metadata": {
    "id": "MbLpM2Z3beZt"
   },
   "source": [
    "## Examples"
   ]
  },
  {
   "cell_type": "markdown",
   "metadata": {
    "id": "h6wL5Fy9b7gF"
   },
   "source": [
    "### Alkanes, Alkenes, Alkynes"
   ]
  },
  {
   "cell_type": "code",
   "execution_count": null,
   "metadata": {
    "id": "WOZP5GnCWTv7"
   },
   "outputs": [],
   "source": [
    "smiles = [\"CC\", \"C=C\", \"C#C\"]\n",
    "mols = [Chem.MolFromSmiles(s) for s in smiles]\n",
    "\n",
    "Chem.Draw.MolsToGridImage(mols, legends = smiles)"
   ]
  },
  {
   "cell_type": "markdown",
   "metadata": {
    "id": "ePBO_r2k_Eqv"
   },
   "source": [
    "### Substituents"
   ]
  },
  {
   "cell_type": "code",
   "execution_count": null,
   "metadata": {
    "id": "lIycxR-I_IVD"
   },
   "outputs": [],
   "source": [
    "smiles = [\"CCO\", \"C=CF\", \"C#CCl\"]\n",
    "mols = [Chem.MolFromSmiles(s) for s in smiles]\n",
    "\n",
    "Chem.Draw.MolsToGridImage(mols, legends = smiles)"
   ]
  },
  {
   "cell_type": "code",
   "execution_count": null,
   "metadata": {
    "id": "yrlhWUz5_Q43"
   },
   "outputs": [],
   "source": [
    "smiles = [\"CC=O\", \"F/C=C/F\", \"C#C[O-]\"]\n",
    "mols = [Chem.MolFromSmiles(s) for s in smiles]\n",
    "\n",
    "Chem.Draw.MolsToGridImage(mols, legends = smiles)"
   ]
  },
  {
   "cell_type": "markdown",
   "metadata": {
    "id": "tUp0yO-B_cyZ"
   },
   "source": [
    "### Branches"
   ]
  },
  {
   "cell_type": "code",
   "execution_count": null,
   "metadata": {
    "id": "NLRlhEML_eCH"
   },
   "outputs": [],
   "source": [
    "smiles = [\"CCCC\", \"CC(O)CC\", \"CC(=O)CC\"]\n",
    "mols = [Chem.MolFromSmiles(s) for s in smiles]\n",
    "\n",
    "Chem.Draw.MolsToGridImage(mols, legends = smiles)"
   ]
  },
  {
   "cell_type": "code",
   "execution_count": null,
   "metadata": {
    "id": "pmEzM8B__onV"
   },
   "outputs": [],
   "source": [
    "smiles = [\"CC(CCCC)NC\", \"CC(OC)CCC\", \"CC(CC(=O))CC\"]\n",
    "mols = [Chem.MolFromSmiles(s) for s in smiles]\n",
    "\n",
    "Chem.Draw.MolsToGridImage(mols, legends = smiles)"
   ]
  },
  {
   "cell_type": "markdown",
   "metadata": {
    "id": "n8AY64HwAcaS"
   },
   "source": [
    "### Charges"
   ]
  },
  {
   "cell_type": "code",
   "execution_count": null,
   "metadata": {
    "id": "XY3NzWbxADy1"
   },
   "outputs": [],
   "source": [
    "smiles = [\"CC[O-].[Ca++].[F-]\", \"CC[NH3+]\", \"CC[C-]\"]\n",
    "mols = [Chem.MolFromSmiles(s) for s in smiles]\n",
    "\n",
    "Chem.Draw.MolsToGridImage(mols, legends = smiles)"
   ]
  },
  {
   "cell_type": "markdown",
   "metadata": {
    "id": "zeZ_blW3Bexh"
   },
   "source": [
    "### Rings"
   ]
  },
  {
   "cell_type": "code",
   "execution_count": null,
   "metadata": {
    "id": "t57Q7cSDAskO"
   },
   "outputs": [],
   "source": [
    "smiles = [\"C1C=C1\", \"C1CNCC1\", \"C1CCC2CCCC2CN1\"]\n",
    "mols = [Chem.MolFromSmiles(s) for s in smiles]\n",
    "\n",
    "for mol in mols:\n",
    "  for atom in mol.GetAtoms():\n",
    "    atom.SetProp(\"atomNote\", str(atom.GetIdx()+1))\n",
    "\n",
    "Chem.Draw.MolsToGridImage(mols, legends = smiles)"
   ]
  },
  {
   "cell_type": "code",
   "execution_count": null,
   "metadata": {
    "id": "CpLBnUJNB0QS"
   },
   "outputs": [],
   "source": [
    "smiles = [\"c1ccccc1\", \"c1cc(O)ccc1\", \"c1cc2ccccc2cccc1\"]\n",
    "mols = [Chem.MolFromSmiles(s) for s in smiles]\n",
    "\n",
    "for mol in mols:\n",
    "  for atom in mol.GetAtoms():\n",
    "    atom.SetProp(\"atomNote\", str(atom.GetIdx()+1))\n",
    "\n",
    "Chem.Draw.MolsToGridImage(mols, legends = smiles)"
   ]
  },
  {
   "cell_type": "code",
   "execution_count": null,
   "metadata": {
    "id": "UuU9bC_8Gen3"
   },
   "outputs": [],
   "source": [
    "smiles = [\"c1cc(CC(=O)C)ccc1\", \"c1cc(O)ccc1(CC[NH3+])\", \"c1cc2ccc(F)cc2ccc([NH3+])c1\"]\n",
    "mols = [Chem.MolFromSmiles(s) for s in smiles]\n",
    "\n",
    "for mol in mols:\n",
    "  for atom in mol.GetAtoms():\n",
    "    atom.SetProp(\"atomNote\", str(atom.GetIdx()+1))\n",
    "\n",
    "Chem.Draw.MolsToGridImage(mols, legends = smiles)"
   ]
  },
  {
   "cell_type": "markdown",
   "metadata": {
    "id": "HTwodqt4Dza2"
   },
   "source": [
    "### Real Molecules"
   ]
  },
  {
   "cell_type": "code",
   "execution_count": null,
   "metadata": {
    "id": "OW9OqG5UCY9j"
   },
   "outputs": [],
   "source": [
    "smiles = [\"CC(=O)Nc1ccc(O)cc1\", \"O=C(O)C[C@H](O)C[C@H](O)CCn2c(c(c(c2c1ccc(F)cc1)c3ccccc3)C(=O)Nc4ccccc4)C(C)C\",\n",
    "             \"c1ccccc1C2=NCC(=O)N(C)c3ccc(Cl)cc23\", \"Oc1ccc(cc1)/C=C/c2cc(O)cc(O)c2\"]\n",
    "\n",
    "names = [\"Paracetamol\", \"Lipitor\", \"Diazepam\", \"Resveratrol\"]\n",
    "mols = [Chem.MolFromSmiles(s) for s in smiles]\n",
    "\n",
    "for mol in mols:\n",
    "  for atom in mol.GetAtoms():\n",
    "    atom.SetProp(\"atomNote\", str(atom.GetIdx()+1))\n",
    "\n",
    "Chem.Draw.MolsToGridImage(mols, legends = names, subImgSize=(400,400), molsPerRow = 2)"
   ]
  },
  {
   "cell_type": "markdown",
   "metadata": {
    "id": "l_Cd0RInKUXr"
   },
   "source": [
    "## Run the cell below once and it will become interactive, changing the image as you change the SMILES string\n",
    "- Interactivity only works on Colab"
   ]
  },
  {
   "cell_type": "code",
   "execution_count": null,
   "metadata": {
    "cellView": "form",
    "id": "UjEnBcIeEGQQ"
   },
   "outputs": [],
   "source": [
    "# @title Interactive SMILES. { run: \"auto\" }\n",
    "SMILES = \"CC\" #@param {type:\"string\"}\n",
    "\n",
    "\n",
    "mol = Chem.MolFromSmiles(SMILES)\n",
    "for atom in mol.GetAtoms():\n",
    "  atom.SetProp(\"atomNote\", str(atom.GetIdx()+1))\n",
    "\n",
    "Chem.Draw.MolToImage(mol)"
   ]
  },
  {
   "cell_type": "code",
   "execution_count": null,
   "metadata": {
    "id": "GlmvMbp8IZo0"
   },
   "outputs": [],
   "source": []
  }
 ],
 "metadata": {
  "colab": {
   "provenance": []
  },
  "kernelspec": {
   "display_name": "Python 3",
   "language": "python",
   "name": "python3"
  },
  "language_info": {
   "codemirror_mode": {
    "name": "ipython",
    "version": 3
   },
   "file_extension": ".py",
   "mimetype": "text/x-python",
   "name": "python",
   "nbconvert_exporter": "python",
   "pygments_lexer": "ipython3",
   "version": "3.8.8"
  }
 },
 "nbformat": 4,
 "nbformat_minor": 1
}
