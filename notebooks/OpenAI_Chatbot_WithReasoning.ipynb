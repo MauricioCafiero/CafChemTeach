{
 "cells": [
  {
   "cell_type": "markdown",
   "metadata": {
    "id": "3MPPR9DefsUp"
   },
   "source": [
    "#CafChem Teaching - A chatbot using OpenAI's open weights model, GPT-OSS-20B.\n",
    "\n",
    "[![Open In Colab](https://colab.research.google.com/assets/colab-badge.svg)](https://colab.research.google.com/github/MauricioCafiero/CafChemTeach/blob/main/notebooks/OpenAI_Chatbot_CafChem.ipynb)\n",
    "\n",
    "## This notebook allows you to:\n",
    "- Download the weights for the OpenAI GPT-OSS-20B model.\n",
    "- Interact with the model via a chatbot.\n",
    "\n",
    "## Requirements:\n",
    "- If using on Colab, it will (un)install all needed libraries.\n",
    "- Access to your HF token\n",
    "- Needs a GPU, L4 or higher preferably (will be quite slow on T4)."
   ]
  },
  {
   "cell_type": "markdown",
   "metadata": {
    "id": "X-q9mHN3FYln"
   },
   "source": [
    "## Set-up\n",
    "\n",
    "The OpenAI open models have quite complicated dependencies, and so several packages have to be install/un-installed"
   ]
  },
  {
   "cell_type": "code",
   "execution_count": null,
   "metadata": {
    "colab": {
     "base_uri": "https://localhost:8080/"
    },
    "id": "Rsgz3IWDK5SF",
    "outputId": "bd457bcd-dd81-4aac-c548-6e6795a36798"
   },
   "outputs": [
    {
     "name": "stdout",
     "output_type": "stream",
     "text": [
      "\u001b[2K   \u001b[90m━━━━━━━━━━━━━━━━━━━━━━━━━━━━━━━━━━━━━━━━\u001b[0m \u001b[32m888.1/888.1 MB\u001b[0m \u001b[31m2.4 MB/s\u001b[0m eta \u001b[36m0:00:00\u001b[0m\n",
      "\u001b[2K   \u001b[90m━━━━━━━━━━━━━━━━━━━━━━━━━━━━━━━━━━━━━━━━\u001b[0m \u001b[32m594.3/594.3 MB\u001b[0m \u001b[31m2.3 MB/s\u001b[0m eta \u001b[36m0:00:00\u001b[0m\n",
      "\u001b[2K   \u001b[90m━━━━━━━━━━━━━━━━━━━━━━━━━━━━━━━━━━━━━━━━\u001b[0m \u001b[32m10.2/10.2 MB\u001b[0m \u001b[31m123.5 MB/s\u001b[0m eta \u001b[36m0:00:00\u001b[0m\n",
      "\u001b[2K   \u001b[90m━━━━━━━━━━━━━━━━━━━━━━━━━━━━━━━━━━━━━━━━\u001b[0m \u001b[32m88.0/88.0 MB\u001b[0m \u001b[31m25.5 MB/s\u001b[0m eta \u001b[36m0:00:00\u001b[0m\n",
      "\u001b[2K   \u001b[90m━━━━━━━━━━━━━━━━━━━━━━━━━━━━━━━━━━━━━━━━\u001b[0m \u001b[32m954.8/954.8 kB\u001b[0m \u001b[31m54.9 MB/s\u001b[0m eta \u001b[36m0:00:00\u001b[0m\n",
      "\u001b[2K   \u001b[90m━━━━━━━━━━━━━━━━━━━━━━━━━━━━━━━━━━━━━━━━\u001b[0m \u001b[32m706.8/706.8 MB\u001b[0m \u001b[31m2.1 MB/s\u001b[0m eta \u001b[36m0:00:00\u001b[0m\n",
      "\u001b[2K   \u001b[90m━━━━━━━━━━━━━━━━━━━━━━━━━━━━━━━━━━━━━━━━\u001b[0m \u001b[32m193.1/193.1 MB\u001b[0m \u001b[31m6.1 MB/s\u001b[0m eta \u001b[36m0:00:00\u001b[0m\n",
      "\u001b[2K   \u001b[90m━━━━━━━━━━━━━━━━━━━━━━━━━━━━━━━━━━━━━━━━\u001b[0m \u001b[32m1.2/1.2 MB\u001b[0m \u001b[31m60.5 MB/s\u001b[0m eta \u001b[36m0:00:00\u001b[0m\n",
      "\u001b[2K   \u001b[90m━━━━━━━━━━━━━━━━━━━━━━━━━━━━━━━━━━━━━━━━\u001b[0m \u001b[32m63.6/63.6 MB\u001b[0m \u001b[31m35.9 MB/s\u001b[0m eta \u001b[36m0:00:00\u001b[0m\n",
      "\u001b[2K   \u001b[90m━━━━━━━━━━━━━━━━━━━━━━━━━━━━━━━━━━━━━━━━\u001b[0m \u001b[32m267.5/267.5 MB\u001b[0m \u001b[31m4.0 MB/s\u001b[0m eta \u001b[36m0:00:00\u001b[0m\n",
      "\u001b[2K   \u001b[90m━━━━━━━━━━━━━━━━━━━━━━━━━━━━━━━━━━━━━━━━\u001b[0m \u001b[32m288.2/288.2 MB\u001b[0m \u001b[31m3.7 MB/s\u001b[0m eta \u001b[36m0:00:00\u001b[0m\n",
      "\u001b[2K   \u001b[90m━━━━━━━━━━━━━━━━━━━━━━━━━━━━━━━━━━━━━━━━\u001b[0m \u001b[32m287.2/287.2 MB\u001b[0m \u001b[31m3.8 MB/s\u001b[0m eta \u001b[36m0:00:00\u001b[0m\n",
      "\u001b[2K   \u001b[90m━━━━━━━━━━━━━━━━━━━━━━━━━━━━━━━━━━━━━━━━\u001b[0m \u001b[32m322.4/322.4 MB\u001b[0m \u001b[31m3.4 MB/s\u001b[0m eta \u001b[36m0:00:00\u001b[0m\n",
      "\u001b[2K   \u001b[90m━━━━━━━━━━━━━━━━━━━━━━━━━━━━━━━━━━━━━━━━\u001b[0m \u001b[32m39.3/39.3 MB\u001b[0m \u001b[31m57.0 MB/s\u001b[0m eta \u001b[36m0:00:00\u001b[0m\n",
      "\u001b[2K   \u001b[90m━━━━━━━━━━━━━━━━━━━━━━━━━━━━━━━━━━━━━━━━\u001b[0m \u001b[32m90.0/90.0 kB\u001b[0m \u001b[31m8.7 MB/s\u001b[0m eta \u001b[36m0:00:00\u001b[0m\n",
      "\u001b[2K   \u001b[90m━━━━━━━━━━━━━━━━━━━━━━━━━━━━━━━━━━━━━━━━\u001b[0m \u001b[32m155.5/155.5 MB\u001b[0m \u001b[31m6.8 MB/s\u001b[0m eta \u001b[36m0:00:00\u001b[0m\n",
      "\u001b[2K   \u001b[90m━━━━━━━━━━━━━━━━━━━━━━━━━━━━━━━━━━━━━━━━\u001b[0m \u001b[32m6.3/6.3 MB\u001b[0m \u001b[31m116.7 MB/s\u001b[0m eta \u001b[36m0:00:00\u001b[0m\n",
      "\u001b[?25h\u001b[31mERROR: pip's dependency resolver does not currently take into account all the packages that are installed. This behaviour is the source of the following dependency conflicts.\n",
      "torchaudio 2.6.0+cu124 requires torch==2.6.0, but you have torch 2.8.0 which is incompatible.\n",
      "torchvision 0.21.0+cu124 requires torch==2.6.0, but you have torch 2.8.0 which is incompatible.\n",
      "fastai 2.7.19 requires torch<2.7,>=1.10, but you have torch 2.8.0 which is incompatible.\u001b[0m\u001b[31m\n",
      "\u001b[0mCollecting openai-harmony\n",
      "  Downloading openai_harmony-0.0.3-cp38-abi3-manylinux_2_17_x86_64.manylinux2014_x86_64.whl.metadata (8.0 kB)\n",
      "Requirement already satisfied: pydantic>=2.11.7 in /usr/local/lib/python3.11/dist-packages (from openai-harmony) (2.11.7)\n",
      "Requirement already satisfied: annotated-types>=0.6.0 in /usr/local/lib/python3.11/dist-packages (from pydantic>=2.11.7->openai-harmony) (0.7.0)\n",
      "Requirement already satisfied: pydantic-core==2.33.2 in /usr/local/lib/python3.11/dist-packages (from pydantic>=2.11.7->openai-harmony) (2.33.2)\n",
      "Requirement already satisfied: typing-extensions>=4.12.2 in /usr/local/lib/python3.11/dist-packages (from pydantic>=2.11.7->openai-harmony) (4.14.1)\n",
      "Requirement already satisfied: typing-inspection>=0.4.0 in /usr/local/lib/python3.11/dist-packages (from pydantic>=2.11.7->openai-harmony) (0.4.1)\n",
      "Downloading openai_harmony-0.0.3-cp38-abi3-manylinux_2_17_x86_64.manylinux2014_x86_64.whl (3.0 MB)\n",
      "\u001b[2K   \u001b[90m━━━━━━━━━━━━━━━━━━━━━━━━━━━━━━━━━━━━━━━━\u001b[0m \u001b[32m3.0/3.0 MB\u001b[0m \u001b[31m93.4 MB/s\u001b[0m eta \u001b[36m0:00:00\u001b[0m\n",
      "\u001b[?25hInstalling collected packages: openai-harmony\n",
      "Successfully installed openai-harmony-0.0.3\n"
     ]
    }
   ],
   "source": [
    " !pip install -q --upgrade torch\n"
   ]
  },
  {
   "cell_type": "code",
   "execution_count": null,
   "metadata": {
    "colab": {
     "base_uri": "https://localhost:8080/"
    },
    "id": "7z4gOSjA-pfn",
    "outputId": "82501c6f-1372-4d53-9fcb-57b12e4b7b89"
   },
   "outputs": [
    {
     "name": "stdout",
     "output_type": "stream",
     "text": [
      "  Installing build dependencies ... \u001b[?25l\u001b[?25hdone\n",
      "  Getting requirements to build wheel ... \u001b[?25l\u001b[?25hdone\n",
      "  Preparing metadata (pyproject.toml) ... \u001b[?25l\u001b[?25hdone\n",
      "  Installing build dependencies ... \u001b[?25l\u001b[?25hdone\n",
      "  Getting requirements to build wheel ... \u001b[?25l\u001b[?25hdone\n",
      "  Preparing metadata (pyproject.toml) ... \u001b[?25l\u001b[?25hdone\n",
      "  Building wheel for transformers (pyproject.toml) ... \u001b[?25l\u001b[?25hdone\n",
      "  Building wheel for triton_kernels (pyproject.toml) ... \u001b[?25l\u001b[?25hdone\n"
     ]
    }
   ],
   "source": [
    "!pip install -q git+https://github.com/huggingface/transformers triton==3.4 git+https://github.com/triton-lang/triton.git@main#subdirectory=python/triton_kernels"
   ]
  },
  {
   "cell_type": "code",
   "execution_count": null,
   "metadata": {
    "id": "R82TiN0nBM3u"
   },
   "outputs": [],
   "source": [
    "!pip uninstall -q torchvision torchaudio -y"
   ]
  },
  {
   "cell_type": "code",
   "execution_count": null,
   "metadata": {
    "colab": {
     "base_uri": "https://localhost:8080/"
    },
    "id": "5OCUoZj2OUpT",
    "outputId": "8fe40722-e990-4645-e0c1-b6bc3eae3726"
   },
   "outputs": [
    {
     "name": "stdout",
     "output_type": "stream",
     "text": [
      "Collecting bitsandbytes\n",
      "  Downloading bitsandbytes-0.46.1-py3-none-manylinux_2_24_x86_64.whl.metadata (10 kB)\n",
      "Requirement already satisfied: torch<3,>=2.2 in /usr/local/lib/python3.11/dist-packages (from bitsandbytes) (2.8.0)\n",
      "Requirement already satisfied: numpy>=1.17 in /usr/local/lib/python3.11/dist-packages (from bitsandbytes) (2.0.2)\n",
      "Requirement already satisfied: filelock in /usr/local/lib/python3.11/dist-packages (from torch<3,>=2.2->bitsandbytes) (3.18.0)\n",
      "Requirement already satisfied: typing-extensions>=4.10.0 in /usr/local/lib/python3.11/dist-packages (from torch<3,>=2.2->bitsandbytes) (4.14.1)\n",
      "Requirement already satisfied: sympy>=1.13.3 in /usr/local/lib/python3.11/dist-packages (from torch<3,>=2.2->bitsandbytes) (1.14.0)\n",
      "Requirement already satisfied: networkx in /usr/local/lib/python3.11/dist-packages (from torch<3,>=2.2->bitsandbytes) (3.5)\n",
      "Requirement already satisfied: jinja2 in /usr/local/lib/python3.11/dist-packages (from torch<3,>=2.2->bitsandbytes) (3.1.6)\n",
      "Requirement already satisfied: fsspec in /usr/local/lib/python3.11/dist-packages (from torch<3,>=2.2->bitsandbytes) (2025.3.0)\n",
      "Requirement already satisfied: nvidia-cuda-nvrtc-cu12==12.8.93 in /usr/local/lib/python3.11/dist-packages (from torch<3,>=2.2->bitsandbytes) (12.8.93)\n",
      "Requirement already satisfied: nvidia-cuda-runtime-cu12==12.8.90 in /usr/local/lib/python3.11/dist-packages (from torch<3,>=2.2->bitsandbytes) (12.8.90)\n",
      "Requirement already satisfied: nvidia-cuda-cupti-cu12==12.8.90 in /usr/local/lib/python3.11/dist-packages (from torch<3,>=2.2->bitsandbytes) (12.8.90)\n",
      "Requirement already satisfied: nvidia-cudnn-cu12==9.10.2.21 in /usr/local/lib/python3.11/dist-packages (from torch<3,>=2.2->bitsandbytes) (9.10.2.21)\n",
      "Requirement already satisfied: nvidia-cublas-cu12==12.8.4.1 in /usr/local/lib/python3.11/dist-packages (from torch<3,>=2.2->bitsandbytes) (12.8.4.1)\n",
      "Requirement already satisfied: nvidia-cufft-cu12==11.3.3.83 in /usr/local/lib/python3.11/dist-packages (from torch<3,>=2.2->bitsandbytes) (11.3.3.83)\n",
      "Requirement already satisfied: nvidia-curand-cu12==10.3.9.90 in /usr/local/lib/python3.11/dist-packages (from torch<3,>=2.2->bitsandbytes) (10.3.9.90)\n",
      "Requirement already satisfied: nvidia-cusolver-cu12==11.7.3.90 in /usr/local/lib/python3.11/dist-packages (from torch<3,>=2.2->bitsandbytes) (11.7.3.90)\n",
      "Requirement already satisfied: nvidia-cusparse-cu12==12.5.8.93 in /usr/local/lib/python3.11/dist-packages (from torch<3,>=2.2->bitsandbytes) (12.5.8.93)\n",
      "Requirement already satisfied: nvidia-cusparselt-cu12==0.7.1 in /usr/local/lib/python3.11/dist-packages (from torch<3,>=2.2->bitsandbytes) (0.7.1)\n",
      "Requirement already satisfied: nvidia-nccl-cu12==2.27.3 in /usr/local/lib/python3.11/dist-packages (from torch<3,>=2.2->bitsandbytes) (2.27.3)\n",
      "Requirement already satisfied: nvidia-nvtx-cu12==12.8.90 in /usr/local/lib/python3.11/dist-packages (from torch<3,>=2.2->bitsandbytes) (12.8.90)\n",
      "Requirement already satisfied: nvidia-nvjitlink-cu12==12.8.93 in /usr/local/lib/python3.11/dist-packages (from torch<3,>=2.2->bitsandbytes) (12.8.93)\n",
      "Requirement already satisfied: nvidia-cufile-cu12==1.13.1.3 in /usr/local/lib/python3.11/dist-packages (from torch<3,>=2.2->bitsandbytes) (1.13.1.3)\n",
      "Requirement already satisfied: triton==3.4.0 in /usr/local/lib/python3.11/dist-packages (from torch<3,>=2.2->bitsandbytes) (3.4.0)\n",
      "Requirement already satisfied: setuptools>=40.8.0 in /usr/local/lib/python3.11/dist-packages (from triton==3.4.0->torch<3,>=2.2->bitsandbytes) (75.2.0)\n",
      "Requirement already satisfied: mpmath<1.4,>=1.1.0 in /usr/local/lib/python3.11/dist-packages (from sympy>=1.13.3->torch<3,>=2.2->bitsandbytes) (1.3.0)\n",
      "Requirement already satisfied: MarkupSafe>=2.0 in /usr/local/lib/python3.11/dist-packages (from jinja2->torch<3,>=2.2->bitsandbytes) (3.0.2)\n",
      "Downloading bitsandbytes-0.46.1-py3-none-manylinux_2_24_x86_64.whl (72.9 MB)\n",
      "\u001b[2K   \u001b[90m━━━━━━━━━━━━━━━━━━━━━━━━━━━━━━━━━━━━━━━━\u001b[0m \u001b[32m72.9/72.9 MB\u001b[0m \u001b[31m32.6 MB/s\u001b[0m eta \u001b[36m0:00:00\u001b[0m\n",
      "\u001b[?25hInstalling collected packages: bitsandbytes\n",
      "Successfully installed bitsandbytes-0.46.1\n"
     ]
    }
   ],
   "source": [
    "!pip install bitsandbytes"
   ]
  },
  {
   "cell_type": "code",
   "execution_count": null,
   "metadata": {
    "colab": {
     "base_uri": "https://localhost:8080/"
    },
    "id": "0ksk6gyES4s4",
    "outputId": "264fd649-c7ae-45b4-d494-b5fd159e2cc1"
   },
   "outputs": [
    {
     "name": "stdout",
     "output_type": "stream",
     "text": [
      "Collecting kernels\n",
      "  Downloading kernels-0.9.0-py3-none-any.whl.metadata (3.3 kB)\n",
      "Requirement already satisfied: huggingface_hub<1.0,>=0.26.0 in /usr/local/lib/python3.11/dist-packages (from kernels) (0.34.3)\n",
      "Requirement already satisfied: packaging>=20.0 in /usr/local/lib/python3.11/dist-packages (from kernels) (25.0)\n",
      "Requirement already satisfied: pyyaml>=6 in /usr/local/lib/python3.11/dist-packages (from kernels) (6.0.2)\n",
      "Requirement already satisfied: filelock in /usr/local/lib/python3.11/dist-packages (from huggingface_hub<1.0,>=0.26.0->kernels) (3.18.0)\n",
      "Requirement already satisfied: fsspec>=2023.5.0 in /usr/local/lib/python3.11/dist-packages (from huggingface_hub<1.0,>=0.26.0->kernels) (2025.3.0)\n",
      "Requirement already satisfied: requests in /usr/local/lib/python3.11/dist-packages (from huggingface_hub<1.0,>=0.26.0->kernels) (2.32.3)\n",
      "Requirement already satisfied: tqdm>=4.42.1 in /usr/local/lib/python3.11/dist-packages (from huggingface_hub<1.0,>=0.26.0->kernels) (4.67.1)\n",
      "Requirement already satisfied: typing-extensions>=3.7.4.3 in /usr/local/lib/python3.11/dist-packages (from huggingface_hub<1.0,>=0.26.0->kernels) (4.14.1)\n",
      "Requirement already satisfied: hf-xet<2.0.0,>=1.1.3 in /usr/local/lib/python3.11/dist-packages (from huggingface_hub<1.0,>=0.26.0->kernels) (1.1.5)\n",
      "Requirement already satisfied: charset-normalizer<4,>=2 in /usr/local/lib/python3.11/dist-packages (from requests->huggingface_hub<1.0,>=0.26.0->kernels) (3.4.2)\n",
      "Requirement already satisfied: idna<4,>=2.5 in /usr/local/lib/python3.11/dist-packages (from requests->huggingface_hub<1.0,>=0.26.0->kernels) (3.10)\n",
      "Requirement already satisfied: urllib3<3,>=1.21.1 in /usr/local/lib/python3.11/dist-packages (from requests->huggingface_hub<1.0,>=0.26.0->kernels) (2.5.0)\n",
      "Requirement already satisfied: certifi>=2017.4.17 in /usr/local/lib/python3.11/dist-packages (from requests->huggingface_hub<1.0,>=0.26.0->kernels) (2025.8.3)\n",
      "Downloading kernels-0.9.0-py3-none-any.whl (37 kB)\n",
      "Installing collected packages: kernels\n",
      "Successfully installed kernels-0.9.0\n"
     ]
    }
   ],
   "source": [
    "pip install kernels"
   ]
  },
  {
   "cell_type": "code",
   "execution_count": null,
   "metadata": {
    "id": "fquxPW7yPbgr"
   },
   "outputs": [],
   "source": [
    "import os\n",
    "import re\n",
    "import transformers\n",
    "import torch\n",
    "import gradio as gr\n",
    "from transformers import AutoModelForCausalLM, AutoTokenizer\n",
    "from transformers import Mxfp4Config\n",
    "import triton\n",
    "import kernels"
   ]
  },
  {
   "cell_type": "markdown",
   "metadata": {
    "id": "lQA3Zb-0FcNQ"
   },
   "source": [
    "## Functions\n",
    "- These functions set-up the model and power the chatbot"
   ]
  },
  {
   "cell_type": "code",
   "execution_count": null,
   "metadata": {
    "id": "IOw-BooQPe8x"
   },
   "outputs": [],
   "source": [
    "chat_history = []\n",
    "global last_id\n",
    "last_id = None\n",
    "\n",
    "def clear_history():\n",
    "        global chat_history\n",
    "        chat_history = []\n",
    "        global last_id\n",
    "        last_id = None\n",
    "\n",
    "def setup_free_openai():\n",
    "  '''\n",
    "  '''\n",
    "  model_id = \"openai/gpt-oss-20b\"\n",
    "  tokenizer = AutoTokenizer.from_pretrained(model_id)\n",
    "\n",
    "  quantization_config = Mxfp4Config(dequantize=False)\n",
    "\n",
    "  model = AutoModelForCausalLM.from_pretrained(\n",
    "          model_id,\n",
    "          device_map=\"cuda\",\n",
    "          torch_dtype=\"auto\",\n",
    "          quantization_config = quantization_config)\n",
    "\n",
    "  return tokenizer, model\n",
    "\n",
    "def chat(prompt, reason):\n",
    "  '''\n",
    "  '''\n",
    "  global last_id\n",
    "  global chat_history\n",
    "  chat_history.append({\"role\": \"user\", \"content\": prompt, \"reasoning_effort\": reason})\n",
    "\n",
    "  inputs = tokenizer.apply_chat_template(\n",
    "                      chat_history, #messages,\n",
    "                      add_generation_prompt=True,\n",
    "                      return_tensors=\"pt\",\n",
    "                      return_dict=True).to(model.device)\n",
    "\n",
    "  generated = model.generate(**inputs, max_new_tokens=1000)\n",
    "  response = tokenizer.decode(generated[0][inputs[\"input_ids\"].shape[-1]:])\n",
    "\n",
    "  start_match = \"\\<\\|message\\|\\>\"\n",
    "  response_parts = re.split(start_match, response)\n",
    "  answer = response_parts[-1].replace('<|return|>','')\n",
    "  reasoning = response_parts[-2].replace('<|return|>','')\n",
    "\n",
    "  chat_history.append(\n",
    "              {\"role\": \"assistant\", \"content\": answer, \"reasoning\": reasoning}\n",
    "  )\n",
    "  print(answer)\n",
    "\n",
    "\n",
    "  return \"\", chat_history, reasoning\n",
    "\n",
    "\n",
    "def chatbot():\n",
    "  '''\n",
    "  '''\n",
    "  with gr.Blocks() as forest:\n",
    "    gr.Markdown(\n",
    "        \"\"\"\n",
    "        # Chat with OpenAI GPT-OSS-20B.\n",
    "        - If using high reasoning, responses can take a minute or longer!\n",
    "        ### Enter your messages below.\n",
    "        \"\"\")\n",
    "\n",
    "    reason = gr.Radio(choices = [\"low\", \"medium\", \"high\"],label=\"Reasoning Level\",\n",
    "                    value = \"medium\", interactive=True)\n",
    "\n",
    "\n",
    "    chatbot = gr.Chatbot(type=\"messages\")\n",
    "    msg = gr.Textbox(label=\"Type your messages here and hit enter.\")\n",
    "\n",
    "\n",
    "    reasoning_output = gr.Textbox(label=\"Reasoning\", value=\"\")\n",
    "\n",
    "    chat_btn = gr.Button(value = \"Send\")\n",
    "\n",
    "    clear = gr.ClearButton([msg, chatbot, reasoning_output])\n",
    "    clear.click(clear_history)\n",
    "\n",
    "\n",
    "    chat_btn.click(chat, [msg, reason], [msg, chatbot, reasoning_output])\n",
    "    msg.submit(chat, [msg, reason], [msg, chatbot, reasoning_output])\n",
    "\n",
    "\n",
    "  forest.launch(share=True)"
   ]
  },
  {
   "cell_type": "markdown",
   "metadata": {
    "id": "QKUh2MFadwp_"
   },
   "source": [
    "## Download the model weights and tokenizer from HuggingFace"
   ]
  },
  {
   "cell_type": "code",
   "execution_count": null,
   "metadata": {
    "colab": {
     "base_uri": "https://localhost:8080/",
     "height": 1000,
     "referenced_widgets": [
      "d3efa770732d40aea8cd5f77836815ea",
      "d9a62d9b43254152a636b01fc1813279",
      "b3bc96f2d4a64be1bd71860c0c1cc396",
      "3e32f8a9a56749abaa2810c98806528c",
      "a769d34922fb442294a9d18be07b22e8",
      "fec0e543fcb540a4bc83fa818ed7285d",
      "28dea3edf31344b3b2eeeede6f2d977b",
      "f5cf0d18690543efbdf0c99f087e59f6",
      "d06f655a31a94e428f6786413bf573b7",
      "ee46fe46a6254e05bce52e15bbfc0638",
      "7f9de6c2c3c04b5b8eace4b6d0812a1d",
      "88d5e862e3c44c729f1b105cada9f585",
      "6d809ba8c22e4a168c39bff8e406443f",
      "ae56903829f345c1847729058caa76be",
      "0f73c12ed8b64d68a1a18a4b96ac4898",
      "38719d2d86db4a2f8ebd5cc55e8600ae",
      "8856ab57ff2d424a9d213581d29c7c67",
      "59e916afbc75445cb32ef77c5b1329ce",
      "f79428835ce0494cb1165989b78c9d56",
      "94d7e8fba8104228873cc398ea0a8975",
      "d979066332824e41930dd56dd893f6b1",
      "9660e4ad9b874aff8a0b438c1b3ce889",
      "c19016e696a2484ab2cb364b2d70f9da",
      "7b615170dfeb47b5abd070acb2b52e4c",
      "8e75acfdee1943559237040585a3949a",
      "6d94773af0da43bf8012e271e28c8cfb",
      "da03cc1f9bc44fa89a8bc35108d6419d",
      "3216bf530ae44d05855f1a3d01efdf24",
      "8a0226140c7343cabb0d44c8ebc088dc",
      "2a7f54d31dd244f6a3ecd83566b21dcb",
      "d27106dc49d743ab96f83c9feca04fbe",
      "d27d34926d9641e0ac9703a032ad52c4",
      "0b41de92687d4095aa03a6f696a1f082",
      "972823cd280f492fa69cb429a6da8627",
      "033e96ae668048c780e6d37872bdc53e",
      "6e731d8e95664b618f061061bfb4c4f4",
      "fce2da865217457d878965c71c518837",
      "b7eac22d25e845138fcc21945d159804",
      "2a2178e1162f48f8a07c2376d164f668",
      "ef798d4bcd7b48ee97d58ad3c71fb93e",
      "824ced4e3a144aadaaae75a0b00e8378",
      "afc843c848204caf834d81d208f78ff4",
      "8b6ff0b821ff4c43b6866755fd961559",
      "988e104a0b9b4df99dd622c67e54fee1",
      "577c655e348a49d0a6e70e6e3dc454ba",
      "392543e638674ef785da0085afcc6fc1",
      "3bdd4319e98c4dcea94a684214d5e623",
      "aa979346edc1437cb7eec8604e272a4c",
      "3dc5912ab2114d19a9be200197c07417",
      "e2f0203903314139a791f0b6b3d86d10",
      "f05d79039bf540f297bb56932895a0e6",
      "87dae9890eab48c2b0d701db9aa0be11",
      "a886a0e6969d4a5cbadbe25a242508bb",
      "bd2ce73b81774cbb9aaf623a6c7fd8f3",
      "b5b58ec9ea31471d9c9c6f1d67208023",
      "227ab6f2e4b54eee8257e55993bf32d4",
      "7764e4e2e2df4419bfb6e84398f50c11",
      "46bd40315faf48e7a7cb469d05e69736",
      "f435e2a88429436ba2aec8b635ce1415",
      "0c8dee6a76ef4d4abbcbcdbda5f107f0",
      "1e8be855e4844675942cc2f7a27786a5",
      "890dd9d962e24cada8894ae9c1cff7ba",
      "8d8056ae87584e918eafb0ba07730698",
      "9ce87aa2ffe34dda94f5899d82c8da6d",
      "fd7c9db60a3c46c7abc13ef476346531",
      "cca5efb65ab7449786031b715b828471",
      "fd13f333379a4df281c2e2e556a6a2fd",
      "af62efd0519249fd9137958beabff688",
      "36ac7c3d1dc14281af5c96144a8b72cc",
      "eeb76a72a9d6480f8a6ee55c1e02ca9b",
      "e04c04713c8c445c864a5946c126405e",
      "c0cb5d0ac2934a9fa3466b76a8a3d3bf",
      "9739c79100ec4072a7a293f8fe779f5b",
      "3dd6dd53c0d94ad5a65d5f4918dd473f",
      "8999903efa02429eb9cd51cf948ca053",
      "6b67fcf1607e4666a22471afe70bb3ee",
      "bd6b7be3c978420fa0e55e35524966b4",
      "3d00600aafee40adbf8213c7fd90e130",
      "b320241f12e246dd8c9906c659021950",
      "b7817cd9a86440e7a6f6a9e3effa807e",
      "ea79ad3176074b45867046026114e251",
      "f62a45119a7543d28e37119c7b50851a",
      "f51b1c73f6d441b0bc1ffe6f23519e6b",
      "1497ff42e0e34b0ca3f5002c575668b5",
      "a0b6d19ea1074b60a914ebce7a178b92",
      "70a1275972be42bc9c97306ef0a3c9be",
      "6e3484f422c441d4b5a2e7caa81a6eed",
      "e8165414d68e437ea0a621ad987dbcf5",
      "0897211ef4f948f5af72a5817aaec089",
      "639db0ab35d24aa89c1333846f1a770a",
      "07bcc5017c5a494097187c5c04012d18",
      "1cda906154de47c0a2fbd5443fd86244",
      "8b405c0278b848ce981a725d582edf1d",
      "03b5afd1aeda4358a5d60e73dd93df47",
      "4104481c89a14415ad7d04dc71b36491",
      "86ca40dbbf1c47049037c17e0cb85aa6",
      "a7e07b9514d44a7892b9ab3a786a0f95",
      "78fbcf50d97e41f5bbc59b8985873c46",
      "49e90264ad4445e5a2548323cf7bdd42",
      "3fb22b8c72aa435aa53c13c23140e239",
      "7e83888200774bfa8392d818fbfba01e",
      "ff48f16a82b24140b4a59812ef0d5205",
      "94f047ad1248405ba56b5ec6288cdbea",
      "ac7fad96d9fa42b8a4ab2dfea664b6ec",
      "4c7cca5bf1e6417389ed823614d3df11",
      "bfa8de8322704283aa2b580015147b18",
      "83759ed7c3e54fa1928126016837d29d",
      "56a720dab2614a379f5f5224f2de7c96",
      "a72eb2b5106548b0bb6758994dd78ecb",
      "8897a33e67ee494f877ade68d7bb048d",
      "2b22a02240a24562bfc5c833e398a84d",
      "085f9f8c1d9f4cb19815c21120736c2e",
      "43f68f89de9941acaabb7c97042c9043",
      "12c47c8df2f84f59a1b87777510d0793",
      "9e56a25bbefd4607837fee404a007a6e",
      "fa9aa063320a4af69fbbb7545d94a5f7",
      "e2e18c6f4fe049a8860398d0b3a6f0fc",
      "56e4b3ba14ed4d0c99cc9d2f23d35a98",
      "adf6a40c099e44cebe1009ff64e013f9",
      "f02d43e163d64866a1679b4cdcfb0e53",
      "c1c14a3f16974821b4bc6b709dc53daf",
      "31049b7748254bc4a19d01837372caa3",
      "80a5a77f0074438a86fb00aed1e7392f",
      "7c757c24d9e749fdaa02a12971ede155",
      "654f577959ca40b6a04f6a3999d2523c",
      "f066439ea215407185c6f6b82bf94592",
      "75d9c5b8924b4f61a04bd9a275131ec8",
      "74ae456bcbc847fa8f905e6434ec5beb",
      "4769ceb7529542ef99ae54c88d4bd172",
      "d87e8df947d346c9932178a78e09691b",
      "71855af09b0b400e9bbdec1629903a31",
      "42727ed065854803bb0ceea67d26fac5",
      "3a530f86dd974011b90ef734e00fb5e0",
      "42186ce839f14995896d0fca29da8292",
      "d83cb3fff68b4a389cd85f2ff6160b94",
      "9483869a7ce7429aadc04bc638a50e1d",
      "034108052df149f1b929d0f251dd0070",
      "cc7bdb8b47904df7b8234f31528c33a7",
      "d60c46bf9abc43f5af1888232d6d01db",
      "f0fd5bb9414c40d1ba190842ee349b1d",
      "c9a78b36ef9e4f19b454ed4d678a3be7",
      "607e52a055f34dccb28c7b364dabf601",
      "71caaddb83af49439c96ce8e5260e5c1",
      "b34affa5ee29448d95fcead4734d43ac",
      "4281d4a1d5174a109478e032ddd3b45c",
      "6776df5c05434f6a9656808128d0f634",
      "3a081bfc25aa4ef58eccc0959a18c34d",
      "4da178bb3cb547b3bab5726e2e00ac46",
      "9448868f1d534f528b46bdc5b02d28ea",
      "7a89e5dfe4144f94af355a945d523208",
      "72096d5eca2e46959d19ed6d03b06907",
      "981c8512e8b1469c818a2a8f1ce37e6c",
      "810bb7452fae44f881e288f3fd60eec2",
      "daccf286d9cb470b86536e33f7d0b189",
      "aa9fa8cbe51448e9a4046018b58eddac",
      "94840415085c413ca8ec8bf3450c5eef",
      "70143d4775524347859706e4a477fb5e",
      "e997a62bc813444486599cb5c9dad5c7",
      "af6dbea0deb741cfa898204d20c79c75",
      "27baecaa0d0341aca37dd88400614c6c",
      "5f77302b2b8a4b4db502251fac321745",
      "ad5ddb4523564d71863d171ee89fe965",
      "16dbf9629d2c4481baa7954a9a776462",
      "1a0479e89292466d9850b6c4b21e9f84",
      "714faf6f2cd04a489989858735fe62e7",
      "ad35353514494e3ea57170d4838bca58",
      "edd539f9066e41f5a991f37c8668dce7",
      "3eaaedaa91804fca9126b91dc6b1e89e",
      "1f89207ddd064201b9115977c4e3db71",
      "667b1954d34b4d9c9ea5076700003b21",
      "f5037ea67408407184320ab1da5ccc7b",
      "61770942c67f442a9bc600dd1d88779a",
      "3f06e191ba374b5daf646bb3a99a2f36",
      "448d1496edb542f3b8a4a82e6d18ed96",
      "50781388644b48a7afd59fe746bcc4e8",
      "f8079d18d00847f595407db54afd6387",
      "1df0588506764ca19669b244fdc21f48",
      "ddc522ac3ca34351bc6bc218de47a480",
      "c90923446b57418da5386bf72e0cefb5",
      "fa0cd31ad2e6437aba0c2080d7d9fa62",
      "4ae974d04748478a83d298f71c37b20c",
      "9040df33be924aa591d71f24e9e04cc5",
      "4af497fbc0e84453b5578f2f80963ef8",
      "83d3aa37307a4835a694bfebe514727a",
      "5be3f2157ad147be8f5c7983bacacec7",
      "d129d12777a44fa9b5f87e440c031f76",
      "d44da256a322496dbee97e3ea933f36d",
      "54e70a226bcb41fca300da8141030158",
      "99d47a9f4e664e3bb3d3f1e84b8c907b",
      "0d28c69c706946e3b38d9772e6139eb7",
      "2c881989eb104b2688ef3ded44f11aef",
      "6b58108c9dde43a298ec8375b915d3ff",
      "e43991e273e54b7c8b0aa2ae161294e0",
      "ad6374ac7fe746ceb35b88ad9cc2807c",
      "701cbf8ff2764c8794190b35e87c7386",
      "5fee92e73d3942e180e423879ba93fb0",
      "296f14a7c7b24f9dbced7f9789e52b8e",
      "d0094aacbe91406589a9d09001ce593f",
      "67053c44fdd648b09fa60177372af879",
      "672a6241c52a4a22bdee2cbcdeda0851",
      "32d25dc6cffb46acba215f1758441502",
      "75f043f4d6c34579ab6feed867c8fffa",
      "d586231296a541a8a966c6e577116f4e",
      "c0dfabd3ca3d42b1ab0d554980feb509",
      "6ff957e75fba4ea886ebe984d9da0890",
      "c396207ac1ea4488ac791797ce123f83",
      "1a006b742031410a92c840728e083752",
      "fcbdf855a2d94278b1e6e179bdf7647a",
      "1e1e3b395fd242c881aa3291854dde69",
      "5665ed4ed2a546bfabb244a3d4a85319",
      "be95de35b0f64340bad3a590d014dc72",
      "bb03c451aca14edfb7ff485ecfae97fa",
      "9e3529b3fe3e4b47a6b5f6d08245e606",
      "0099bd4b8d98410dbcedc5ea1f511030",
      "ff4acc9b389d440a8407aefd3f7fd603",
      "d5cc167ee6124ae0bd71e5e67474e1f3",
      "8c0ef5ecedf54191967ea67c74a0f26e",
      "569b6f13d144475ea83d96c35465e0d1",
      "8d322bb5da1b4e23bf51699061b35300",
      "96ba11182d234b7fbdf5ba09bc83e1af",
      "6f1cb24595344d9980f77a32d50e0118",
      "f2a9697c6dbc43c1b9442c86385361c1",
      "6ae9032e999e4d8fb8404bb335f3ac10",
      "d5285f6c03b2415083c7cc9a987faea7",
      "d42411526104432ea59016eb46d6459b",
      "75a630ca72bd40029b07916ea90af913",
      "aeb37a9586e0421498b0df9ab9e76f98",
      "b25e64cf8ce54da7a5fb351a9c623dff",
      "30bbbb148f4145babeeab04d5a963837",
      "f21902de2431423ab3fd6cc47ba0b00e",
      "3a6be936991b4733a7e2b60161af60a4",
      "4582792e22db4410b35d9b4cbf3351ed",
      "dc339701682f4db580148e27202339dd",
      "48ef7789d7b94d89a3c69d5dc8fc58ba",
      "720a80507f004fb2a9a8be93bf409340",
      "813b37742fc1457c8f82ca7b06d2710c",
      "e461d241b1594fad8c0c63748368db19",
      "d042fe326c85419ba304fcada1a81eb1",
      "e29bec96af52492d82e907fe98c26307",
      "f0c49ea0f2e442f5aa63f7a5cf2d0e03",
      "f9a0de0dcf284e44a76176fe080a0a61",
      "d900927eb1644968988147d20fb4ccec",
      "90f689fec7de4d06a7c9c26fa6ceb486",
      "d588b2ab5d624ea1aa3df7f3c756ca88",
      "69847e38237f4d1a9df20904b3ffa396",
      "a758a84f81464ec89f50d594a405b0c8",
      "a480cd4646604357b93d2b48c1587961",
      "ed04dfba7b3949a788227a99730170f5",
      "125a979032d8448b9e80fdbb9e6f7391",
      "869fe9c834c3410b8fb5204476e2e147",
      "534021bfa8c64dd1932ee4cf83e51cb0",
      "80d267ce76754c83a4a52c8ef2b5cc02",
      "4d8f4a0fbf7d466e8e3be20d4a51734c",
      "c47af303003542f1aa2c59fbd68eb521",
      "c275e87973874d3b81be91bbb8638918",
      "af9f70c0f0e242babc502b19adeaffce",
      "b3eaad15719049b98d23a0a8b42775d7",
      "861a6dc7ad414b6f9a8da887249588b6",
      "40088ac633594ddeb6ebd7cfdc79626d",
      "3ba00d9bf9b94e01b15cfa9b25fcb5f0",
      "ffafe2a79fb1488db111729d98c424fe",
      "c375ad8a12a54e6b917b0c5e58adc70b",
      "3e9ffced9c404152a3e0a9102d419b37",
      "e1cd213f2dea40c19a41bcc2287d04e2",
      "f4bfc3e17fec4f9e9df703aa1d7ad495",
      "92778f71826646ffbe6c1d53d9fb66c0",
      "d183f8b5136943a3b12f1c1f9b01edbf",
      "020b84e26fcd41ad8a4077fc7ef5842c",
      "8159511f9d13492d83593f0923c5caf0",
      "70e20d131ac74a79832559ba18aa967b",
      "538222936dac4667b4c6c4dd454d644a",
      "5c93d606ece34e9cb15bada854a351d1",
      "1001bc0935c049ebac386557ff34319e",
      "7e40b84a89dc4684ab0de926574284c0",
      "aa733f40de064fdcb468d4450b5213ab",
      "a16f25135e8a4a0eb74cfad325766805",
      "78b426271ffe41f99f26d62a4a424719",
      "ee9b9ad7db3848b599fa8770731b3efb",
      "381ae2622cc54dc8a79a0ab1c7f2f9e3",
      "67ab9ad0d22a42d099aef1e24c9c5c45",
      "88dc7dc2941e4dd2b8260848d7621bc6",
      "7b813a20c78a4c7492c346176dc0a937",
      "69a6eeb81c7f4b0db0920656245f68a4",
      "90c09371e592499fabdc47c30e94f991",
      "2c7077e9cd364f3dac60881eaa8ee67b",
      "91565a41fc1e4f47ad7588b00c057000",
      "e149b09f33794f11a7f90287c9933f26",
      "f69a9637cf1a43a790131c5c7c230e56",
      "0977a6da84804781942032605f97c7f9",
      "79628d3209d44ac3ab7e786039a0f133",
      "7ec2b9ef63674fd3b82d5c6a330825e6",
      "789889ecf56c44c58b1fb61d76c4cc5e",
      "76ccd763bff145e583df4fa75de9bc3c",
      "ea6fae5e6f3241c59804b18f6b407c80",
      "358e5e94f12c4de58d09c201430a46bd",
      "e3721f5b7be04507b0cad9f6ddf1411f",
      "248b3d19bc2f4e6c968d4b30da81010a",
      "0e23537852d9492cbbbd35e2d8d850a2",
      "e7bccb59049746f096d1d1fbdb6446b3",
      "a80cbf08e8e84209a5191c703b0e9700",
      "b88cb4d977394d32ad3df5b56af1fb19",
      "639029c86fe94e3b9f0cbfccef298450",
      "674a3931af59488cb0a19e25b01bd3cc",
      "3aa89785eece4c0ea7efe4d6260b768c",
      "6320e658e1f745c5b8496084dcf075ec",
      "4d4d8552c03f417e9039ee1d48301468",
      "97c75ce6f9034f4983b245134a98000e",
      "ea377299a47f4f4ba6e2042ecb612ff6",
      "f46ad2c2858842adaee5a214dbf2ae95",
      "9bb17e0bd3184775888cb599e83801a0",
      "09eca509a3e94399b5dac04963add65c",
      "a2c67e39380b424fb0a0de8474aa41cf",
      "85acfc04da394bada7a84525d5a2e97e",
      "f4e61ae891354ec082a763ba2e8b71a0",
      "4b191297ce294a39a7470892267cb9f8",
      "e769d0ac0e2e441ab64ad7ec35198bfa",
      "794e188e64e0455a9b7032c2331e4636",
      "a387ad55caf44ca98059c0c91265a1c2",
      "b8363510532548fba37070d6c94723ac",
      "fae824d387184dddb7663986a30d9edf",
      "be7e010e95e745289f9c5b99019d4369",
      "750d6607344b4f9a91b889a9adc75eeb",
      "e8c5342ed9194b3cba5806fb4beddabd",
      "1bd7a646c94542d2bdf8cf90e4fc5638",
      "6b6e5b2ffe6f45ae895e57a49f4458f9",
      "e5ad622d3bde490c8ca384ecd35ab299",
      "8d5ed8541bb649cd95e171f89dbb4870",
      "f3257ef711c34efd9a8b964f52f9c2fd",
      "83c3825506d0424a80bddfdd28218714",
      "b16ba89426474a67874ad70c828de3a2",
      "ca5432df161346779056aa14e91011f0",
      "3cfad4d05e21413a977b4c07be50a15b",
      "0808eed27a8d4c5c8fc77c4105d1dc92",
      "95d7d0d0c436484c9b728da5c6a189f9",
      "6d9ac63163ea40b0861f0fc6ea82242c",
      "dbc9f2ac439b4f188592c3ddce962318",
      "f0511a8aa32649f89d860b2303a25404",
      "6c0325c428ce4619a26f36ca4371c3ac",
      "b6236af056164211873722ca6a1fd66f",
      "9dabbebeec7b49178ae5bfb580e4bfcf",
      "c0731858a7b443bfa5ff84a97647ca72",
      "4019e5ccdf94463fa3616dbc3d8ab12e",
      "a12a03bd64804b83904d336da4937be0",
      "efbd64fc196c4c02a8d6d5abe35cbbd1",
      "a46d7d6ef41a48a8bba990eed0ec6574",
      "6e14a06795a148cbb1e7fb4fce5f9745",
      "d4d09373c09b4bf8b33cd795f637bc5e",
      "3fc68a2d4e484f8ebb808e2076a95a2c",
      "3d780fe2085745ac85c799c2e1a5f7a1",
      "0f752d1edce746a7817c31ac783dbd81",
      "4e5f14e61eb441d89fe7ffc571500cea",
      "69a485ecfcc7455aba6c3970d0cac9bd",
      "7d11e755181148109c6427af786d1f03",
      "d54678590ae744788ba6990ec94bf795",
      "222a64806eab47b2be6282c7fc852a43",
      "adaac7a43e444068856d0d62f7e497ee",
      "cc453354e28345188b8e0af5180fb5d9",
      "fc6cf01cebee4bf39c9847cf010bb656",
      "ef7bd43159b84222b7f2acfcba05ac87",
      "209f9a27f8f142b7a996e4e6e67b851f",
      "b6567acc8aa34d9c84a60e22608af8a3",
      "f435a1833fe74663b1180c2cc956e8b0",
      "a017fe609dd94e17b1a5adf9b80eff8a",
      "94db4890cc0848479b20ea9ca20d16e8",
      "72cac06dca5d47efaa43ea21e7dcdaee",
      "50e3e30428794d3cb18c42e0a594d4bd",
      "82c85b385b7d49a3bfa2e4af6382ce66",
      "86bd58552403479dacba0e1244e27975",
      "ac727581f1134b959c1965329216224d",
      "ff461c2a63db4a0db925dbd32b702293",
      "d6ba4e003ade40bd90a751c0e9c6c10b",
      "3b00c5ebe3634d68b4c6a5e81138041e",
      "d73b5428ac134fcc9aca065a3dda03fe",
      "474883d30463449ebc2b6350c247e0ac",
      "6aab6dfb2fc64c91a96dab37e58676da",
      "d66f27e5a8c94edbb09efb26187f5a3f",
      "73ec3eb8f2df4db7988b0a9067122d6d",
      "dab2049a3b4040268d36e2ad1a99f3a8",
      "8dd8e7bdbe0f49be8c90d5e664273602",
      "815c2639bb07405f981bc334dbf47e82",
      "bcc4b7fa233b4716bb36c05617a366fe",
      "3fa2cee29b7747afbc0c1fd6424174bb",
      "2f46cf4960c641828e601cb2f1575e61",
      "134aa59ab8d8476b8e0e2e37ff20fcfb",
      "a885f160fa3d46b2b6671c5327fa5030",
      "86748db89bea4b67a45106169579eb22",
      "007e2ed4a5534887a93aae45ba517691",
      "841089a1ad9242deb4f9bdd6ace38084",
      "fc48d9ffa77340a898eb21458604bd75",
      "d4af6919b40947ac8ef02e84d07bf86b",
      "e9e3f087df574f1593f22b83055f4368",
      "5dd6564845124dc6a522a6bfcc1f9d86",
      "ccd752ea44c24d578b120c50f310c8bf",
      "eee61ed9f73a4da6a78dc2d1c723bd33",
      "35ab0077e25d4feb8ecaba56a71bd115",
      "8a21d9b2b1bb49618161145f230ee2e0",
      "6d034099b1324d58b900fe8f875db74f",
      "7e81bb1b21424e8b8d1c536ab229cb4e",
      "89da45fd47724eda9bfd5a101dd8cac9",
      "ddac7587dbd745fc8d8b800e69edbdb1",
      "85fcd5f97371445dae33ea2d16caa308",
      "d7a89646c75f464eaec79ba924d47304",
      "21b41a8f8b714c38afa9aa243ad75a82",
      "5e02674f36a148568855161f5a773a8b",
      "5c18ca19f99047b6833f26a271aff2ae",
      "a471da4668e9434492ae0cd357d8cacd",
      "44f80b0bf75f42aead1c2f35c84e63f0",
      "938fb17740d84b809ee828e3ebb88a8b",
      "dd356a83459842a19088b2d941d10252",
      "f849623a70f34654955e95d18377bbc6",
      "c97f2808b91d46c7b96d43baaeab4ed8",
      "8ae177a402b34f698796be7b06b4fda6",
      "fa761bd3ed574db7b30dae43304de2c0",
      "f0f90611842e461881bc984b746ec10f",
      "bbdd718a7ee040039ba0dbc091c23eb9",
      "0fd10dd1557e4c4a9182074db1a60ccf",
      "e9309e93f45648039e4e6e46de2701f2",
      "81fe99660fb041e198be210a5178e653",
      "48ae6dae8d58454ea03f4f48b99aa567",
      "2866021c4d674a55b2eaab3824eec887",
      "aa82c14aba694093a38a4b9f4116cd4d",
      "4441932a09f44f9c801767184ecc2de6",
      "09a648b14a0741a49d40cc86ff80079b",
      "d34815f30e0443c4bd877d829e4b9ff8",
      "d4a3b66e4e534755b25a66c6f8c58344",
      "123a0563198a4161a587d79562d59ab7",
      "23737a903b6d49d5ba0ba7029f514bd0",
      "93859022fe00487da363c178d9c2dba1",
      "983592e7837b4d1e8cf8bc076d211b89",
      "98d597219cb7454d8b23b37eae899e6b",
      "4ac40e3f568c4ea2b86280a51a61550e",
      "9c9dbe6ba34e4b169d5cb21573808409",
      "4d5f521d55ce43f9bd2c3f2ff4ab411b",
      "5a1de1ca446b45be990b1f4ae0646c7e",
      "8f69032a361d493d80211f22c6705af5",
      "b3d471338ac54c2bb590459dea130f3d",
      "ec03ec08e9e641af87c03a1e9a1e0621",
      "ee2ec4f8bc274465a6f1cfa64c9fd93f",
      "b3ca7be429df47d586f740f276542a39",
      "5bf1349378cf4adeb37bb92c005b9394",
      "b5591c2e1b004566a01866e3021baf03",
      "4ae461cd3b7742c5a77ba303cff76fb6",
      "d84f974afd8643edaa07bd627e5356a7",
      "5508a40f9d834bdb96cbd64a42728f8e",
      "fdf4d5ad34be42c69d88edc6a4005838",
      "34739be0d655417e9a9bb072a7a38347",
      "5338692fa99a4191b4459b14d7f1d939",
      "b103a55256dd43af80a97f45b73df6f1",
      "bfb4406f6b424b458bf6310a99a77971",
      "1767a09bd2c040bb97f7d0c3565b1c50",
      "300842b0eb0b4255ba89b301029635ee",
      "fcda43b72e1847eca34af7bd21674f4a",
      "bc34aec5580944e3863b869c849eae50",
      "0000b8d937474c1f8592d4a4072a104b",
      "ed960d3358f042a4ab3f0e76428bbe94",
      "4723423f8e3c474ca0460ac520a105d2",
      "15455780070049a983f67af62004f856",
      "ce882b6c4160441bac6c84797cea58a4",
      "6dec0bb07e0944f4a2713e1a1b1248ff",
      "62ba08ebc6074136af618db604155f9e",
      "a37c75251d374f599ce01bfb5f1081dd",
      "f889c52d9fd4427485352be194e5a431",
      "336bed6d0ffb4d319ea9a1c7bb2741bb",
      "d3dd5ad0405d4e53a4bb877efcb8f940",
      "2ec4a0e66dde47ffa5dcc8e3712584c2",
      "f1b9c0a0b7a44250a75d794c5d610875",
      "7b1b9d5013964fb78d703d7862a02f03",
      "7bf6a2c45c4a4b0db820267e899cd195",
      "dbde01efd25f4185a90bffdba45b65a7",
      "8e6c96b4745943e99d7aacc44330a9ea",
      "873f09a5b507444eae896e0518d7c684",
      "1277c5ee4f2b4808a9d325eeac0e32d3",
      "05c167e2b29e4ef4942b56cd795808d5",
      "e1d24dbdeb8f4a33a8563a9aaa17a496",
      "69b424ebcf4948d19bceeb6693ba8b2a",
      "5b26371094d34f009c838e3f1f1a8794",
      "22cbef3c24644298a0e655a5dea04e1e",
      "917ce56d5ce649ec9064cdac7afea2a5",
      "c5daa1279b544c61ab23b6885f1e8c90",
      "52a18cd81d6c4fa485f2be24922cc0df",
      "64fa8fe7c3974d4994042a95c931987b",
      "5694ae4124fc4ef3af51ba0c8c9d178e",
      "73408dcd1e674c57848683bfaba7d16e",
      "ec62461bec10497ab0ece856f34124c5",
      "576d90a5da174efba2ef39bf076db8e0",
      "5761992051234c3bb9117c2c26b0e1bd",
      "a808677d94ab4c21902f31a696759606",
      "99bab6c7605a4777917c70f19cc77a25",
      "92d2edb5bb7e4975a0feb40d90860ccf",
      "9607b22e18c74504b14525d984d8a0dd",
      "8c51560d2b1a407bb0fa103a5d7c46e7",
      "8ebc77c899404365b4fe02c96148e893",
      "0b3bc28f5adb4fea9d20d1a5a5d6bf91",
      "ed5691dd12d1420bbb1fe24b40d58d25",
      "acfd821732f84e7eaf4e59fb8a668636",
      "3ec6ad839de3406e8d984fa5f1ee35ad",
      "5ad1433abc924a119b73f27e01bb32af",
      "767e9276decf49b6ad3088f2c4e8ff00",
      "c93d0db5e2c348118a34dde1bc89c818",
      "5ea2faa693644917b4e9974bd205048f",
      "da07c258857e4269836b9ac1422a7bc8",
      "0c2cabbdc3454972aae17811a247feb4",
      "1e3482fb4fb340789d9c9a5d02411b49",
      "7b80801a798542269a23b8c375102724",
      "70c80af975a247dabd92ee56827c016b",
      "edb332bd335348e181f93d79e782eb35",
      "828cad09184a480aba904a788242fd04",
      "0564c2ed4cba4fe69a59eb45119ec280",
      "daf0e5b5709144a480e6e928efb38387",
      "da13f18231bf4ad4b74dfd1b3c83cfca",
      "e5cf04ea99fa4514af2924bfa92a4465",
      "d692e4821375401ba309243c54c549c0",
      "4121a9269ab04ee7835fc5d08ca2c3be",
      "2661b53e3e1249048c9ed7437343821c",
      "12ffcad401d1439a8de34b80fcd2eee1",
      "fc2be1f87a9a485383a438e07168f3f6",
      "30fcb3e6af7f4e9f9278106e69f749b8",
      "be92486fbc51410ca9b99985c73ae65e",
      "97699d44983448c0af2e4e3d43f7f4b1",
      "1b7db03ed93248f190d7555663c6bee9",
      "0bd57090c05d4e52819763a594021e8f",
      "ea17c58f88a74b41a2153e9a9dc4d0fd",
      "95de0f7139d04bddac7463ab2d643922",
      "028e58c4c62c4f8d973aba21d7bf51bb",
      "6b59246ffe284722a9399c1547672eaf",
      "ede809ef63854d109f668a828a09b32c",
      "e3e3adce28194936b853db2a10cc2de1",
      "288e2310f7f34238a5b71294036a5ff2",
      "77e662a284e44783ad4bc7ecfc0bb44e",
      "dee91e1878b346c59f54cbc88270704d",
      "99f847e27c234085bed5a840ae3bc752",
      "960bef0971d9428a98f9d3879cf10005",
      "f71489b93aac4d2489cc5c09a98901c5",
      "8a32629d247d48eea07818bf14ad22e9",
      "8b50eeaa4bd54cfdb1740631e95b9792",
      "3c1f1de3f14b438d9e7d3c3a16129903",
      "4931fd878da44edf9404f893a89ded3e",
      "6c0ba3fd30e74a069504dee150ac0112",
      "7d238c287ad94a5281a24a23dba46d3c",
      "292790d796054aaa972855dc4805bd90",
      "632afbe938694738b523dd535f2943eb",
      "900b2a6eeeab4fa6aaa38f7c4e10771b",
      "497d3e0cfea043168549d590654348f9",
      "b08557c7b1ed4a4cbb6e8037f340dcec",
      "c1aa5ca33cf94e3aa61572512b98ed5e",
      "fed7c31c69c94ae18eac5ba696e93359",
      "56046842a80243efadc7848fd33b89db",
      "89dc3a923ed44dfe81a953719eda378a",
      "a117fa8c0f5042ef928ca5b30feeccda",
      "72854b20558542a99ee875ca1a11c582",
      "c241f610b3084ccfbb9bfd1c15fcced9",
      "e07843dfeb7f40d78b24bb0d66dc5572",
      "ce2e17fec7d94f139eb4e9342f6446af",
      "496005f3af814bfd92b994fd463bb610",
      "4babd3383d5e44d6a332fdaa8eec530a",
      "c729eeb427b14e5a862546a2ee160246",
      "3b728929fbe04bf082f5370aaa68bcb4",
      "8070a59f6339469e85c7bfca07f9c515",
      "6aafea81347b4c649b3a521671b0bbdb",
      "fc74b9bc7c4641b28570caa4df4c1cff",
      "52ce4db2d4f841c8ab92400cdb118ff3"
     ]
    },
    "id": "nn32XaN0KK6R",
    "outputId": "5a757936-7534-4f2c-e60f-56a9affac619"
   },
   "outputs": [
    {
     "data": {
      "application/vnd.jupyter.widget-view+json": {
       "model_id": "d3efa770732d40aea8cd5f77836815ea",
       "version_major": 2,
       "version_minor": 0
      },
      "text/plain": [
       "tokenizer_config.json: 0.00B [00:00, ?B/s]"
      ]
     },
     "metadata": {},
     "output_type": "display_data"
    },
    {
     "data": {
      "application/vnd.jupyter.widget-view+json": {
       "model_id": "88d5e862e3c44c729f1b105cada9f585",
       "version_major": 2,
       "version_minor": 0
      },
      "text/plain": [
       "tokenizer.json:   0%|          | 0.00/27.9M [00:00<?, ?B/s]"
      ]
     },
     "metadata": {},
     "output_type": "display_data"
    },
    {
     "data": {
      "application/vnd.jupyter.widget-view+json": {
       "model_id": "c19016e696a2484ab2cb364b2d70f9da",
       "version_major": 2,
       "version_minor": 0
      },
      "text/plain": [
       "special_tokens_map.json:   0%|          | 0.00/98.0 [00:00<?, ?B/s]"
      ]
     },
     "metadata": {},
     "output_type": "display_data"
    },
    {
     "data": {
      "application/vnd.jupyter.widget-view+json": {
       "model_id": "972823cd280f492fa69cb429a6da8627",
       "version_major": 2,
       "version_minor": 0
      },
      "text/plain": [
       "chat_template.jinja: 0.00B [00:00, ?B/s]"
      ]
     },
     "metadata": {},
     "output_type": "display_data"
    },
    {
     "data": {
      "application/vnd.jupyter.widget-view+json": {
       "model_id": "577c655e348a49d0a6e70e6e3dc454ba",
       "version_major": 2,
       "version_minor": 0
      },
      "text/plain": [
       "config.json: 0.00B [00:00, ?B/s]"
      ]
     },
     "metadata": {},
     "output_type": "display_data"
    },
    {
     "data": {
      "application/vnd.jupyter.widget-view+json": {
       "model_id": "227ab6f2e4b54eee8257e55993bf32d4",
       "version_major": 2,
       "version_minor": 0
      },
      "text/plain": [
       "model.safetensors.index.json: 0.00B [00:00, ?B/s]"
      ]
     },
     "metadata": {},
     "output_type": "display_data"
    },
    {
     "data": {
      "application/vnd.jupyter.widget-view+json": {
       "model_id": "fd13f333379a4df281c2e2e556a6a2fd",
       "version_major": 2,
       "version_minor": 0
      },
      "text/plain": [
       "Fetching 3 files:   0%|          | 0/3 [00:00<?, ?it/s]"
      ]
     },
     "metadata": {},
     "output_type": "display_data"
    },
    {
     "data": {
      "application/vnd.jupyter.widget-view+json": {
       "model_id": "3d00600aafee40adbf8213c7fd90e130",
       "version_major": 2,
       "version_minor": 0
      },
      "text/plain": [
       "model-00000-of-00002.safetensors:   0%|          | 0.00/4.79G [00:00<?, ?B/s]"
      ]
     },
     "metadata": {},
     "output_type": "display_data"
    },
    {
     "data": {
      "application/vnd.jupyter.widget-view+json": {
       "model_id": "0897211ef4f948f5af72a5817aaec089",
       "version_major": 2,
       "version_minor": 0
      },
      "text/plain": [
       "model-00001-of-00002.safetensors:   0%|          | 0.00/4.80G [00:00<?, ?B/s]"
      ]
     },
     "metadata": {},
     "output_type": "display_data"
    },
    {
     "data": {
      "application/vnd.jupyter.widget-view+json": {
       "model_id": "3fb22b8c72aa435aa53c13c23140e239",
       "version_major": 2,
       "version_minor": 0
      },
      "text/plain": [
       "model-00002-of-00002.safetensors:   0%|          | 0.00/4.17G [00:00<?, ?B/s]"
      ]
     },
     "metadata": {},
     "output_type": "display_data"
    },
    {
     "data": {
      "application/vnd.jupyter.widget-view+json": {
       "model_id": "2b22a02240a24562bfc5c833e398a84d",
       "version_major": 2,
       "version_minor": 0
      },
      "text/plain": [
       "Fetching 40 files:   0%|          | 0/40 [00:00<?, ?it/s]"
      ]
     },
     "metadata": {},
     "output_type": "display_data"
    },
    {
     "data": {
      "application/vnd.jupyter.widget-view+json": {
       "model_id": "31049b7748254bc4a19d01837372caa3",
       "version_major": 2,
       "version_minor": 0
      },
      "text/plain": [
       "__init__.py:   0%|          | 0.00/179 [00:00<?, ?B/s]"
      ]
     },
     "metadata": {},
     "output_type": "display_data"
    },
    {
     "data": {
      "application/vnd.jupyter.widget-view+json": {
       "model_id": "3a530f86dd974011b90ef734e00fb5e0",
       "version_major": 2,
       "version_minor": 0
      },
      "text/plain": [
       "_finalize_matmul.py: 0.00B [00:00, ?B/s]"
      ]
     },
     "metadata": {},
     "output_type": "display_data"
    },
    {
     "data": {
      "application/vnd.jupyter.widget-view+json": {
       "model_id": "b34affa5ee29448d95fcead4734d43ac",
       "version_major": 2,
       "version_minor": 0
      },
      "text/plain": [
       "_masked_compaction.py:   0%|          | 0.00/814 [00:00<?, ?B/s]"
      ]
     },
     "metadata": {},
     "output_type": "display_data"
    },
    {
     "data": {
      "application/vnd.jupyter.widget-view+json": {
       "model_id": "aa9fa8cbe51448e9a4046018b58eddac",
       "version_major": 2,
       "version_minor": 0
      },
      "text/plain": [
       "_common.py: 0.00B [00:00, ?B/s]"
      ]
     },
     "metadata": {},
     "output_type": "display_data"
    },
    {
     "data": {
      "application/vnd.jupyter.widget-view+json": {
       "model_id": "ad35353514494e3ea57170d4838bca58",
       "version_major": 2,
       "version_minor": 0
      },
      "text/plain": [
       "matmul_ogs.py: 0.00B [00:00, ?B/s]"
      ]
     },
     "metadata": {},
     "output_type": "display_data"
    },
    {
     "data": {
      "application/vnd.jupyter.widget-view+json": {
       "model_id": "1df0588506764ca19669b244fdc21f48",
       "version_major": 2,
       "version_minor": 0
      },
      "text/plain": [
       "__init__.cpython-312.pyc:   0%|          | 0.00/220 [00:00<?, ?B/s]"
      ]
     },
     "metadata": {},
     "output_type": "display_data"
    },
    {
     "data": {
      "application/vnd.jupyter.widget-view+json": {
       "model_id": "54e70a226bcb41fca300da8141030158",
       "version_major": 2,
       "version_minor": 0
      },
      "text/plain": [
       "_ops.py:   0%|          | 0.00/201 [00:00<?, ?B/s]"
      ]
     },
     "metadata": {},
     "output_type": "display_data"
    },
    {
     "data": {
      "application/vnd.jupyter.widget-view+json": {
       "model_id": "67053c44fdd648b09fa60177372af879",
       "version_major": 2,
       "version_minor": 0
      },
      "text/plain": [
       "compaction.py: 0.00B [00:00, ?B/s]"
      ]
     },
     "metadata": {},
     "output_type": "display_data"
    },
    {
     "data": {
      "application/vnd.jupyter.widget-view+json": {
       "model_id": "5665ed4ed2a546bfabb244a3d4a85319",
       "version_major": 2,
       "version_minor": 0
      },
      "text/plain": [
       "_matmul_ogs.py: 0.00B [00:00, ?B/s]"
      ]
     },
     "metadata": {},
     "output_type": "display_data"
    },
    {
     "data": {
      "application/vnd.jupyter.widget-view+json": {
       "model_id": "6f1cb24595344d9980f77a32d50e0118",
       "version_major": 2,
       "version_minor": 0
      },
      "text/plain": [
       "_p_matmul_ogs.py: 0.00B [00:00, ?B/s]"
      ]
     },
     "metadata": {},
     "output_type": "display_data"
    },
    {
     "data": {
      "application/vnd.jupyter.widget-view+json": {
       "model_id": "4582792e22db4410b35d9b4cbf3351ed",
       "version_major": 2,
       "version_minor": 0
      },
      "text/plain": [
       "opt_flags.py: 0.00B [00:00, ?B/s]"
      ]
     },
     "metadata": {},
     "output_type": "display_data"
    },
    {
     "data": {
      "application/vnd.jupyter.widget-view+json": {
       "model_id": "90f689fec7de4d06a7c9c26fa6ceb486",
       "version_major": 2,
       "version_minor": 0
      },
      "text/plain": [
       "opt_flags_amd.py: 0.00B [00:00, ?B/s]"
      ]
     },
     "metadata": {},
     "output_type": "display_data"
    },
    {
     "data": {
      "application/vnd.jupyter.widget-view+json": {
       "model_id": "c47af303003542f1aa2c59fbd68eb521",
       "version_major": 2,
       "version_minor": 0
      },
      "text/plain": [
       "opt_flags_nvidia.py: 0.00B [00:00, ?B/s]"
      ]
     },
     "metadata": {},
     "output_type": "display_data"
    },
    {
     "data": {
      "application/vnd.jupyter.widget-view+json": {
       "model_id": "f4bfc3e17fec4f9e9df703aa1d7ad495",
       "version_major": 2,
       "version_minor": 0
      },
      "text/plain": [
       "numerics.py: 0.00B [00:00, ?B/s]"
      ]
     },
     "metadata": {},
     "output_type": "display_data"
    },
    {
     "data": {
      "application/vnd.jupyter.widget-view+json": {
       "model_id": "a16f25135e8a4a0eb74cfad325766805",
       "version_major": 2,
       "version_minor": 0
      },
      "text/plain": [
       "flexpoint.py: 0.00B [00:00, ?B/s]"
      ]
     },
     "metadata": {},
     "output_type": "display_data"
    },
    {
     "data": {
      "application/vnd.jupyter.widget-view+json": {
       "model_id": "e149b09f33794f11a7f90287c9933f26",
       "version_major": 2,
       "version_minor": 0
      },
      "text/plain": [
       "mxfp.py: 0.00B [00:00, ?B/s]"
      ]
     },
     "metadata": {},
     "output_type": "display_data"
    },
    {
     "data": {
      "application/vnd.jupyter.widget-view+json": {
       "model_id": "0e23537852d9492cbbbd35e2d8d850a2",
       "version_major": 2,
       "version_minor": 0
      },
      "text/plain": [
       "_downcast_to_mxfp.py: 0.00B [00:00, ?B/s]"
      ]
     },
     "metadata": {},
     "output_type": "display_data"
    },
    {
     "data": {
      "application/vnd.jupyter.widget-view+json": {
       "model_id": "f46ad2c2858842adaee5a214dbf2ae95",
       "version_major": 2,
       "version_minor": 0
      },
      "text/plain": [
       "_upcast_from_mxfp.py: 0.00B [00:00, ?B/s]"
      ]
     },
     "metadata": {},
     "output_type": "display_data"
    },
    {
     "data": {
      "application/vnd.jupyter.widget-view+json": {
       "model_id": "fae824d387184dddb7663986a30d9edf",
       "version_major": 2,
       "version_minor": 0
      },
      "text/plain": [
       "reduce_bitmatrix.py: 0.00B [00:00, ?B/s]"
      ]
     },
     "metadata": {},
     "output_type": "display_data"
    },
    {
     "data": {
      "application/vnd.jupyter.widget-view+json": {
       "model_id": "ca5432df161346779056aa14e91011f0",
       "version_major": 2,
       "version_minor": 0
      },
      "text/plain": [
       "routing.py: 0.00B [00:00, ?B/s]"
      ]
     },
     "metadata": {},
     "output_type": "display_data"
    },
    {
     "data": {
      "application/vnd.jupyter.widget-view+json": {
       "model_id": "4019e5ccdf94463fa3616dbc3d8ab12e",
       "version_major": 2,
       "version_minor": 0
      },
      "text/plain": [
       "_expt_data.py: 0.00B [00:00, ?B/s]"
      ]
     },
     "metadata": {},
     "output_type": "display_data"
    },
    {
     "data": {
      "application/vnd.jupyter.widget-view+json": {
       "model_id": "7d11e755181148109c6427af786d1f03",
       "version_major": 2,
       "version_minor": 0
      },
      "text/plain": [
       "_routing_compute.py: 0.00B [00:00, ?B/s]"
      ]
     },
     "metadata": {},
     "output_type": "display_data"
    },
    {
     "data": {
      "application/vnd.jupyter.widget-view+json": {
       "model_id": "94db4890cc0848479b20ea9ca20d16e8",
       "version_major": 2,
       "version_minor": 0
      },
      "text/plain": [
       "proton_opts.py:   0%|          | 0.00/456 [00:00<?, ?B/s]"
      ]
     },
     "metadata": {},
     "output_type": "display_data"
    },
    {
     "data": {
      "application/vnd.jupyter.widget-view+json": {
       "model_id": "6aab6dfb2fc64c91a96dab37e58676da",
       "version_major": 2,
       "version_minor": 0
      },
      "text/plain": [
       "specialize.py: 0.00B [00:00, ?B/s]"
      ]
     },
     "metadata": {},
     "output_type": "display_data"
    },
    {
     "data": {
      "application/vnd.jupyter.widget-view+json": {
       "model_id": "86748db89bea4b67a45106169579eb22",
       "version_major": 2,
       "version_minor": 0
      },
      "text/plain": [
       "swiglu.py: 0.00B [00:00, ?B/s]"
      ]
     },
     "metadata": {},
     "output_type": "display_data"
    },
    {
     "data": {
      "application/vnd.jupyter.widget-view+json": {
       "model_id": "6d034099b1324d58b900fe8f875db74f",
       "version_major": 2,
       "version_minor": 0
      },
      "text/plain": [
       "_swiglu.py: 0.00B [00:00, ?B/s]"
      ]
     },
     "metadata": {},
     "output_type": "display_data"
    },
    {
     "data": {
      "application/vnd.jupyter.widget-view+json": {
       "model_id": "938fb17740d84b809ee828e3ebb88a8b",
       "version_major": 2,
       "version_minor": 0
      },
      "text/plain": [
       "target_info.py: 0.00B [00:00, ?B/s]"
      ]
     },
     "metadata": {},
     "output_type": "display_data"
    },
    {
     "data": {
      "application/vnd.jupyter.widget-view+json": {
       "model_id": "48ae6dae8d58454ea03f4f48b99aa567",
       "version_major": 2,
       "version_minor": 0
      },
      "text/plain": [
       "layout.py: 0.00B [00:00, ?B/s]"
      ]
     },
     "metadata": {},
     "output_type": "display_data"
    },
    {
     "data": {
      "application/vnd.jupyter.widget-view+json": {
       "model_id": "98d597219cb7454d8b23b37eae899e6b",
       "version_major": 2,
       "version_minor": 0
      },
      "text/plain": [
       "tensor.py: 0.00B [00:00, ?B/s]"
      ]
     },
     "metadata": {},
     "output_type": "display_data"
    },
    {
     "data": {
      "application/vnd.jupyter.widget-view+json": {
       "model_id": "b5591c2e1b004566a01866e3021baf03",
       "version_major": 2,
       "version_minor": 0
      },
      "text/plain": [
       "base.py:   0%|          | 0.00/352 [00:00<?, ?B/s]"
      ]
     },
     "metadata": {},
     "output_type": "display_data"
    },
    {
     "data": {
      "application/vnd.jupyter.widget-view+json": {
       "model_id": "fcda43b72e1847eca34af7bd21674f4a",
       "version_major": 2,
       "version_minor": 0
      },
      "text/plain": [
       "hopper_scale.py: 0.00B [00:00, ?B/s]"
      ]
     },
     "metadata": {},
     "output_type": "display_data"
    },
    {
     "data": {
      "application/vnd.jupyter.widget-view+json": {
       "model_id": "336bed6d0ffb4d319ea9a1c7bb2741bb",
       "version_major": 2,
       "version_minor": 0
      },
      "text/plain": [
       "hopper_value.py: 0.00B [00:00, ?B/s]"
      ]
     },
     "metadata": {},
     "output_type": "display_data"
    },
    {
     "data": {
      "application/vnd.jupyter.widget-view+json": {
       "model_id": "e1d24dbdeb8f4a33a8563a9aaa17a496",
       "version_major": 2,
       "version_minor": 0
      },
      "text/plain": [
       "strided.py:   0%|          | 0.00/337 [00:00<?, ?B/s]"
      ]
     },
     "metadata": {},
     "output_type": "display_data"
    },
    {
     "data": {
      "application/vnd.jupyter.widget-view+json": {
       "model_id": "576d90a5da174efba2ef39bf076db8e0",
       "version_major": 2,
       "version_minor": 0
      },
      "text/plain": [
       "testing.py: 0.00B [00:00, ?B/s]"
      ]
     },
     "metadata": {},
     "output_type": "display_data"
    },
    {
     "data": {
      "application/vnd.jupyter.widget-view+json": {
       "model_id": "3ec6ad839de3406e8d984fa5f1ee35ad",
       "version_major": 2,
       "version_minor": 0
      },
      "text/plain": [
       "_topk_backward.py: 0.00B [00:00, ?B/s]"
      ]
     },
     "metadata": {},
     "output_type": "display_data"
    },
    {
     "data": {
      "application/vnd.jupyter.widget-view+json": {
       "model_id": "828cad09184a480aba904a788242fd04",
       "version_major": 2,
       "version_minor": 0
      },
      "text/plain": [
       "blackwell_scale.py: 0.00B [00:00, ?B/s]"
      ]
     },
     "metadata": {},
     "output_type": "display_data"
    },
    {
     "data": {
      "application/vnd.jupyter.widget-view+json": {
       "model_id": "be92486fbc51410ca9b99985c73ae65e",
       "version_major": 2,
       "version_minor": 0
      },
      "text/plain": [
       "topk.py: 0.00B [00:00, ?B/s]"
      ]
     },
     "metadata": {},
     "output_type": "display_data"
    },
    {
     "data": {
      "application/vnd.jupyter.widget-view+json": {
       "model_id": "77e662a284e44783ad4bc7ecfc0bb44e",
       "version_major": 2,
       "version_minor": 0
      },
      "text/plain": [
       "_topk_forward.py: 0.00B [00:00, ?B/s]"
      ]
     },
     "metadata": {},
     "output_type": "display_data"
    },
    {
     "data": {
      "application/vnd.jupyter.widget-view+json": {
       "model_id": "292790d796054aaa972855dc4805bd90",
       "version_major": 2,
       "version_minor": 0
      },
      "text/plain": [
       "Loading checkpoint shards:   0%|          | 0/3 [00:00<?, ?it/s]"
      ]
     },
     "metadata": {},
     "output_type": "display_data"
    },
    {
     "data": {
      "application/vnd.jupyter.widget-view+json": {
       "model_id": "c241f610b3084ccfbb9bfd1c15fcced9",
       "version_major": 2,
       "version_minor": 0
      },
      "text/plain": [
       "generation_config.json:   0%|          | 0.00/165 [00:00<?, ?B/s]"
      ]
     },
     "metadata": {},
     "output_type": "display_data"
    }
   ],
   "source": [
    "tokenizer, model = setup_free_openai()"
   ]
  },
  {
   "cell_type": "markdown",
   "metadata": {
    "id": "YBM5b--TFjjw"
   },
   "source": [
    "## App\n",
    "- to run fullscreen click on the link below (after * Running on public URL:)\n",
    "- you can also share this link with others; it will work as long as your notebook is running"
   ]
  },
  {
   "cell_type": "code",
   "execution_count": null,
   "metadata": {
    "colab": {
     "base_uri": "https://localhost:8080/",
     "height": 610
    },
    "id": "DyteFfbnKCSw",
    "outputId": "40052592-1d38-458d-a078-35afe037bd48"
   },
   "outputs": [
    {
     "name": "stdout",
     "output_type": "stream",
     "text": [
      "Colab notebook detected. To show errors in colab notebook, set debug=True in launch()\n",
      "* Running on public URL: https://9a445b0e0782b74a5c.gradio.live\n",
      "\n",
      "This share link expires in 1 week. For free permanent hosting and GPU upgrades, run `gradio deploy` from the terminal in the working directory to deploy to Hugging Face Spaces (https://huggingface.co/spaces)\n"
     ]
    },
    {
     "data": {
      "text/html": [
       "<div><iframe src=\"https://9a445b0e0782b74a5c.gradio.live\" width=\"100%\" height=\"500\" allow=\"autoplay; camera; microphone; clipboard-read; clipboard-write;\" frameborder=\"0\" allowfullscreen></iframe></div>"
      ],
      "text/plain": [
       "<IPython.core.display.HTML object>"
      ]
     },
     "metadata": {},
     "output_type": "display_data"
    }
   ],
   "source": [
    "chatbot()"
   ]
  },
  {
   "cell_type": "code",
   "execution_count": null,
   "metadata": {
    "id": "BFDVnTg6dbVb"
   },
   "outputs": [],
   "source": []
  }
 ],
 "metadata": {
  "accelerator": "GPU",
  "colab": {
   "collapsed_sections": [
    "Wod7m66QpLlG",
    "f1JLPO4yrI9c"
   ],
   "gpuType": "L4",
   "machine_shape": "hm",
   "provenance": []
  },
  "kernelspec": {
   "display_name": "Python 3",
   "language": "python",
   "name": "python3"
  },
  "language_info": {
   "codemirror_mode": {
    "name": "ipython",
    "version": 3
   },
   "file_extension": ".py",
   "mimetype": "text/x-python",
   "name": "python",
   "nbconvert_exporter": "python",
   "pygments_lexer": "ipython3",
   "version": "3.8.8"
  }
 },
 "nbformat": 4,
 "nbformat_minor": 1
}
