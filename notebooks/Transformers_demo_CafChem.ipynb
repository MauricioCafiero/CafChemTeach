{
 "cells": [
  {
   "cell_type": "markdown",
   "metadata": {
    "id": "nBRQ0yawiPCv"
   },
   "source": [
    "#CafChem Teaching - Transformers demo.\n",
    "\n",
    "[![Open In Colab](https://colab.research.google.com/assets/colab-badge.svg)](https://colab.research.google.com/github/MauricioCafiero/CafChemTeach/blob/main/notebooks/Transformers_demo_CafChem.ipynb)\n",
    "\n",
    "## This notebook allows you to:\n",
    "- See how decoders generate text\n",
    "- See how encoders fill in text.\n",
    "\n",
    "## Requirements:\n",
    "- It will install all needed libraries.\n",
    "- You will need a HuggingFace token saved as a secret\n",
    "- Needs at least L4 GPU for memory and speed"
   ]
  },
  {
   "cell_type": "code",
   "execution_count": 6,
   "metadata": {
    "colab": {
     "base_uri": "https://localhost:8080/"
    },
    "id": "7V0avh4AGWM0",
    "outputId": "321487f4-0b11-4d54-ae05-c299e71a5b23"
   },
   "outputs": [
    {
     "name": "stdout",
     "output_type": "stream",
     "text": [
      "Cloning into 'CafChemTeach'...\n",
      "remote: Enumerating objects: 254, done.\u001b[K\n",
      "remote: Counting objects: 100% (99/99), done.\u001b[K\n",
      "remote: Compressing objects: 100% (97/97), done.\u001b[K\n",
      "remote: Total 254 (delta 57), reused 2 (delta 2), pack-reused 155 (from 1)\u001b[K\n",
      "Receiving objects: 100% (254/254), 2.19 MiB | 5.84 MiB/s, done.\n",
      "Resolving deltas: 100% (131/131), done.\n"
     ]
    }
   ],
   "source": [
    "!git clone https://github.com/MauricioCafiero/CafChemTeach.git"
   ]
  },
  {
   "cell_type": "code",
   "execution_count": 2,
   "metadata": {
    "id": "0vleuu5riCHl"
   },
   "outputs": [],
   "source": [
    "import pandas as pd\n",
    "import numpy as np\n",
    "\n",
    "import CafChemTeach.CafChemTeach as cct"
   ]
  },
  {
   "cell_type": "markdown",
   "metadata": {
    "id": "QtNAbXa215f1"
   },
   "source": [
    "## Demonstrate Tokenization\n",
    "- set up tokenizer\n",
    "- visualize tokens and token ids"
   ]
  },
  {
   "cell_type": "code",
   "execution_count": null,
   "metadata": {
    "colab": {
     "base_uri": "https://localhost:8080/"
    },
    "id": "DdsdLaAG2BCF",
    "outputId": "949c1607-02fd-434b-cc39-7cd91c62cb86"
   },
   "outputs": [
    {
     "name": "stdout",
     "output_type": "stream",
     "text": [
      "microsoft/Phi-3.5-mini-instruct loaded!\n"
     ]
    }
   ],
   "source": [
    "model_name = \"microsoft/Phi-3.5-mini-instruct\"\n",
    "tokens = cct.token_demo(model_name)"
   ]
  },
  {
   "cell_type": "code",
   "execution_count": null,
   "metadata": {
    "colab": {
     "base_uri": "https://localhost:8080/"
    },
    "id": "lDjN9G5X2S8w",
    "outputId": "3e478a1a-95b9-40b9-fbca-da4ef861d30c"
   },
   "outputs": [
    {
     "name": "stdout",
     "output_type": "stream",
     "text": [
      "\u001b[0;30;48;2;102;194;165mI\u001b[0m \u001b[0;30;48;2;252;141;98m'\u001b[0m \u001b[0;30;48;2;141;160;203md\u001b[0m \u001b[0;30;48;2;231;138;195mnever\u001b[0m \u001b[0;30;48;2;166;216;84mseen\u001b[0m \u001b[0;30;48;2;255;217;47ma\u001b[0m \u001b[0;30;48;2;102;194;165mdog\u001b[0m \u001b[0;30;48;2;252;141;98mas\u001b[0m \u001b[0;30;48;2;141;160;203mred\u001b[0m \u001b[0;30;48;2;231;138;195mas\u001b[0m \u001b[0;30;48;2;166;216;84mthe\u001b[0m \u001b[0;30;48;2;255;217;47mC\u001b[0m \u001b[0;30;48;2;102;194;165mrim\u001b[0m \u001b[0;30;48;2;252;141;98mson\u001b[0m \u001b[0;30;48;2;141;160;203mH\u001b[0m \u001b[0;30;48;2;231;138;195mound\u001b[0m \u001b[0;30;48;2;166;216;84m,\u001b[0m \u001b[0;30;48;2;255;217;47mand\u001b[0m \u001b[0;30;48;2;102;194;165mI\u001b[0m \u001b[0;30;48;2;252;141;98m'\u001b[0m \u001b[0;30;48;2;141;160;203mve\u001b[0m \u001b[0;30;48;2;231;138;195mbeen\u001b[0m \u001b[0;30;48;2;166;216;84mlooking\u001b[0m \u001b[0;30;48;2;255;217;47mat\u001b[0m \u001b[0;30;48;2;102;194;165mdogs\u001b[0m \u001b[0;30;48;2;252;141;98mall\u001b[0m \u001b[0;30;48;2;141;160;203mmy\u001b[0m \u001b[0;30;48;2;231;138;195mlife\u001b[0m \u001b[0;30;48;2;166;216;84m.\u001b[0m "
     ]
    }
   ],
   "source": [
    "input_text = \"I'd never seen a dog as red as the Crimson Hound, and I've been looking at dogs all my life.\"\n",
    "tokens.show_tokens(input_text)"
   ]
  },
  {
   "cell_type": "code",
   "execution_count": null,
   "metadata": {
    "colab": {
     "base_uri": "https://localhost:8080/"
    },
    "id": "41biE4_-2oca",
    "outputId": "ddb7509a-1a3f-4497-db8c-05931604dd5d"
   },
   "outputs": [
    {
     "name": "stdout",
     "output_type": "stream",
     "text": [
      "\u001b[0;30;48;2;102;194;165m306\u001b[0m \u001b[0;30;48;2;252;141;98m29915\u001b[0m \u001b[0;30;48;2;141;160;203m29881\u001b[0m \u001b[0;30;48;2;231;138;195m2360\u001b[0m \u001b[0;30;48;2;166;216;84m3595\u001b[0m \u001b[0;30;48;2;255;217;47m263\u001b[0m \u001b[0;30;48;2;102;194;165m11203\u001b[0m \u001b[0;30;48;2;252;141;98m408\u001b[0m \u001b[0;30;48;2;141;160;203m2654\u001b[0m \u001b[0;30;48;2;231;138;195m408\u001b[0m \u001b[0;30;48;2;166;216;84m278\u001b[0m \u001b[0;30;48;2;255;217;47m315\u001b[0m \u001b[0;30;48;2;102;194;165m5632\u001b[0m \u001b[0;30;48;2;252;141;98m1100\u001b[0m \u001b[0;30;48;2;141;160;203m379\u001b[0m \u001b[0;30;48;2;231;138;195m618\u001b[0m \u001b[0;30;48;2;166;216;84m29892\u001b[0m \u001b[0;30;48;2;255;217;47m322\u001b[0m \u001b[0;30;48;2;102;194;165m306\u001b[0m \u001b[0;30;48;2;252;141;98m29915\u001b[0m \u001b[0;30;48;2;141;160;203m345\u001b[0m \u001b[0;30;48;2;231;138;195m1063\u001b[0m \u001b[0;30;48;2;166;216;84m3063\u001b[0m \u001b[0;30;48;2;255;217;47m472\u001b[0m \u001b[0;30;48;2;102;194;165m26361\u001b[0m \u001b[0;30;48;2;252;141;98m599\u001b[0m \u001b[0;30;48;2;141;160;203m590\u001b[0m \u001b[0;30;48;2;231;138;195m2834\u001b[0m \u001b[0;30;48;2;166;216;84m29889\u001b[0m "
     ]
    }
   ],
   "source": [
    "tokens.show_ids()"
   ]
  },
  {
   "cell_type": "markdown",
   "metadata": {
    "id": "NX06984T76-a"
   },
   "source": [
    "## Demonstrate transformer decoder autoregressive inference.\n",
    "- set-up model, tokenizer and device\n",
    "- call for inference\n",
    "- display results\n",
    "- can also call for the top *n* tokens at each step and display the results."
   ]
  },
  {
   "cell_type": "code",
   "execution_count": null,
   "metadata": {
    "colab": {
     "base_uri": "https://localhost:8080/",
     "height": 258,
     "referenced_widgets": [
      "84d632c0aee2496d8d79ed781718155a",
      "b257cf678a8445ac8924e9747ebb9331",
      "91d4d24561194e74beb15aa26e11c66b",
      "310a3b84ec904d0b82306cecd5054d5c",
      "395046f4653640e58f1afacfd75d8e59",
      "6bed3f8e0f8842b28191230d6c059df3",
      "901c835f3c8b44e6af1a835689e0e0d9",
      "9911a128f826473793ea77da95666347",
      "7080e2d3ae2f488291ede9353b244934",
      "1ef27e382f6f4122b8497596416f3a4c",
      "c012ea52f8b64b41b3801e10ebe126e0",
      "5baa93cca66b432198322afca2e16f10",
      "3884648d92fe4b1185c20dc423828792",
      "57a29f08de964f38992e1646cc68ef00",
      "a5b4f01c11a440fca436bf6707389a37",
      "459bca80d94f47eaa7564c018acaa4ca",
      "ac515b90eae6436a8e96b14b1b7cc036",
      "f545e2fd2435425aa81288977db141da",
      "0004d7f05ff3465d95bb9b5d82b4128f",
      "459c16bb7f2c4a8c8071bb8ef762e253",
      "66630099bf144a7599ef608864978982",
      "3930d89fd5b44d0a82b8bec184c91661",
      "86738bef332e415da8bc9fbd9e560017",
      "8e18d95fe6f84a989a249e832352d69d",
      "b105a25ca7af440a91c253695ba6abd1",
      "12c1c695ec1d4c57bb6617e35ee5cf64",
      "89349454411445a8aeffaf78f2425b5b",
      "b62d1d0dd79f4425a343ffa611176d9a",
      "ac4eaece05e847918fadb6fbbc2420ad",
      "c4afbe24f6d241ac85c1995b7fdaa968",
      "14bf1ada503845679244ac9d5a1f5f6f",
      "4642639ac70d483198e9b8bf1b154326",
      "8cdcf571136f426ba8345999774e0262",
      "781cf2408efc4d02ac4c647f40283b1b",
      "87358fbdc5ba4824930990c0eee82ee7",
      "057e19d5b8ab4d6288a82f82d4c10ea8",
      "eb942ae4f25b4abc822f0193c133ab91",
      "4c2bb4579f6d455388d8f7d375087e99",
      "640d75732db54b949029ce7a3f57f032",
      "4a7dd12980674afeb2c655153652dacc",
      "2ae2bfc474064fc2adc776c22d897b8b",
      "3ebfddf0d4f3424f9cc1e8d19adf8c6f",
      "cff37066e49d47b58122b5a4e42381dd",
      "eed1e33aaf6044c58f2ec15ca5a388b5",
      "a37c22fb4ed94ed080c7bab35ac463ce",
      "4788b9a3348b43fca622d024687914d5",
      "cc7f8bbb84fc4927a6ef8f3f6f7083e2",
      "f62c1b8ad0f74157a0a4ec40121a60a8",
      "39a0f983f22c4edf9d022d859ca42076",
      "a8177b1da3304f9a9920878dd4b77464",
      "97c2879748bd47619276e82509b7da8e",
      "1541e845fc7e4338a1d3b4f037af30aa",
      "6bf9003cec3d46f9b29869c006d69ff1",
      "f2c299176d504d7d814cd064aac83d8c",
      "ca7344eb9e084121996521f921383886",
      "49c4b47be2334bd986e9de2c0f7fa14a",
      "c22333237d0d49d2bd718ed208e18c58",
      "e62d5372ee2e4a29b878ff497ed354d7",
      "4d96f29ba7324102af332b9f8c8c103f",
      "ddae03899cb74c65bd180b619485cc38",
      "cd575148511c48bf8b2ffca31c370842",
      "ebe090e1b0c046f7ab7901574356fcf1",
      "539073324bfe40e4a5f30f89b1865f91",
      "f2635dbede3e4de7ae53be41b9ec8cc1",
      "d0f030d8b1154dce8f2666f8c8d45434",
      "af49efec9baf43c0be338d5526ccc5fd",
      "4d00faae898d47e085d5bbd8058072ec",
      "ce8d332f45c149b1b8f2f66162d5c0da",
      "7ffeded9eea745629ba3d833baaedc83",
      "e0f5765a3c1c47318da1025c666b6d3e",
      "09724a136daa4059b15c7aa7f4467c27",
      "b666db2c4719402caa03efcb7b3c21b0",
      "4c4edb73bb734672bc690945bc634920",
      "4d953fbe45794ac2ae6e3ce9eee23f18",
      "6ad2c11febf649b782b31919a67a3724",
      "b3c88dfda66a448fa3c71d26a787c79f",
      "ea324fe65b2c439c826b2e6d0de09991"
     ]
    },
    "id": "_gOyDvMkTRm7",
    "outputId": "2cbc72b8-714e-4f38-f685-5953d7e372f0"
   },
   "outputs": [
    {
     "data": {
      "application/vnd.jupyter.widget-view+json": {
       "model_id": "84d632c0aee2496d8d79ed781718155a",
       "version_major": 2,
       "version_minor": 0
      },
      "text/plain": [
       "config.json: 0.00B [00:00, ?B/s]"
      ]
     },
     "metadata": {},
     "output_type": "display_data"
    },
    {
     "data": {
      "application/vnd.jupyter.widget-view+json": {
       "model_id": "5baa93cca66b432198322afca2e16f10",
       "version_major": 2,
       "version_minor": 0
      },
      "text/plain": [
       "model.safetensors.index.json: 0.00B [00:00, ?B/s]"
      ]
     },
     "metadata": {},
     "output_type": "display_data"
    },
    {
     "data": {
      "application/vnd.jupyter.widget-view+json": {
       "model_id": "86738bef332e415da8bc9fbd9e560017",
       "version_major": 2,
       "version_minor": 0
      },
      "text/plain": [
       "Fetching 2 files:   0%|          | 0/2 [00:00<?, ?it/s]"
      ]
     },
     "metadata": {},
     "output_type": "display_data"
    },
    {
     "data": {
      "application/vnd.jupyter.widget-view+json": {
       "model_id": "781cf2408efc4d02ac4c647f40283b1b",
       "version_major": 2,
       "version_minor": 0
      },
      "text/plain": [
       "model-00002-of-00002.safetensors:   0%|          | 0.00/2.67G [00:00<?, ?B/s]"
      ]
     },
     "metadata": {},
     "output_type": "display_data"
    },
    {
     "data": {
      "application/vnd.jupyter.widget-view+json": {
       "model_id": "a37c22fb4ed94ed080c7bab35ac463ce",
       "version_major": 2,
       "version_minor": 0
      },
      "text/plain": [
       "model-00001-of-00002.safetensors:   0%|          | 0.00/4.97G [00:00<?, ?B/s]"
      ]
     },
     "metadata": {},
     "output_type": "display_data"
    },
    {
     "data": {
      "application/vnd.jupyter.widget-view+json": {
       "model_id": "49c4b47be2334bd986e9de2c0f7fa14a",
       "version_major": 2,
       "version_minor": 0
      },
      "text/plain": [
       "Loading checkpoint shards:   0%|          | 0/2 [00:00<?, ?it/s]"
      ]
     },
     "metadata": {},
     "output_type": "display_data"
    },
    {
     "data": {
      "application/vnd.jupyter.widget-view+json": {
       "model_id": "4d00faae898d47e085d5bbd8058072ec",
       "version_major": 2,
       "version_minor": 0
      },
      "text/plain": [
       "generation_config.json:   0%|          | 0.00/195 [00:00<?, ?B/s]"
      ]
     },
     "metadata": {},
     "output_type": "display_data"
    },
    {
     "name": "stdout",
     "output_type": "stream",
     "text": [
      "model setup complete: microsoft/Phi-3.5-mini-instruct\n"
     ]
    }
   ],
   "source": [
    "model_name = \"microsoft/Phi-3.5-mini-instruct\"\n",
    "\n",
    "tokenizer, model, device = cct.setup_decoder(model_name)"
   ]
  },
  {
   "cell_type": "code",
   "execution_count": null,
   "metadata": {
    "id": "-lIMwn7jUpIr"
   },
   "outputs": [],
   "source": [
    "input_txt = \"What country has the best cuisine?\"\n",
    "iterations = cct.decoder_inference(model, tokenizer,device, input_txt, n_steps= 200,\n",
    "                               TEMP = 0.4)"
   ]
  },
  {
   "cell_type": "code",
   "execution_count": null,
   "metadata": {
    "colab": {
     "base_uri": "https://localhost:8080/"
    },
    "id": "ejuX2omgWXDa",
    "outputId": "db7c7041-40e3-4c17-c9b7-a399ef9ce03c"
   },
   "outputs": [
    {
     "name": "stdout",
     "output_type": "stream",
     "text": [
      "Token               Percent Probability\n",
      "\n",
      "                     38.26%\n",
      "\n",
      "                     89.89%\n",
      "#                     24.20%\n",
      "Answer                93.87%\n",
      "\n",
      "                     96.28%\n",
      "Det                   91.45%\n",
      "erm                   100.00%\n",
      "ining                 100.00%\n",
      "the                   43.01%\n",
      "\"                     84.90%\n",
      "best                  99.99%\n",
      "\"                     99.85%\n",
      "cu                    96.08%\n",
      "is                    100.00%\n",
      "ine                   100.00%\n",
      "is                    71.78%\n",
      "highly                65.94%\n",
      "subject               100.00%\n",
      "ive                   100.00%\n",
      "and                   67.14%\n",
      "depends               44.23%\n",
      "on                    99.25%\n",
      "individual            55.17%\n",
      "prefer                16.58%\n",
      "ences                 100.00%\n",
      ",                     91.76%\n",
      "cultural              95.81%\n",
      "significance          19.98%\n",
      ",                     99.99%\n",
      "and                   58.72%\n",
      "personal              32.54%\n",
      "experiences           49.34%\n",
      ".                     82.15%\n",
      "C                     26.87%\n",
      "uis                   97.15%\n",
      "ines                  59.92%\n",
      "around                41.53%\n",
      "the                   100.00%\n",
      "world                 99.78%\n",
      "are                   89.72%\n",
      "celebrated            56.49%\n",
      "for                   99.81%\n",
      "their                 98.49%\n",
      "unique                90.34%\n",
      "flav                  94.22%\n",
      "ors                   99.85%\n",
      ",                     99.95%\n",
      "ing                   43.51%\n",
      "red                   99.98%\n",
      "ients                 99.94%\n",
      ",                     100.00%\n",
      "and                   68.20%\n",
      "cook                  41.83%\n",
      "ing                   100.00%\n",
      "techniques            84.64%\n",
      ".                     66.95%\n",
      "Here                  69.58%\n",
      "are                   98.40%\n",
      "a                     58.66%\n",
      "few                   99.97%\n",
      "cu                    22.71%\n",
      "is                    100.00%\n",
      "ines                  99.97%\n",
      "that                  58.57%\n",
      "are                   88.73%\n",
      "often                 63.96%\n",
      "pra                   29.47%\n",
      "ised                  100.00%\n",
      "for                   51.29%\n",
      "their                 98.60%\n",
      "excell                31.78%\n",
      "ence                  100.00%\n",
      ":                     73.20%\n",
      "\n",
      "                     99.99%\n",
      "\n",
      "                     100.00%\n",
      "1                     99.90%\n",
      ".                     100.00%\n",
      "**                    98.53%\n",
      "Ital                  79.52%\n",
      "ian                   99.77%\n",
      "C                     72.01%\n",
      "uis                   100.00%\n",
      "ine                   100.00%\n",
      "**                    97.42%\n",
      ":                     97.16%\n",
      "Kn                    78.26%\n",
      "own                   100.00%\n",
      "for                   99.43%\n",
      "its                   97.38%\n",
      "regional              35.86%\n",
      "divers                90.46%\n",
      "ity                   99.90%\n",
      ",                     79.30%\n",
      "fresh                 24.99%\n",
      "ing                   96.28%\n",
      "red                   100.00%\n",
      "ients                 100.00%\n",
      ",                     96.72%\n",
      "and                   68.01%\n",
      "emphas                20.23%\n",
      "is                    99.99%\n",
      "on                    100.00%\n",
      "simplicity            76.40%\n",
      ",                     43.69%\n",
      "Italian               80.58%\n",
      "food                  41.44%\n",
      "is                    36.90%\n",
      "bel                   8.00%\n",
      "oved                  100.00%\n",
      "world                 34.87%\n",
      "wide                  99.99%\n",
      ".                     89.87%\n",
      "D                     70.67%\n",
      "ishes                 99.99%\n",
      "like                  90.23%\n",
      "past                  65.35%\n",
      "a                     99.97%\n",
      ",                     98.24%\n",
      "ris                   35.85%\n",
      "otto                  99.95%\n",
      ",                     100.00%\n",
      "and                   66.85%\n",
      "p                     49.90%\n",
      "izza                  99.43%\n",
      "are                   39.96%\n",
      "icon                  32.73%\n",
      "ic                    99.97%\n",
      ".                     58.54%\n",
      "\n",
      "                     99.85%\n",
      "\n",
      "                     99.34%\n",
      "2                     100.00%\n",
      ".                     100.00%\n",
      "**                    100.00%\n",
      "J                     65.11%\n",
      "apan                  100.00%\n",
      "ese                   100.00%\n",
      "C                     99.89%\n",
      "uis                   100.00%\n",
      "ine                   100.00%\n",
      "**                    96.07%\n",
      ":                     99.96%\n",
      "Japanese              29.90%\n",
      "cu                    80.08%\n",
      "is                    100.00%\n",
      "ine                   100.00%\n",
      ",                     35.93%\n",
      "or                    38.55%\n",
      "\"                     61.16%\n",
      "w                     76.48%\n",
      "ash                   100.00%\n",
      "oku                   100.00%\n",
      ",\"                    96.97%\n",
      "is                    67.64%\n",
      "ren                   14.92%\n",
      "owned                 99.98%\n",
      "for                   99.98%\n",
      "its                   98.00%\n",
      "season                25.51%\n",
      "al                    84.23%\n",
      "ing                   78.38%\n",
      "red                   99.99%\n",
      "ients                 99.98%\n",
      ",                     94.04%\n",
      "presentation          36.64%\n",
      ",                     99.03%\n",
      "and                   97.72%\n",
      "balance               44.92%\n",
      "of                    86.57%\n",
      "flav                  92.96%\n",
      "ors                   98.93%\n",
      ".                     84.44%\n",
      "S                     82.79%\n",
      "ush                   99.75%\n",
      "i                     100.00%\n",
      ",                     88.22%\n",
      "s                     87.05%\n",
      "ash                   100.00%\n",
      "imi                   100.00%\n",
      ",                     100.00%\n",
      "and                   89.71%\n",
      "r                     61.17%\n",
      "amen                  100.00%\n",
      "are                   96.86%\n",
      "some                  21.92%\n",
      "of                    66.43%\n",
      "its                   62.80%\n",
      "most                  44.42%\n",
      "famous                83.87%\n",
      "d                     93.55%\n",
      "ishes                 100.00%\n",
      ".                     99.82%\n",
      "\n",
      "                     99.87%\n",
      "\n",
      "                     100.00%\n",
      "3                     100.00%\n",
      ".                     100.00%\n",
      "**                    100.00%\n",
      "M                     47.44%\n",
      "ex                    99.93%\n",
      "ican                  100.00%\n",
      "C                     99.99%\n"
     ]
    }
   ],
   "source": [
    "cct.display_autoregression(iterations)"
   ]
  },
  {
   "cell_type": "code",
   "execution_count": null,
   "metadata": {
    "colab": {
     "base_uri": "https://localhost:8080/"
    },
    "id": "bwykxh0cW35g",
    "outputId": "b541143b-6abf-44b8-a1b3-b815fa8f672e"
   },
   "outputs": [
    {
     "name": "stderr",
     "output_type": "stream",
     "text": [
      "/content/CafChemTeach/CafChemTeach.py:187: UserWarning: To copy construct from a tensor, it is recommended to use sourceTensor.detach().clone() or sourceTensor.detach().clone().requires_grad_(True), rather than torch.tensor(sourceTensor).\n",
      "  token_id.append(torch.tensor(topk).cuda())\n"
     ]
    }
   ],
   "source": [
    "prob_iterations = cct.decoder_list_probs(model, tokenizer,device, input_txt, n_steps= 100,\n",
    "                               TEMP = 0.4, number_to_return = 4)"
   ]
  },
  {
   "cell_type": "code",
   "execution_count": null,
   "metadata": {
    "colab": {
     "base_uri": "https://localhost:8080/"
    },
    "id": "oTZGWU3e4d4G",
    "outputId": "377f1c52-55c7-46a8-9dd6-ad008f40951e"
   },
   "outputs": [
    {
     "name": "stdout",
     "output_type": "stream",
     "text": [
      "========= Tokens and probabilities for step 0 =========\n",
      "The: 6.655997037887573\n",
      "It: 7.384850829839706\n",
      "This: 17.342497408390045\n",
      "\n",
      ": 38.25925290584564\n",
      "========= Tokens and probabilities for step 1 =========\n",
      "The: 0.6737851072102785\n",
      "This: 0.9265933185815811\n",
      "A: 1.0211441665887833\n",
      "\n",
      ": 89.89120125770569\n",
      "========= Tokens and probabilities for step 2 =========\n",
      "There: 5.205363035202026\n",
      "This: 5.806492269039154\n",
      "Answer: 6.032939255237579\n",
      "#: 24.196580052375793\n",
      "========= Tokens and probabilities for step 3 =========\n",
      "Response: 0.17670115921646357\n",
      "Comple: 0.25505993980914354\n",
      ": 4.892613738775253\n",
      "Answer: 93.87084245681763\n",
      "========= Tokens and probabilities for step 4 =========\n",
      "The: 0.044869541306979954\n",
      ": 1.4489433728158474\n",
      ":: 1.9584879279136658\n",
      "\n",
      ": 96.27746343612671\n",
      "========= Tokens and probabilities for step 5 =========\n",
      "\n",
      ": 0.42711663991212845\n",
      "It: 2.1772265434265137\n",
      "The: 4.131334275007248\n",
      "Det: 91.45060181617737\n",
      "========= Tokens and probabilities for step 6 =========\n",
      "em: 1.2871512744538904e-06\n",
      "ract: 1.5993423474469637e-06\n",
      "ect: 1.8604441720526665e-05\n",
      "erm: 99.99997615814209\n",
      "========= Tokens and probabilities for step 7 =========\n",
      "ine: 0.0001852517357292527\n",
      "ing: 0.00025705239750095643\n",
      "ination: 0.00027551775474421447\n",
      "ining: 99.9990463256836\n",
      "========= Tokens and probabilities for step 8 =========\n",
      "a: 0.2612324198707938\n",
      "\": 2.935514785349369\n",
      "the: 43.005964159965515\n",
      "which: 53.73740792274475\n",
      "========= Tokens and probabilities for step 9 =========\n",
      "cu: 0.0004612608790921513\n",
      "one: 0.00047610083129256964\n",
      "single: 0.0013593150470114779\n",
      "country: 99.99651908874512\n",
      "========= Tokens and probabilities for step 10 =========\n",
      "\": 0.01257994445040822\n",
      "poss: 0.019769225036725402\n",
      "': 0.02609184302855283\n",
      "has: 99.93345141410828\n",
      "========= Tokens and probabilities for step 11 =========\n",
      "“: 0.0036661946069216356\n",
      "': 0.03468490613158792\n",
      "\": 6.21926411986351\n",
      "the: 93.7416136264801\n",
      "========= Tokens and probabilities for step 12 =========\n",
      "“: 0.10282323928549886\n",
      "': 0.623138714581728\n",
      "best: 5.521422252058983\n",
      "\": 93.74255537986755\n",
      "========= Tokens and probabilities for step 13 =========\n",
      "Best: 0.00011077066801590263\n",
      "the: 0.0002949161398646538\n",
      "bet: 0.0014092113815422636\n",
      "best: 99.99809265136719\n",
      "========= Tokens and probabilities for step 14 =========\n",
      ",\": 9.011351949084201e-05\n",
      "”: 0.0008784595593169797\n",
      "cu: 0.23685700725764036\n",
      "\": 99.76209998130798\n",
      "========= Tokens and probabilities for step 15 =========\n",
      "national: 2.4873128268154687e-05\n",
      "cul: 0.00026840364171221154\n",
      "food: 0.008300535409944132\n",
      "cu: 99.99133348464966\n",
      "========= Tokens and probabilities for step 16 =========\n",
      "ison: 6.862573703747543e-09\n",
      "inary: 2.052172876076952e-08\n",
      "ine: 2.0769013531207747e-05\n",
      "is: 99.99997615814209\n",
      "========= Tokens and probabilities for step 17 =========\n",
      "inity: 3.142441602071999e-10\n",
      "INE: 3.7607521263804955e-10\n",
      "ines: 5.490678134378868e-07\n",
      "ine: 100.0\n",
      "========= Tokens and probabilities for step 18 =========\n",
      "often: 0.015360888210125268\n",
      "depends: 0.05291943089105189\n",
      "can: 4.598654434084892\n",
      "is: 95.28356790542603\n",
      "========= Tokens and probabilities for step 19 =========\n",
      "inher: 0.8831869810819626\n",
      "a: 2.6056328788399696\n",
      "subject: 38.75636160373688\n",
      "highly: 56.611305475234985\n",
      "========= Tokens and probabilities for step 20 =========\n",
      "challeng: 2.5175944529109984e-05\n",
      "dependent: 3.438178168835293e-05\n",
      "deb: 9.30676719690382e-05\n",
      "subject: 99.99980926513672\n",
      "========= Tokens and probabilities for step 21 =========\n",
      "matter: 2.719648506399608e-07\n",
      "iv: 5.996768415172937e-07\n",
      "to: 1.5626940808033396e-05\n",
      "ive: 99.99998807907104\n",
      "========= Tokens and probabilities for step 22 =========\n",
      "since: 0.21747744176536798\n",
      "as: 13.753972947597504\n",
      ",: 22.461235523223877\n",
      "and: 63.42304348945618\n",
      "========= Tokens and probabilities for step 23 =========\n",
      "dependent: 3.0932536348700523\n",
      "can: 11.93297952413559\n",
      "var: 24.068067967891693\n",
      "depends: 52.04888582229614\n",
      "========= Tokens and probabilities for step 24 =========\n",
      "largely: 0.08129689376801252\n",
      "upon: 0.09245766559615731\n",
      "greatly: 0.8417471311986446\n",
      "on: 98.93162250518799\n",
      "========= Tokens and probabilities for step 25 =========\n",
      "cultural: 2.1548697724938393\n",
      "various: 6.153775379061699\n",
      "personal: 36.50808334350586\n",
      "individual: 53.32237482070923\n",
      "========= Tokens and probabilities for step 26 =========\n",
      "pal: 0.2661248901858926\n",
      "prefer: 13.574880361557007\n",
      "taste: 24.643464386463165\n",
      "t: 61.337077617645264\n",
      "========= Tokens and probabilities for step 27 =========\n",
      "aster: 3.029743211868663e-06\n",
      "asted: 1.3187239744638646e-05\n",
      "aste: 1.9740814138913265e-05\n",
      "ast: 99.99996423721313\n",
      "========= Tokens and probabilities for step 28 =========\n",
      "ers: 2.4510191565241257e-05\n",
      "ings: 4.176407628619927e-05\n",
      "prefer: 6.057243240320531e-05\n",
      "es: 99.99983310699463\n",
      "========= Tokens and probabilities for step 29 =========\n",
      "as: 0.037567265098914504\n",
      ".: 0.2937810495495796\n",
      "and: 6.3980236649513245\n",
      ",: 93.26065182685852\n",
      "========= Tokens and probabilities for step 30 =========\n",
      "cul: 0.33579382579773664\n",
      "personal: 0.4612645134329796\n",
      "prefer: 0.6324491463601589\n",
      "cultural: 97.82354831695557\n",
      "========= Tokens and probabilities for step 31 =========\n",
      "influ: 6.657443195581436\n",
      "appreci: 13.357244431972504\n",
      "background: 28.547707200050354\n",
      "prefer: 28.59817147254944\n",
      "========= Tokens and probabilities for step 32 =========\n",
      "encies: 1.58013104822885e-06\n",
      "ances: 3.1178917225815894e-06\n",
      "enses: 3.6879704623515863e-06\n",
      "ences: 99.99998807907104\n",
      "========= Tokens and probabilities for step 33 =========\n",
      "or: 9.375654030918668e-06\n",
      "as: 2.4835344447637908e-05\n",
      "and: 0.009939578012563288\n",
      ",: 99.99001026153564\n",
      "========= Tokens and probabilities for step 34 =========\n",
      "di: 0.5543647333979607\n",
      "cul: 1.0118987411260605\n",
      "personal: 1.290048286318779\n",
      "and: 96.41481041908264\n",
      "========= Tokens and probabilities for step 35 =========\n",
      "the: 3.9024077355861664\n",
      "cul: 11.76782175898552\n",
      "criteria: 17.498721182346344\n",
      "personal: 51.21409296989441\n",
      "========= Tokens and probabilities for step 36 =========\n",
      "criteria: 0.46801003627479076\n",
      "opinions: 0.821430142968893\n",
      "experience: 1.1722896248102188\n",
      "experiences: 95.74968814849854\n",
      "========= Tokens and probabilities for step 37 =========\n",
      ",: 0.024665039381943643\n",
      "in: 0.032392656430602074\n",
      "with: 12.301593273878098\n",
      ".: 87.61324286460876\n",
      "========= Tokens and probabilities for step 38 =========\n",
      "Each: 4.340147599577904\n",
      "D: 4.344222322106361\n",
      "Food: 10.74782907962799\n",
      "C: 60.651588439941406\n",
      "========= Tokens and probabilities for step 39 =========\n",
      "riteria: 0.0009265173503081314\n",
      "ele: 0.0016050487829488702\n",
      "ul: 2.068771980702877\n",
      "uis: 97.92608618736267\n",
      "========= Tokens and probabilities for step 40 =========\n",
      "inity: 0.0004858571173826931\n",
      "inen: 0.000901265684660757\n",
      "ines: 16.918988525867462\n",
      "ine: 83.07669758796692\n",
      "========= Tokens and probabilities for step 41 =========\n",
      "reflect: 4.955614358186722\n",
      "var: 9.483104199171066\n",
      "can: 13.399721682071686\n",
      "is: 58.858609199523926\n",
      "========= Tokens and probabilities for step 42 =========\n",
      "often: 12.174490094184875\n",
      "an: 16.488397121429443\n",
      "deeply: 30.00689446926117\n",
      "a: 37.09288239479065\n",
      "========= Tokens and probabilities for step 43 =========\n",
      "complex: 1.7130803316831589\n",
      "deeply: 1.7355628311634064\n",
      "form: 2.4057695642113686\n",
      "reflection: 82.43761658668518\n",
      "========= Tokens and probabilities for step 44 =========\n",
      "both: 7.185213917182409e-05\n",
      "and: 0.00022764288587495685\n",
      "not: 0.0010082694643642753\n",
      "of: 99.99867677688599\n",
      "========= Tokens and probabilities for step 45 =========\n",
      "its: 1.7313705757260323\n",
      "history: 2.277372218668461\n",
      "the: 4.715230315923691\n",
      "a: 86.50469779968262\n",
      "========= Tokens and probabilities for step 46 =========\n",
      "place: 0.876503624022007\n",
      "nation: 7.309035956859589\n",
      "country: 39.32882249355316\n",
      "region: 51.206862926483154\n",
      "========= Tokens and probabilities for step 47 =========\n",
      ",: 0.0014102590284892358\n",
      "or: 0.06280784728005528\n",
      "’: 0.9552939794957638\n",
      "': 98.97940158843994\n",
      "========= Tokens and probabilities for step 48 =========\n",
      "d: 7.407729984976186e-08\n",
      "S: 1.120801407239469e-06\n",
      "s: 100.0\n",
      "========= Tokens and probabilities for step 49 =========\n",
      "cultural: 3.274838998913765\n",
      "ge: 3.580648824572563\n",
      "culture: 29.44430410861969\n",
      "history: 59.95249152183533\n",
      "========= Tokens and probabilities for step 50 =========\n",
      ";: 1.875758641745051e-05\n",
      "(: 2.5363382860632555e-05\n",
      "and: 0.005994447565171868\n",
      ",: 99.99388456344604\n",
      "========= Tokens and probabilities for step 51 =========\n",
      "trad: 1.475964765995741\n",
      "culture: 12.943968176841736\n",
      "climate: 18.91161799430847\n",
      "ge: 62.10184097290039\n",
      "========= Tokens and probabilities for step 52 =========\n",
      "ology: 0.008227677608374506\n",
      "ographic: 0.04244475276209414\n",
      "ographical: 0.5227362737059593\n",
      "ography: 99.42399263381958\n",
      "========= Tokens and probabilities for step 53 =========\n",
      "influ: 2.5609752540844966e-06\n",
      "(: 6.064459512344911e-05\n",
      "and: 0.00024072573978628498\n",
      ",: 99.99969005584717\n",
      "========= Tokens and probabilities for step 54 =========\n",
      "cultural: 4.456372559070587\n",
      "climate: 21.24427556991577\n",
      "and: 24.203486740589142\n",
      "culture: 39.5871639251709\n",
      "========= Tokens and probabilities for step 55 =========\n",
      "trad: 1.6300224103815708e-05\n",
      "practices: 2.4364189243897272e-05\n",
      "and: 0.003381578062544577\n",
      ",: 99.99650716781616\n",
      "========= Tokens and probabilities for step 56 =========\n",
      "climate: 0.15145993093028665\n",
      "econom: 0.27491317596286535\n",
      "trad: 0.3553151385858655\n",
      "and: 98.64614605903625\n",
      "========= Tokens and probabilities for step 57 =========\n",
      "the: 5.791199579834938\n",
      "tradition: 11.021547764539719\n",
      "trad: 25.999543070793152\n",
      "available: 30.585670471191406\n",
      "========= Tokens and probabilities for step 58 =========\n",
      "produce: 0.11145939351990819\n",
      "local: 0.21420612465590239\n",
      "resources: 31.48217797279358\n",
      "ing: 68.13516616821289\n",
      "========= Tokens and probabilities for step 59 =========\n",
      "est: 1.1205782968204403e-07\n",
      "er: 3.93402199705406e-07\n",
      "enu: 2.5602903974686342e-05\n",
      "red: 99.99997615814209\n",
      "========= Tokens and probabilities for step 60 =========\n",
      "ientes: 6.39120173673291e-05\n",
      "ient: 0.0004886064743914176\n",
      "iens: 0.002888974813686218\n",
      "ients: 99.99644756317139\n",
      "========= Tokens and probabilities for step 61 =========\n",
      ";: 0.2824856201186776\n",
      "and: 0.29291948303580284\n",
      ".: 26.6370952129364\n",
      ",: 72.69829511642456\n",
      "========= Tokens and probabilities for step 62 =========\n",
      "so: 9.800389409065247\n",
      "which: 9.90215465426445\n",
      "and: 18.396632373332977\n",
      "making: 53.97385358810425\n",
      "========= Tokens and probabilities for step 63 =========\n",
      "its: 0.47183758579194546\n",
      "every: 6.673248112201691\n",
      "each: 20.769837498664856\n",
      "it: 70.3616201877594\n",
      "========= Tokens and probabilities for step 64 =========\n",
      "deeply: 6.224484369158745\n",
      "uniqu: 7.890548557043076\n",
      "a: 13.972511887550354\n",
      "unique: 52.11736559867859\n",
      "========= Tokens and probabilities for step 65 =========\n",
      "in: 1.0096684098243713\n",
      ".: 3.003225661814213\n",
      "to: 14.049825072288513\n",
      "and: 81.73121809959412\n",
      "========= Tokens and probabilities for step 66 =========\n",
      "cher: 6.525513529777527\n",
      "varied: 8.005602657794952\n",
      "special: 9.89665538072586\n",
      "diverse: 43.70258450508118\n",
      "========= Tokens and probabilities for step 67 =========\n",
      "world: 4.275591671466827\n",
      "around: 18.6099112033844\n",
      ".: 33.66350829601288\n",
      "across: 41.40492379665375\n",
      "========= Tokens and probabilities for step 68 =========\n",
      "various: 0.12217429466545582\n",
      "countries: 0.12534381821751595\n",
      "different: 8.558546751737595\n",
      "the: 91.159188747406\n",
      "========= Tokens and probabilities for step 69 =========\n",
      "planet: 0.008764323138166219\n",
      "global: 0.013772706734016538\n",
      "glo: 41.09519124031067\n",
      "world: 58.87871980667114\n",
      "========= Tokens and probabilities for step 70 =========\n",
      "with: 0.0034112745197489858\n",
      "': 0.1758938771672547\n",
      ":: 0.18540429882705212\n",
      ".: 99.63023662567139\n",
      "========= Tokens and probabilities for step 71 =========\n",
      ": 0.8233871310949326\n",
      "Some: 18.39134246110916\n",
      "\n",
      ": 29.114335775375366\n",
      "Here: 48.4595388174057\n",
      "========= Tokens and probabilities for step 72 =========\n",
      ",: 0.012658120249398053\n",
      "is: 0.2788802608847618\n",
      "': 0.30203876085579395\n",
      "are: 99.3966281414032\n",
      "========= Tokens and probabilities for step 73 =========\n",
      "few: 0.06349800969474018\n",
      "several: 18.335896730422974\n",
      "a: 40.63064455986023\n",
      "some: 40.73555767536163\n",
      "========= Tokens and probabilities for step 74 =========\n",
      "cu: 0.7276290562003851\n",
      "of: 0.8754879236221313\n",
      "notable: 0.962919183075428\n",
      "countries: 93.50082874298096\n",
      "========= Tokens and probabilities for step 75 =========\n",
      "known: 2.6521822437644005\n",
      "that: 12.742172181606293\n",
      "often: 32.05178380012512\n",
      "ren: 41.92845821380615\n",
      "========= Tokens and probabilities for step 76 =========\n",
      "ounced: 1.3672692311672563e-06\n",
      "owed: 1.8314446847966792e-06\n",
      "own: 0.003530679168761708\n",
      "owned: 99.9964714050293\n",
      "========= Tokens and probabilities for step 77 =========\n",
      "intern: 0.024025437596719712\n",
      "glob: 0.2230355516076088\n",
      "world: 0.3477912163361907\n",
      "for: 99.38092827796936\n",
      "========= Tokens and probabilities for step 78 =========\n",
      "distinct: 0.012809839972760528\n",
      "exception: 0.026265042833983898\n",
      "having: 0.041790088289417326\n",
      "their: 99.85243678092957\n",
      "========= Tokens and probabilities for step 79 =========\n",
      "exception: 13.226541876792908\n",
      "distinct: 14.318114519119263\n",
      "cu: 18.644018471240997\n",
      "cul: 30.928629636764526\n",
      "========= Tokens and probabilities for step 80 =========\n",
      "min: 2.6559906274314926e-06\n",
      "inar: 9.91960718010887e-06\n",
      "in: 0.0007692058716202155\n",
      "inary: 99.99922513961792\n",
      "========= Tokens and probabilities for step 81 =========\n",
      "her: 9.977580606937408\n",
      "arts: 10.845983028411865\n",
      "excell: 24.49285238981247\n",
      "trad: 40.25546312332153\n",
      "========= Tokens and probabilities for step 82 =========\n",
      "it: 1.3778459262425713e-06\n",
      "ities: 1.5943648179472802e-06\n",
      "ations: 6.385965320987452e-05\n",
      "itions: 99.99992847442627\n",
      "========= Tokens and probabilities for step 83 =========\n",
      "that: 5.736791715025902\n",
      "and: 8.249988406896591\n",
      ",: 16.0743847489357\n",
      ":: 68.75925660133362\n",
      "========= Tokens and probabilities for step 84 =========\n",
      " : 0.00013878536719857948\n",
      "Italy: 0.001004607565846527\n",
      ": 0.010486636165296659\n",
      "\n",
      ": 99.98806715011597\n",
      "========= Tokens and probabilities for step 85 =========\n",
      " : 0.00015090030274222954\n",
      "1: 0.000276539890364802\n",
      ": 0.0003376496351847891\n",
      "\n",
      ": 99.99912977218628\n",
      "========= Tokens and probabilities for step 86 =========\n",
      "France: 0.001097245421988191\n",
      "**: 0.010449963883729652\n",
      "-: 0.20603376906365156\n",
      "1: 99.77952241897583\n",
      "========= Tokens and probabilities for step 87 =========\n",
      "0: 7.37693852670418e-06\n",
      "\\.: 7.733767404261016e-06\n",
      "): 0.0003968709279433824\n",
      ".: 99.9995470046997\n",
      "========= Tokens and probabilities for step 88 =========\n",
      "Japan: 0.12039695866405964\n",
      "France: 0.4169643856585026\n",
      "Italy: 4.453694075345993\n",
      "**: 94.9927031993866\n",
      "========= Tokens and probabilities for step 89 =========\n",
      "Th: 0.08506190497428179\n",
      "J: 1.1184551753103733\n",
      "France: 10.048247873783112\n",
      "Ital: 88.56024742126465\n",
      "========= Tokens and probabilities for step 90 =========\n",
      "ina: 1.276768968327957e-08\n",
      "ia: 1.9273713292022876e-06\n",
      "ian: 0.00012078089639544487\n",
      "y: 99.99988079071045\n",
      "========= Tokens and probabilities for step 91 =========\n",
      "-: 0.006603667134186253\n",
      "(: 0.021590650430880487\n",
      ":: 0.5828744266182184\n",
      "**: 99.38099980354309\n",
      "========= Tokens and probabilities for step 92 =========\n",
      "–: 0.2456184010952711\n",
      "is: 0.9980947710573673\n",
      "-: 7.3437608778476715\n",
      ":: 91.27233028411865\n",
      "========= Tokens and probabilities for step 93 =========\n",
      "Italian: 2.0056581124663353\n",
      "Fam: 14.94179517030716\n",
      "O: 16.402965784072876\n",
      "Kn: 59.2259407043457\n",
      "========= Tokens and probabilities for step 94 =========\n",
      "ows: 7.525948717557185e-05\n",
      "nown: 7.702892617089674e-05\n",
      "owned: 0.004620081017492339\n",
      "own: 99.9950647354126\n",
      "========= Tokens and probabilities for step 95 =========\n",
      "as: 0.007183818524936214\n",
      "world: 0.5121803376823664\n",
      "glob: 0.7048372179269791\n",
      "for: 98.76084327697754\n",
      "========= Tokens and probabilities for step 96 =========\n",
      "d: 0.498412037268281\n",
      "p: 0.7142881862819195\n",
      "past: 5.053580924868584\n",
      "its: 92.88192391395569\n",
      "========= Tokens and probabilities for step 97 =========\n",
      "simple: 5.403056368231773\n",
      "rich: 14.869172871112823\n",
      "past: 21.958287060260773\n",
      "regional: 43.71727108955383\n",
      "========= Tokens and probabilities for step 98 =========\n",
      "cu: 3.1287387013435364\n",
      "special: 3.620661050081253\n",
      "d: 13.662095367908478\n",
      "divers: 72.11323380470276\n",
      "========= Tokens and probabilities for step 99 =========\n",
      "eness: 0.0010913473488471936\n",
      "ification: 0.0037868641811655834\n",
      "ities: 0.1624244498088956\n",
      "ity: 99.83246922492981\n"
     ]
    }
   ],
   "source": [
    "cct.display_list_probs(prob_iterations)"
   ]
  },
  {
   "cell_type": "markdown",
   "metadata": {
    "id": "bhngrZfo8VXU"
   },
   "source": [
    "## Demonstrate transformer encoder inference"
   ]
  },
  {
   "cell_type": "code",
   "execution_count": null,
   "metadata": {
    "colab": {
     "base_uri": "https://localhost:8080/",
     "height": 266,
     "referenced_widgets": [
      "850912ebf7674178ad9b120a981b01eb",
      "ff54d2e32b6442c995cadac681c51259",
      "ed65b1adcd7c4ebf9274a88b339e133e",
      "8a8c86863a6c46c18207f7d8d8ae3fbb",
      "5ab2e770dcdc47e49dca39a79e9c0c51",
      "37f7bb43623e4a92ad75c2e1451654db",
      "792b86ea45f744c68fd5373ce3da4af0",
      "4461d602221e424fa6f8dac2b0963ad3",
      "ec232048aecc4271a79b6eb40e37df4b",
      "ceea0377116a4a06819e93f523b7fb1e",
      "2027d45a619b4e23829ac596a7638c43",
      "8ef6aa8e2b174ce9a4cb249f0fc4e6a8",
      "5d824ab882404001a7c52cb39924bb6e",
      "43070de8f3bc421faa4471bbb31fa29f",
      "829eae4cf45442148e2e9c0e961c10e6",
      "04b6d2e35a154a1b968fa91dce63b804",
      "92ab5ec2b5264d68a85bb05d9b5e5e02",
      "1bdb478845a5452bb1cc99f0a997e428",
      "4b0992c56cbf47e5bf812df22e33f94c",
      "8305e1cda38e419c88e6c490563893c5",
      "3403162676fa49ec9418efa9192cb142",
      "9d98d7c4cd444b5188a4012bc0f7ec9b",
      "a0a4f8a2c9c840e5bc685364191ab5f9",
      "55e91332a7ee40458b591da247b761de",
      "c98fbddf9eeb4c53afabce71387fc037",
      "2db9a03d1518478798a2ee083d3583f1",
      "b757851322754f6e937b191e8e4de95b",
      "fa9e40722dd943269454b20fec226d9a",
      "6cee029826d34dd0ac92447eaa2c41f0",
      "77346f20384943ed85d3883bf070a761",
      "37dbf6fab606489689949d8e7acc9415",
      "173b2932ded243eea15b2bb6ad6366f4",
      "e34916ba28644eb485c3d0654f11ff6a",
      "d30c8c9e7d0648fb9a0b851dfa5858a3",
      "f5a2131921914faebaa2b428a9e3b666",
      "e5a3653fd94746099b081a040fd69a64",
      "06f5acf119a64b07bd7f604780787567",
      "045deb86aa12418abeac183bf9cbc839",
      "fdfaa7e80cc1444caf0c5f79a78600ce",
      "e596841e42344ea9b5dff33b303a19e1",
      "6f0bcc79fed24fe9829c2daf53767513",
      "1ef745117aa849ccb07428fae29e55f2",
      "bf228d06909140ffabd6fa84a5149405",
      "b3806ef6faa64065ac1080081a5d7dcf",
      "cec8a468e3f7422799aaa437e7e8df47",
      "c8c0ff6ead4348b4ac17b87168f095fe",
      "de8c27f2c2234081a7eeb1a5da7b1f4b",
      "b31ef39fa4da4e5f87210103baa54f19",
      "c008049c71ce48c687035ba94f1c4843",
      "33682309f3cb481fba1b8bf4db4c28cf",
      "ef33a542fc524b88b89d290b83db2111",
      "1ea35aee0edd416fa55d7d0020a08173",
      "4d7c3eafc85547e28c78e1b6f63e729f",
      "067d15bdde744b3e9f8b704c9a455a4f",
      "758cff5816c74f4a870b52e5c57ddb72"
     ]
    },
    "id": "lFcsOKmL2-89",
    "outputId": "583f2599-d886-4cd3-c834-546b025464c4"
   },
   "outputs": [
    {
     "data": {
      "application/vnd.jupyter.widget-view+json": {
       "model_id": "850912ebf7674178ad9b120a981b01eb",
       "version_major": 2,
       "version_minor": 0
      },
      "text/plain": [
       "tokenizer_config.json:   0%|          | 0.00/48.0 [00:00<?, ?B/s]"
      ]
     },
     "metadata": {},
     "output_type": "display_data"
    },
    {
     "data": {
      "application/vnd.jupyter.widget-view+json": {
       "model_id": "8ef6aa8e2b174ce9a4cb249f0fc4e6a8",
       "version_major": 2,
       "version_minor": 0
      },
      "text/plain": [
       "config.json:   0%|          | 0.00/570 [00:00<?, ?B/s]"
      ]
     },
     "metadata": {},
     "output_type": "display_data"
    },
    {
     "data": {
      "application/vnd.jupyter.widget-view+json": {
       "model_id": "a0a4f8a2c9c840e5bc685364191ab5f9",
       "version_major": 2,
       "version_minor": 0
      },
      "text/plain": [
       "vocab.txt:   0%|          | 0.00/232k [00:00<?, ?B/s]"
      ]
     },
     "metadata": {},
     "output_type": "display_data"
    },
    {
     "data": {
      "application/vnd.jupyter.widget-view+json": {
       "model_id": "d30c8c9e7d0648fb9a0b851dfa5858a3",
       "version_major": 2,
       "version_minor": 0
      },
      "text/plain": [
       "tokenizer.json:   0%|          | 0.00/466k [00:00<?, ?B/s]"
      ]
     },
     "metadata": {},
     "output_type": "display_data"
    },
    {
     "data": {
      "application/vnd.jupyter.widget-view+json": {
       "model_id": "cec8a468e3f7422799aaa437e7e8df47",
       "version_major": 2,
       "version_minor": 0
      },
      "text/plain": [
       "model.safetensors:   0%|          | 0.00/440M [00:00<?, ?B/s]"
      ]
     },
     "metadata": {},
     "output_type": "display_data"
    },
    {
     "name": "stderr",
     "output_type": "stream",
     "text": [
      "Some weights of the model checkpoint at bert-base-uncased were not used when initializing BertForMaskedLM: ['bert.pooler.dense.bias', 'bert.pooler.dense.weight', 'cls.seq_relationship.bias', 'cls.seq_relationship.weight']\n",
      "- This IS expected if you are initializing BertForMaskedLM from the checkpoint of a model trained on another task or with another architecture (e.g. initializing a BertForSequenceClassification model from a BertForPreTraining model).\n",
      "- This IS NOT expected if you are initializing BertForMaskedLM from the checkpoint of a model that you expect to be exactly identical (initializing a BertForSequenceClassification model from a BertForSequenceClassification model).\n",
      "Device set to use cuda:0\n"
     ]
    }
   ],
   "source": [
    "encoder_tokenizer, encoder_pipe, device = cct.setup_encoder(\"bert-base-uncased\")"
   ]
  },
  {
   "cell_type": "code",
   "execution_count": null,
   "metadata": {
    "colab": {
     "base_uri": "https://localhost:8080/"
    },
    "id": "_MgLoZQs9tst",
    "outputId": "60098ecc-3703-4d1c-da2c-dfa82e664446"
   },
   "outputs": [
    {
     "name": "stdout",
     "output_type": "stream",
     "text": [
      "Masked text: There [MASK] a cute dog one row in front of me [MASK] [MASK] train this morning.\n"
     ]
    }
   ],
   "source": [
    "raw_text = \"There was a cute dog one row in front of me on the train this morning.\"\n",
    "num_to_mask = 3\n",
    "\n",
    "input_txt, mask_idx = cct.mask_text(raw_text, num_to_mask)\n",
    "print(f\"Masked text: {input_txt}\")"
   ]
  },
  {
   "cell_type": "code",
   "execution_count": null,
   "metadata": {
    "id": "vmz0VgEA_Ds9"
   },
   "outputs": [],
   "source": [
    "result = encoder_pipe(input_txt)"
   ]
  },
  {
   "cell_type": "code",
   "execution_count": null,
   "metadata": {
    "colab": {
     "base_uri": "https://localhost:8080/"
    },
    "id": "hwJeiSKQ_2OH",
    "outputId": "ae1ab149-0ecb-4ce2-d5e5-aad332a1f46b"
   },
   "outputs": [
    {
     "name": "stdout",
     "output_type": "stream",
     "text": [
      "========= Tokens and probabilities for MASK 1 =========\n",
      "Token: was       , Prob: 68.90\n",
      "Token: is        , Prob: 30.93\n",
      "Token: were      , Prob:  0.01\n",
      "Token: sat       , Prob:  0.01\n",
      "Token: sits      , Prob:  0.01\n",
      "========= Tokens and probabilities for MASK 2 =========\n",
      "Token: on        , Prob: 42.83\n",
      "Token: from      , Prob:  8.88\n",
      "Token: .         , Prob:  6.88\n",
      "Token: riding    , Prob:  3.61\n",
      "Token: playing   , Prob:  2.41\n",
      "========= Tokens and probabilities for MASK 3 =========\n",
      "Token: the       , Prob: 46.53\n",
      "Token: my        , Prob: 15.95\n",
      "Token: i         , Prob: 10.96\n",
      "Token: a         , Prob:  4.11\n",
      "Token: we        , Prob:  2.76\n"
     ]
    }
   ],
   "source": [
    "cct.maskfilling_results(result)"
   ]
  },
  {
   "cell_type": "markdown",
   "metadata": {
    "id": "tSIx_5FaQf9K"
   },
   "source": [
    "## Demonstrate a diffusion model"
   ]
  },
  {
   "cell_type": "code",
   "execution_count": 8,
   "metadata": {
    "colab": {
     "base_uri": "https://localhost:8080/",
     "height": 337,
     "referenced_widgets": [
      "1fc73c4525c24f10a61f86ddaaf38a1b",
      "511f8ff168e64f8bb12d2f7309ff89bb",
      "e9dde35ce4be4813ab28b69501b06bb6",
      "95e7150a265943f1a01f48a694657cc6",
      "2b97780b8a5c404c8a1cf19b0dd296e0",
      "2e6d2cd9e10d492b92ae14bb009ee35e",
      "49afcaf701e44718948531aa11cd7146",
      "7cd01d337cf84aaf8dc130328ab76d83",
      "a31f9ac5b72e4b35b43db3ca570ee59e",
      "22c4383d3bda4a10a31f30db8d6299c2",
      "35b64a72b6694778852092918157a837",
      "a1420b1836784e54bab129581060475f",
      "ccab4d2e7a604b9aa564f41bebd6d708",
      "ba400948048845cd899f5b9affe571a8",
      "a995c8026708479aba919e43529af7f7",
      "077c0706423c43ddb7af62d836133682",
      "702270624d9743269e7d11103cccea06",
      "375ef849dc2c491ba80685e5a51ce72a",
      "79416de598cf414db81cabb6c2ca30ee",
      "d5b60341bb2a4aabb22316171d305d54",
      "99c0bcfe7e124147ba5819a11ea2ba50",
      "0548b75a36ff4429b5d7b61a09c51aa7"
     ]
    },
    "id": "jQYWAiTARZoa",
    "outputId": "b53e202c-206d-432e-e752-85e2a94eb517"
   },
   "outputs": [
    {
     "data": {
      "application/vnd.jupyter.widget-view+json": {
       "model_id": "1fc73c4525c24f10a61f86ddaaf38a1b",
       "version_major": 2,
       "version_minor": 0
      },
      "text/plain": [
       "Loading pipeline components...:   0%|          | 0/2 [00:00<?, ?it/s]"
      ]
     },
     "metadata": {},
     "output_type": "display_data"
    },
    {
     "data": {
      "application/vnd.jupyter.widget-view+json": {
       "model_id": "a1420b1836784e54bab129581060475f",
       "version_major": 2,
       "version_minor": 0
      },
      "text/plain": [
       "  0%|          | 0/25 [00:00<?, ?it/s]"
      ]
     },
     "metadata": {},
     "output_type": "display_data"
    },
    {
     "data": {
      "image/jpeg": "[encoded data removed]",
      "image/png": "[encoded data removed]",
      "text/plain": [
       "<PIL.Image.Image image mode=RGB size=64x64>"
      ]
     },
     "metadata": {},
     "output_type": "display_data"
    },
    {
     "data": {
      "image/jpeg": "[encoded data removed]",
      "image/png": "[encoded data removed]",
      "text/plain": [
       "<PIL.Image.Image image mode=RGB size=64x64>"
      ]
     },
     "metadata": {},
     "output_type": "display_data"
    },
    {
     "data": {
      "image/jpeg": "[encoded data removed]",
      "image/png": "[encoded data removed]",
      "text/plain": [
       "<PIL.Image.Image image mode=RGB size=64x64>"
      ]
     },
     "metadata": {},
     "output_type": "display_data"
    },
    {
     "data": {
      "image/jpeg": "[encoded data removed]",
      "image/png": "[encoded data removed]",
      "text/plain": [
       "<PIL.Image.Image image mode=RGB size=64x64>"
      ]
     },
     "metadata": {},
     "output_type": "display_data"
    }
   ],
   "source": [
    "cct.use_DDPM_pipeline(\"cafierom/Butterflies-pipe\")"
   ]
  },
  {
   "cell_type": "code",
   "execution_count": null,
   "metadata": {
    "id": "cjopHo-RS-5N"
   },
   "outputs": [],
   "source": []
  }
 ],
 "metadata": {
  "accelerator": "GPU",
  "colab": {
   "gpuType": "L4",
   "machine_shape": "hm",
   "provenance": []
  },
  "kernelspec": {
   "display_name": "Python 3",
   "language": "python",
   "name": "python3"
  },
  "language_info": {
   "codemirror_mode": {
    "name": "ipython",
    "version": 3
   },
   "file_extension": ".py",
   "mimetype": "text/x-python",
   "name": "python",
   "nbconvert_exporter": "python",
   "pygments_lexer": "ipython3",
   "version": "3.8.8"
  }
 },
 "nbformat": 4,
 "nbformat_minor": 1
}
